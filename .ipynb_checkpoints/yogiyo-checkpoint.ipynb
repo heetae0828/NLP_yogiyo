{
 "cells": [
  {
   "cell_type": "code",
   "execution_count": 1,
   "id": "0f9efb7c-a3c3-49b8-8157-20117cc5e0f7",
   "metadata": {},
   "outputs": [],
   "source": [
    "#웹크롤링을 통한 리뷰 분석 시작"
   ]
  },
  {
   "cell_type": "code",
   "execution_count": 9,
   "id": "ca905c5d-cbf2-4275-8ce3-fb5000c2eee8",
   "metadata": {},
   "outputs": [],
   "source": [
    "#main\n",
    "from urllib.request import urlopen\n",
    "from bs4 import BeautifulSoup as bs\n",
    "import selenium\n",
    "from selenium import webdriver\n",
    "from selenium.webdriver.chrome.options import Options\n",
    "import time\n",
    "import pandas as pd\n",
    "import requests\n",
    "import re\n",
    "from selenium.webdriver.common.by import By\n",
    "from selenium.webdriver.support.ui import WebDriverWait\n",
    "from selenium.webdriver.support import expected_conditions as EC"
   ]
  },
  {
   "cell_type": "code",
   "execution_count": 5,
   "id": "a80c18a9-245d-46da-a0c9-c8ed84a25d82",
   "metadata": {},
   "outputs": [],
   "source": [
    "#deriver option\n",
    "option = Options()\n"
   ]
  },
  {
   "cell_type": "code",
   "execution_count": 325,
   "id": "f888351e-972f-4389-b44c-fd4f39967de7",
   "metadata": {
    "scrolled": true,
    "tags": []
   },
   "outputs": [
    {
     "name": "stderr",
     "output_type": "stream",
     "text": [
      "<ipython-input-325-9099acfb8316>:8: DeprecationWarning: executable_path has been deprecated, please pass in a Service object\n",
      "  driver = webdriver.Chrome('/Users/heetae/Desktop/chromedriver',options=option)\n"
     ]
    }
   ],
   "source": [
    "#User_agent check\n",
    "#driver.execute_script('return navigator.userAgent')\n",
    "\n",
    "#do not use images\n",
    "option.add_argument('--blink-settings=imagesEnabled=false')\n",
    "\n",
    "#path driver\n",
    "driver = webdriver.Chrome('/Users/heetae/Desktop/chromedriver',options=option)\n",
    "\n",
    "#url\n",
    "url = 'https://www.yogiyo.co.kr/mobile/?gclid=CjwKCAiAlfqOBhAeEiwAYi43F8ROi2y0U2h8KlBwEuLVkCZMWDoxWDwgv4CeOBQhbvujsiqrsN_9qhoCRL0QAvD_BwE#/465083/'\n",
    "\n",
    "#url 접속\n",
    "response = requests.get(url)\n",
    "\n",
    "driver.get(url)\n",
    "driver.implicitly_wait(10)\n",
    "\n",
    "search_xpath = '//*[@id=\"content\"]/div[2]/div[1]/ul/li[2]/a'\n",
    "element = WebDriverWait(driver, 10).until(EC.presence_of_element_located((By.XPATH,search_xpath)))\n",
    "try:\n",
    "    element.click()\n",
    "except ValueError as m:\n",
    "    print(m)\n",
    "    time.sleep(1)\n",
    "    driver.find_element_by_xpath(search_xpath).click()\n",
    "    \n",
    "\n",
    "#페이지 정보 업로드\n",
    "html = driver.page_source\n",
    "html_source = bs(html, 'html.parser')\n",
    "soup = bs(html, 'html.parser')\n",
    "\n",
    "#리뷰수 파악\n",
    "num = html_source.find_all(\"strong\", attrs = {\"class\":'ng-binding'})\n",
    "review_num=[]\n",
    "for t in num:\n",
    "    review_num.append(t.string)"
   ]
  },
  {
   "cell_type": "code",
   "execution_count": 118,
   "id": "6338dca2-1f45-42d0-ba2d-ed7331557e9d",
   "metadata": {},
   "outputs": [],
   "source": [
    "#총리뷰수 구하기\n",
    "total_review_num = int(review_num[1])\n",
    "\n",
    "#xpath초기화\n",
    "search_xpath=[]\n",
    "\n",
    "#xpath 설정\n",
    "if ((total_review_num//10) >0) :\n",
    "    for i in range(total_review_num//10):\n",
    "        tcp= '//*[@id=\"review\"]/li['+str((i*10+2))+']'\n",
    "        search_xpath.append(tcp)\n",
    "    #xpath로 더보기\n",
    "    for j in range(len(search_xpath)-1):\n",
    "        try:\n",
    "            element = WebDriverWait(driver, 5).until(EC.presence_of_element_located((By.XPATH,search_xpath[j+1])))\n",
    "            element.click()\n",
    "        except ValueError as m:\n",
    "            print('error_ ',j)\n",
    "            print(m)\n",
    "            time.sleep(1)\n",
    "            driver.find_element_by_xpath(search_xpath[j+1]).click()()\n",
    "else:\n",
    "    print('pass')\n",
    "    pass"
   ]
  },
  {
   "cell_type": "code",
   "execution_count": 129,
   "id": "e7fe6786-e5d3-4b35-8947-00a8ffb0f474",
   "metadata": {
    "scrolled": true,
    "tags": []
   },
   "outputs": [
    {
     "ename": "NoSuchWindowException",
     "evalue": "Message: no such window: window was already closed\n  (Session info: chrome=97.0.4692.71)\nStacktrace:\n0   chromedriver                        0x00000001013bd408 __gxx_personality_v0 + 543364\n1   chromedriver                        0x0000000101353138 __gxx_personality_v0 + 108468\n2   chromedriver                        0x0000000100f527d8 chromedriver + 157656\n3   chromedriver                        0x0000000100f43b00 chromedriver + 97024\n4   chromedriver                        0x0000000100f3e4d0 chromedriver + 74960\n5   chromedriver                        0x0000000100faafd8 chromedriver + 520152\n6   chromedriver                        0x0000000100f77238 chromedriver + 307768\n7   chromedriver                        0x0000000101380c7c __gxx_personality_v0 + 295672\n8   chromedriver                        0x0000000101394bd8 __gxx_personality_v0 + 377428\n9   chromedriver                        0x00000001013992b0 __gxx_personality_v0 + 395564\n10  chromedriver                        0x00000001013959f8 __gxx_personality_v0 + 381044\n11  chromedriver                        0x0000000101376754 __gxx_personality_v0 + 253392\n12  chromedriver                        0x00000001013aea38 __gxx_personality_v0 + 483508\n13  chromedriver                        0x00000001013aebac __gxx_personality_v0 + 483880\n14  chromedriver                        0x00000001013c3fec __gxx_personality_v0 + 570984\n15  libsystem_pthread.dylib             0x00000001942dd240 _pthread_start + 148\n16  libsystem_pthread.dylib             0x00000001942d8024 thread_start + 8\n",
     "output_type": "error",
     "traceback": [
      "\u001b[0;31m---------------------------------------------------------------------------\u001b[0m",
      "\u001b[0;31mNoSuchWindowException\u001b[0m                     Traceback (most recent call last)",
      "\u001b[0;32m<ipython-input-129-fc64ab9af580>\u001b[0m in \u001b[0;36m<module>\u001b[0;34m\u001b[0m\n\u001b[1;32m      1\u001b[0m \u001b[0;31m#저장\u001b[0m\u001b[0;34m\u001b[0m\u001b[0;34m\u001b[0m\u001b[0;34m\u001b[0m\u001b[0m\n\u001b[0;32m----> 2\u001b[0;31m \u001b[0mhtml\u001b[0m \u001b[0;34m=\u001b[0m \u001b[0mdriver\u001b[0m\u001b[0;34m.\u001b[0m\u001b[0mpage_source\u001b[0m\u001b[0;34m\u001b[0m\u001b[0;34m\u001b[0m\u001b[0m\n\u001b[0m\u001b[1;32m      3\u001b[0m \u001b[0mhtml_source\u001b[0m \u001b[0;34m=\u001b[0m \u001b[0mbs\u001b[0m\u001b[0;34m(\u001b[0m\u001b[0mhtml\u001b[0m\u001b[0;34m,\u001b[0m \u001b[0;34m'html.parser'\u001b[0m\u001b[0;34m)\u001b[0m\u001b[0;34m\u001b[0m\u001b[0;34m\u001b[0m\u001b[0m\n\u001b[1;32m      4\u001b[0m \u001b[0msoup\u001b[0m \u001b[0;34m=\u001b[0m \u001b[0mbs\u001b[0m\u001b[0;34m(\u001b[0m\u001b[0mhtml\u001b[0m\u001b[0;34m,\u001b[0m \u001b[0;34m'html.parser'\u001b[0m\u001b[0;34m)\u001b[0m\u001b[0;34m\u001b[0m\u001b[0;34m\u001b[0m\u001b[0m\n\u001b[1;32m      5\u001b[0m \u001b[0;34m\u001b[0m\u001b[0m\n",
      "\u001b[0;32m~/opt/anaconda3/lib/python3.8/site-packages/selenium/webdriver/remote/webdriver.py\u001b[0m in \u001b[0;36mpage_source\u001b[0;34m(self)\u001b[0m\n\u001b[1;32m    924\u001b[0m                 \u001b[0mdriver\u001b[0m\u001b[0;34m.\u001b[0m\u001b[0mpage_source\u001b[0m\u001b[0;34m\u001b[0m\u001b[0;34m\u001b[0m\u001b[0m\n\u001b[1;32m    925\u001b[0m         \"\"\"\n\u001b[0;32m--> 926\u001b[0;31m         \u001b[0;32mreturn\u001b[0m \u001b[0mself\u001b[0m\u001b[0;34m.\u001b[0m\u001b[0mexecute\u001b[0m\u001b[0;34m(\u001b[0m\u001b[0mCommand\u001b[0m\u001b[0;34m.\u001b[0m\u001b[0mGET_PAGE_SOURCE\u001b[0m\u001b[0;34m)\u001b[0m\u001b[0;34m[\u001b[0m\u001b[0;34m'value'\u001b[0m\u001b[0;34m]\u001b[0m\u001b[0;34m\u001b[0m\u001b[0;34m\u001b[0m\u001b[0m\n\u001b[0m\u001b[1;32m    927\u001b[0m \u001b[0;34m\u001b[0m\u001b[0m\n\u001b[1;32m    928\u001b[0m     \u001b[0;32mdef\u001b[0m \u001b[0mclose\u001b[0m\u001b[0;34m(\u001b[0m\u001b[0mself\u001b[0m\u001b[0;34m)\u001b[0m \u001b[0;34m->\u001b[0m \u001b[0;32mNone\u001b[0m\u001b[0;34m:\u001b[0m\u001b[0;34m\u001b[0m\u001b[0;34m\u001b[0m\u001b[0m\n",
      "\u001b[0;32m~/opt/anaconda3/lib/python3.8/site-packages/selenium/webdriver/remote/webdriver.py\u001b[0m in \u001b[0;36mexecute\u001b[0;34m(self, driver_command, params)\u001b[0m\n\u001b[1;32m    422\u001b[0m         \u001b[0mresponse\u001b[0m \u001b[0;34m=\u001b[0m \u001b[0mself\u001b[0m\u001b[0;34m.\u001b[0m\u001b[0mcommand_executor\u001b[0m\u001b[0;34m.\u001b[0m\u001b[0mexecute\u001b[0m\u001b[0;34m(\u001b[0m\u001b[0mdriver_command\u001b[0m\u001b[0;34m,\u001b[0m \u001b[0mparams\u001b[0m\u001b[0;34m)\u001b[0m\u001b[0;34m\u001b[0m\u001b[0;34m\u001b[0m\u001b[0m\n\u001b[1;32m    423\u001b[0m         \u001b[0;32mif\u001b[0m \u001b[0mresponse\u001b[0m\u001b[0;34m:\u001b[0m\u001b[0;34m\u001b[0m\u001b[0;34m\u001b[0m\u001b[0m\n\u001b[0;32m--> 424\u001b[0;31m             \u001b[0mself\u001b[0m\u001b[0;34m.\u001b[0m\u001b[0merror_handler\u001b[0m\u001b[0;34m.\u001b[0m\u001b[0mcheck_response\u001b[0m\u001b[0;34m(\u001b[0m\u001b[0mresponse\u001b[0m\u001b[0;34m)\u001b[0m\u001b[0;34m\u001b[0m\u001b[0;34m\u001b[0m\u001b[0m\n\u001b[0m\u001b[1;32m    425\u001b[0m             response['value'] = self._unwrap_value(\n\u001b[1;32m    426\u001b[0m                 response.get('value', None))\n",
      "\u001b[0;32m~/opt/anaconda3/lib/python3.8/site-packages/selenium/webdriver/remote/errorhandler.py\u001b[0m in \u001b[0;36mcheck_response\u001b[0;34m(self, response)\u001b[0m\n\u001b[1;32m    245\u001b[0m                 \u001b[0malert_text\u001b[0m \u001b[0;34m=\u001b[0m \u001b[0mvalue\u001b[0m\u001b[0;34m[\u001b[0m\u001b[0;34m'alert'\u001b[0m\u001b[0;34m]\u001b[0m\u001b[0;34m.\u001b[0m\u001b[0mget\u001b[0m\u001b[0;34m(\u001b[0m\u001b[0;34m'text'\u001b[0m\u001b[0;34m)\u001b[0m\u001b[0;34m\u001b[0m\u001b[0;34m\u001b[0m\u001b[0m\n\u001b[1;32m    246\u001b[0m             \u001b[0;32mraise\u001b[0m \u001b[0mexception_class\u001b[0m\u001b[0;34m(\u001b[0m\u001b[0mmessage\u001b[0m\u001b[0;34m,\u001b[0m \u001b[0mscreen\u001b[0m\u001b[0;34m,\u001b[0m \u001b[0mstacktrace\u001b[0m\u001b[0;34m,\u001b[0m \u001b[0malert_text\u001b[0m\u001b[0;34m)\u001b[0m  \u001b[0;31m# type: ignore[call-arg]  # mypy is not smart enough here\u001b[0m\u001b[0;34m\u001b[0m\u001b[0;34m\u001b[0m\u001b[0m\n\u001b[0;32m--> 247\u001b[0;31m         \u001b[0;32mraise\u001b[0m \u001b[0mexception_class\u001b[0m\u001b[0;34m(\u001b[0m\u001b[0mmessage\u001b[0m\u001b[0;34m,\u001b[0m \u001b[0mscreen\u001b[0m\u001b[0;34m,\u001b[0m \u001b[0mstacktrace\u001b[0m\u001b[0;34m)\u001b[0m\u001b[0;34m\u001b[0m\u001b[0;34m\u001b[0m\u001b[0m\n\u001b[0m\u001b[1;32m    248\u001b[0m \u001b[0;34m\u001b[0m\u001b[0m\n\u001b[1;32m    249\u001b[0m     \u001b[0;32mdef\u001b[0m \u001b[0m_value_or_default\u001b[0m\u001b[0;34m(\u001b[0m\u001b[0mself\u001b[0m\u001b[0;34m,\u001b[0m \u001b[0mobj\u001b[0m\u001b[0;34m:\u001b[0m \u001b[0mMapping\u001b[0m\u001b[0;34m[\u001b[0m\u001b[0m_KT\u001b[0m\u001b[0;34m,\u001b[0m \u001b[0m_VT\u001b[0m\u001b[0;34m]\u001b[0m\u001b[0;34m,\u001b[0m \u001b[0mkey\u001b[0m\u001b[0;34m:\u001b[0m \u001b[0m_KT\u001b[0m\u001b[0;34m,\u001b[0m \u001b[0mdefault\u001b[0m\u001b[0;34m:\u001b[0m \u001b[0m_VT\u001b[0m\u001b[0;34m)\u001b[0m \u001b[0;34m->\u001b[0m \u001b[0m_VT\u001b[0m\u001b[0;34m:\u001b[0m\u001b[0;34m\u001b[0m\u001b[0;34m\u001b[0m\u001b[0m\n",
      "\u001b[0;31mNoSuchWindowException\u001b[0m: Message: no such window: window was already closed\n  (Session info: chrome=97.0.4692.71)\nStacktrace:\n0   chromedriver                        0x00000001013bd408 __gxx_personality_v0 + 543364\n1   chromedriver                        0x0000000101353138 __gxx_personality_v0 + 108468\n2   chromedriver                        0x0000000100f527d8 chromedriver + 157656\n3   chromedriver                        0x0000000100f43b00 chromedriver + 97024\n4   chromedriver                        0x0000000100f3e4d0 chromedriver + 74960\n5   chromedriver                        0x0000000100faafd8 chromedriver + 520152\n6   chromedriver                        0x0000000100f77238 chromedriver + 307768\n7   chromedriver                        0x0000000101380c7c __gxx_personality_v0 + 295672\n8   chromedriver                        0x0000000101394bd8 __gxx_personality_v0 + 377428\n9   chromedriver                        0x00000001013992b0 __gxx_personality_v0 + 395564\n10  chromedriver                        0x00000001013959f8 __gxx_personality_v0 + 381044\n11  chromedriver                        0x0000000101376754 __gxx_personality_v0 + 253392\n12  chromedriver                        0x00000001013aea38 __gxx_personality_v0 + 483508\n13  chromedriver                        0x00000001013aebac __gxx_personality_v0 + 483880\n14  chromedriver                        0x00000001013c3fec __gxx_personality_v0 + 570984\n15  libsystem_pthread.dylib             0x00000001942dd240 _pthread_start + 148\n16  libsystem_pthread.dylib             0x00000001942d8024 thread_start + 8\n"
     ]
    }
   ],
   "source": [
    "#저장\n",
    "html = driver.page_source\n",
    "html_source = bs(html, 'html.parser')\n",
    "soup = bs(html, 'html.parser')\n",
    "\n",
    "#review\n",
    "restaurant_re = html_source.find_all(\"p\", attrs = {\"class\":\"ng-binding\",'ng-bind-html':\"review.comment|strip_html\"})\n",
    "#review_award\n",
    "restaurant_star = html_source.find_all(\"span\", attrs = {\"class\":'total'})"
   ]
  },
  {
   "cell_type": "code",
   "execution_count": 127,
   "id": "f86a47b6-92f7-43a4-9957-9fafabeb54ba",
   "metadata": {},
   "outputs": [],
   "source": [
    "#리뷰만\n",
    "\n",
    "review_list = []\n",
    "result_list = []\n",
    "#데이터 배열\n",
    "for i in restaurant_re:\n",
    "    tmp=re.sub(r'[\\n\\r]+', '',i.string)\n",
    "    tmp=\" \".join(re.compile(r'[가-힣]+|[0-9]+').findall(tmp))\n",
    "    review_list.append(tmp)\n",
    "   "
   ]
  },
  {
   "cell_type": "code",
   "execution_count": 133,
   "id": "3530eddb-567a-41b6-9ba4-10c016a03411",
   "metadata": {},
   "outputs": [],
   "source": [
    "#별점\n",
    "star_tmp=[]\n",
    "for q in restaurant_star:\n",
    "        g=(str(str(q)).count('full ng-scope'))\n",
    "        star_tmp.append(g)"
   ]
  },
  {
   "cell_type": "code",
   "execution_count": 136,
   "id": "1ff20f4a-1456-4479-a0a2-9720940fe22a",
   "metadata": {},
   "outputs": [],
   "source": [
    "#데이터 프레임 형태로 만들기\n",
    "COLUM = 2\n",
    "ROW = len(star_tmp)\n",
    "total = [[0 for i in range(COLUM)] for j in range(ROW)] \n",
    "for i in range(len(review_list)):\n",
    "    total[i][0]=review_list[i]\n",
    "for i in range(len(star_tmp)):\n",
    "    total[i][1]=(star_tmp[i])"
   ]
  },
  {
   "cell_type": "code",
   "execution_count": 186,
   "id": "7a276e70-bc6a-48ba-a896-b732ee530200",
   "metadata": {},
   "outputs": [],
   "source": [
    "#함수\n",
    "def yogiyo(url):\n",
    "    response = requests.get(url)\n",
    "\n",
    "    driver.get(url)\n",
    "    driver.implicitly_wait(10)\n",
    "\n",
    "    search_xpath = '//*[@id=\"content\"]/div[2]/div[1]/ul/li[2]/a'\n",
    "    element = WebDriverWait(driver, 10).until(EC.presence_of_element_located((By.XPATH,search_xpath)))\n",
    "    try:\n",
    "        element.click()\n",
    "    except ValueError as m:\n",
    "        print(m)\n",
    "        time.sleep(1)\n",
    "        driver.find_element_by_xpath(search_xpath).click()\n",
    "\n",
    "\n",
    "    #페이지 정보 업로드\n",
    "    html = driver.page_source\n",
    "    html_source = bs(html, 'html.parser')\n",
    "    soup = bs(html, 'html.parser')\n",
    "\n",
    "    #리뷰수 파악\n",
    "    num = html_source.find_all(\"strong\", attrs = {\"class\":'ng-binding'})\n",
    "    review_num=[]\n",
    "    for t in num:\n",
    "        review_num.append(t.string)\n",
    "    #총리뷰수 구하기\n",
    "    total_review_num = int(review_num[1])\n",
    "\n",
    "    #xpath초기화\n",
    "    search_xpath=[]\n",
    "\n",
    "    #xpath 설정\n",
    "    if ((total_review_num//10) >0) :\n",
    "        for i in range(total_review_num//10):\n",
    "            tcp= '//*[@id=\"review\"]/li['+str((i*10+2))+']'\n",
    "            search_xpath.append(tcp)\n",
    "        #xpath로 더보기\n",
    "        for j in range(len(search_xpath)-1):\n",
    "            try:\n",
    "                element = WebDriverWait(driver, 5).until(EC.presence_of_element_located((By.XPATH,search_xpath[j+1])))\n",
    "                element.click()\n",
    "            except ValueError as m:\n",
    "                print('error_ ',j)\n",
    "                print(m)\n",
    "                time.sleep(1)\n",
    "                driver.find_element_by_xpath(search_xpath[j+1]).click()()\n",
    "    else:\n",
    "        print('pass')\n",
    "        pass\n",
    "    #저장\n",
    "    html = driver.page_source\n",
    "    html_source = bs(html, 'html.parser')\n",
    "    soup = bs(html, 'html.parser')\n",
    "\n",
    "    #review\n",
    "    restaurant_re = html_source.find_all(\"p\", attrs = {\"class\":\"ng-binding\",'ng-bind-html':\"review.comment|strip_html\"})\n",
    "    #review_award\n",
    "    restaurant_star = html_source.find_all(\"span\", attrs = {\"class\":'total'})\n",
    "    #리뷰만\n",
    "\n",
    "    review_list = []\n",
    "    result_list = []\n",
    "    #데이터 배열\n",
    "    for i in restaurant_re:\n",
    "        tmp=re.sub(r'[\\n\\r]+', '',i.string)\n",
    "        tmp=\" \".join(re.compile(r'[가-힣]+|[0-9]+').findall(tmp))\n",
    "        review_list.append(tmp)\n",
    "    #별점\n",
    "    star_tmp=[]\n",
    "    for q in restaurant_star:\n",
    "            g=(str(str(q)).count('full ng-scope'))\n",
    "            star_tmp.append(g)\n",
    "    #데이터 프레임 형태로 만들기\n",
    "    COLUM = 2\n",
    "    ROW = len(star_tmp)\n",
    "    total = [[0 for i in range(COLUM)] for j in range(ROW)] \n",
    "    for i in range(len(review_list)):\n",
    "        total[i][0]=review_list[i]\n",
    "    for i in range(len(star_tmp)):\n",
    "        total[i][1]=(star_tmp[i])\n",
    "    "
   ]
  },
  {
   "cell_type": "code",
   "execution_count": 187,
   "id": "8772486a-3577-499c-9e00-1edcf33241b7",
   "metadata": {},
   "outputs": [
    {
     "name": "stderr",
     "output_type": "stream",
     "text": [
      "<ipython-input-187-f4801d62487b>:9: DeprecationWarning: executable_path has been deprecated, please pass in a Service object\n",
      "  driver = webdriver.Chrome('/Users/heetae/Desktop/chromedriver',options=option)\n"
     ]
    },
    {
     "data": {
      "text/plain": [
       "[]"
      ]
     },
     "execution_count": 187,
     "metadata": {},
     "output_type": "execute_result"
    }
   ],
   "source": [
    "#url='https://www.yogiyo.co.kr/mobile/?gclid=CjwKCAiAlfqOBhAeEiwAYi43Fydq6Co8zJWDqTsovrBkrN3mMNxafoJ1ZjbVXWA1Ad0o_9c6Q-qV4xoCQRUQAvD_BwE#/%EC%84%9C%EC%9A%B8%ED%8A%B9%EB%B3%84%EC%8B%9C/152091/%EC%B9%98%ED%82%A8/'\n",
    "#User_agent check\n",
    "#driver.execute_script('return navigator.userAgent')\n",
    "\n",
    "#do not use images\n",
    "option.add_argument('--blink-settings=imagesEnabled=false')\n",
    "\n",
    "#path driver\n",
    "driver = webdriver.Chrome('/Users/heetae/Desktop/chromedriver',options=option)\n",
    "\n",
    "#url\n",
    "url = 'https://www.yogiyo.co.kr/mobile/?gclid=CjwKCAiAlfqOBhAeEiwAYi43Fydq6Co8zJWDqTsovrBkrN3mMNxafoJ1ZjbVXWA1Ad0o_9c6Q-qV4xoCQRUQAvD_BwE#/%EC%84%9C%EC%9A%B8%ED%8A%B9%EB%B3%84%EC%8B%9C/152091/%EC%B9%98%ED%82%A8/'\n",
    "\n",
    "#url 접속\n",
    "response = requests.get(url)\n",
    "\n",
    "driver.get(url)\n",
    "driver.implicitly_wait(10)\n",
    "\n",
    "#페이지 정보 업로드\n",
    "html = driver.page_source\n",
    "html_source = bs(html, 'html.parser')\n",
    "soup = bs(html, 'html.parser')\n",
    "\n",
    "html_source.find_all(\"div\", attrs = {\"class\":\"review_num ng-binding\",'ng-show':\"restaurant.review_count > 0\"})\n",
    "\n"
   ]
  },
  {
   "cell_type": "code",
   "execution_count": 178,
   "id": "8f563731-5b7a-41dd-8299-e84542edb5ba",
   "metadata": {
    "scrolled": true,
    "tags": []
   },
   "outputs": [],
   "source": [
    "res_num=[]\n",
    "a=html_source.find_all(\"span\", attrs = {\"class\":\"review_num ng-binding\",'ng-show':\"restaurant.review_count > 0\"})\n",
    "for i in a :\n",
    "    tmp=re.sub(r'[\\n\\r]+', '',i.get_text())\n",
    "    tmp=\" \".join(re.compile(r'[0-9]+').findall(tmp))\n",
    "    res_num.append(tmp)"
   ]
  },
  {
   "cell_type": "code",
   "execution_count": 179,
   "id": "a3e2ca32-de1d-4975-95dd-b318669ffe18",
   "metadata": {},
   "outputs": [],
   "source": [
    "res_name=[]\n",
    "a=html_source.find_all(\"div\", attrs = {\"class\":\"restaurant-name ng-binding\",'ng-bind':\"restaurant.name\"})\n",
    "for i in a :\n",
    "    tmp=re.sub(r'[\\n\\r]+', '',i.get_text())\n",
    "    res_name.append(tmp)"
   ]
  },
  {
   "cell_type": "code",
   "execution_count": 403,
   "id": "eca05186-1232-4097-a65c-ab62f082911c",
   "metadata": {
    "scrolled": true,
    "tags": []
   },
   "outputs": [
    {
     "name": "stderr",
     "output_type": "stream",
     "text": [
      "<ipython-input-403-60bf052aa136>:3: DeprecationWarning: find_elements_by_* commands are deprecated. Please use find_elements() instead\n",
      "  while len(driver.find_elements_by_xpath(search_xpath[j+1]))<0:\n"
     ]
    }
   ],
   "source": []
  },
  {
   "cell_type": "code",
   "execution_count": null,
   "id": "a4188087-1e11-412b-bd59-0c7848086b60",
   "metadata": {},
   "outputs": [],
   "source": [
    "#selector로 클릭하기."
   ]
  },
  {
   "cell_type": "markdown",
   "id": "d96eee8e-4c7b-419c-8bfa-daced5ee8b46",
   "metadata": {},
   "source": [
    "상단의 yogiyo함수는 url로 직접 가맹점에 접속해서 크롤링 하는 방법이였다.\n",
    "하지만 내가 필요한건 자동으로 여러개의 가맹점을 크롤링을 해야하기 떄문에 하기처럼 변경을 하였다."
   ]
  },
  {
   "cell_type": "code",
   "execution_count": 609,
   "id": "c678471e-03b4-484b-bd2a-e76432a8100d",
   "metadata": {
    "scrolled": true,
    "tags": []
   },
   "outputs": [
    {
     "name": "stderr",
     "output_type": "stream",
     "text": [
      "<ipython-input-609-f0fe05cda45b>:10: DeprecationWarning: executable_path has been deprecated, please pass in a Service object\n",
      "  driver = webdriver.Chrome('/Users/heetae/Desktop/chromedriver',options=option)\n"
     ]
    },
    {
     "name": "stdout",
     "output_type": "stream",
     "text": [
      "더보기시작\n"
     ]
    },
    {
     "name": "stderr",
     "output_type": "stream",
     "text": [
      "<ipython-input-609-f0fe05cda45b>:87: DeprecationWarning: find_elements_by_* commands are deprecated. Please use find_elements() instead\n",
      "  while len(driver.find_elements_by_xpath(search_xpath[j+1]))<0:\n",
      "<ipython-input-609-f0fe05cda45b>:91: DeprecationWarning: find_elements_by_* commands are deprecated. Please use find_elements() instead\n",
      "  while len(driver.find_elements_by_xpath(search_xpath[j+1]))<0:\n",
      "<ipython-input-609-f0fe05cda45b>:51: DeprecationWarning: find_elements_by_* commands are deprecated. Please use find_elements() instead\n",
      "  while len(driver.find_elements_by_xpath(search_xpath))<0:\n"
     ]
    },
    {
     "name": "stdout",
     "output_type": "stream",
     "text": [
      "더보기시작\n",
      "더보기시작\n",
      "더보기시작\n",
      "더보기시작\n",
      "더보기시작\n",
      "더보기시작\n",
      "더보기시작\n",
      "더보기시작\n",
      "더보기시작\n",
      "더보기시작\n",
      "더보기시작\n",
      "더보기시작\n",
      "더보기시작\n",
      "더보기시작\n",
      "더보기시작\n",
      "더보기시작\n",
      "더보기시작\n",
      "더보기시작\n",
      "더보기시작\n",
      "더보기시작\n",
      "더보기시작\n",
      "더보기시작\n",
      "더보기시작\n",
      "더보기시작\n",
      "더보기시작\n",
      "더보기시작\n",
      "더보기시작\n",
      "더보기시작\n",
      "더보기시작\n",
      "더보기시작\n",
      "더보기시작\n",
      "더보기시작\n",
      "더보기시작\n",
      "더보기시작\n",
      "더보기시작\n",
      "더보기시작\n",
      "더보기시작\n",
      "더보기시작\n",
      "더보기시작\n",
      "더보기시작\n",
      "더보기시작\n",
      "더보기시작\n",
      "더보기시작\n",
      "더보기시작\n",
      "더보기시작\n",
      "더보기시작\n",
      "더보기시작\n",
      "더보기시작\n",
      "더보기시작\n",
      "더보기시작\n",
      "더보기시작\n",
      "더보기시작\n",
      "더보기시작\n"
     ]
    },
    {
     "ename": "JavascriptException",
     "evalue": "Message: javascript error: Cannot read properties of null (reading 'click')\n  (Session info: chrome=97.0.4692.71)\nStacktrace:\n0   chromedriver                        0x00000001048e5408 __gxx_personality_v0 + 543364\n1   chromedriver                        0x000000010487b138 __gxx_personality_v0 + 108468\n2   chromedriver                        0x000000010447a7d8 chromedriver + 157656\n3   chromedriver                        0x000000010447d258 chromedriver + 168536\n4   chromedriver                        0x000000010447d0c4 chromedriver + 168132\n5   chromedriver                        0x000000010447da4c chromedriver + 170572\n6   chromedriver                        0x00000001044d4270 chromedriver + 524912\n7   chromedriver                        0x00000001044d37d4 chromedriver + 522196\n8   chromedriver                        0x000000010449f238 chromedriver + 307768\n9   chromedriver                        0x00000001048a8c7c __gxx_personality_v0 + 295672\n10  chromedriver                        0x00000001048bcbd8 __gxx_personality_v0 + 377428\n11  chromedriver                        0x00000001048c12b0 __gxx_personality_v0 + 395564\n12  chromedriver                        0x00000001048bd9f8 __gxx_personality_v0 + 381044\n13  chromedriver                        0x000000010489e754 __gxx_personality_v0 + 253392\n14  chromedriver                        0x00000001048d6a38 __gxx_personality_v0 + 483508\n15  chromedriver                        0x00000001048d6bac __gxx_personality_v0 + 483880\n16  chromedriver                        0x00000001048ebfec __gxx_personality_v0 + 570984\n17  libsystem_pthread.dylib             0x00000001942dd240 _pthread_start + 148\n18  libsystem_pthread.dylib             0x00000001942d8024 thread_start + 8\n",
     "output_type": "error",
     "traceback": [
      "\u001b[0;31m---------------------------------------------------------------------------\u001b[0m",
      "\u001b[0;31mJavascriptException\u001b[0m                       Traceback (most recent call last)",
      "\u001b[0;32m<ipython-input-609-f0fe05cda45b>\u001b[0m in \u001b[0;36m<module>\u001b[0;34m\u001b[0m\n\u001b[1;32m     39\u001b[0m \u001b[0;32mfor\u001b[0m \u001b[0mi\u001b[0m \u001b[0;32min\u001b[0m \u001b[0mrange\u001b[0m\u001b[0;34m(\u001b[0m\u001b[0;36m10000\u001b[0m\u001b[0;34m)\u001b[0m\u001b[0;34m:\u001b[0m\u001b[0;34m\u001b[0m\u001b[0;34m\u001b[0m\u001b[0m\n\u001b[1;32m     40\u001b[0m     \u001b[0;32mtry\u001b[0m\u001b[0;34m:\u001b[0m\u001b[0;34m\u001b[0m\u001b[0;34m\u001b[0m\u001b[0m\n\u001b[0;32m---> 41\u001b[0;31m         \u001b[0mdriver\u001b[0m\u001b[0;34m.\u001b[0m\u001b[0mexecute_script\u001b[0m\u001b[0;34m(\u001b[0m\u001b[0mselector_tmp\u001b[0m\u001b[0;34m[\u001b[0m\u001b[0mi\u001b[0m\u001b[0;34m]\u001b[0m\u001b[0;34m)\u001b[0m\u001b[0;34m\u001b[0m\u001b[0;34m\u001b[0m\u001b[0m\n\u001b[0m\u001b[1;32m     42\u001b[0m \u001b[0;34m\u001b[0m\u001b[0m\n\u001b[1;32m     43\u001b[0m         \u001b[0msearch_xpath\u001b[0m \u001b[0;34m=\u001b[0m \u001b[0;34m'//*[@id=\"content\"]/div[2]/div[1]/ul/li[2]/a'\u001b[0m\u001b[0;34m\u001b[0m\u001b[0;34m\u001b[0m\u001b[0m\n",
      "\u001b[0;32m~/opt/anaconda3/lib/python3.8/site-packages/selenium/webdriver/remote/webdriver.py\u001b[0m in \u001b[0;36mexecute_script\u001b[0;34m(self, script, *args)\u001b[0m\n\u001b[1;32m    876\u001b[0m         \u001b[0mcommand\u001b[0m \u001b[0;34m=\u001b[0m \u001b[0mCommand\u001b[0m\u001b[0;34m.\u001b[0m\u001b[0mW3C_EXECUTE_SCRIPT\u001b[0m\u001b[0;34m\u001b[0m\u001b[0;34m\u001b[0m\u001b[0m\n\u001b[1;32m    877\u001b[0m \u001b[0;34m\u001b[0m\u001b[0m\n\u001b[0;32m--> 878\u001b[0;31m         return self.execute(command, {\n\u001b[0m\u001b[1;32m    879\u001b[0m             \u001b[0;34m'script'\u001b[0m\u001b[0;34m:\u001b[0m \u001b[0mscript\u001b[0m\u001b[0;34m,\u001b[0m\u001b[0;34m\u001b[0m\u001b[0;34m\u001b[0m\u001b[0m\n\u001b[1;32m    880\u001b[0m             'args': converted_args})['value']\n",
      "\u001b[0;32m~/opt/anaconda3/lib/python3.8/site-packages/selenium/webdriver/remote/webdriver.py\u001b[0m in \u001b[0;36mexecute\u001b[0;34m(self, driver_command, params)\u001b[0m\n\u001b[1;32m    422\u001b[0m         \u001b[0mresponse\u001b[0m \u001b[0;34m=\u001b[0m \u001b[0mself\u001b[0m\u001b[0;34m.\u001b[0m\u001b[0mcommand_executor\u001b[0m\u001b[0;34m.\u001b[0m\u001b[0mexecute\u001b[0m\u001b[0;34m(\u001b[0m\u001b[0mdriver_command\u001b[0m\u001b[0;34m,\u001b[0m \u001b[0mparams\u001b[0m\u001b[0;34m)\u001b[0m\u001b[0;34m\u001b[0m\u001b[0;34m\u001b[0m\u001b[0m\n\u001b[1;32m    423\u001b[0m         \u001b[0;32mif\u001b[0m \u001b[0mresponse\u001b[0m\u001b[0;34m:\u001b[0m\u001b[0;34m\u001b[0m\u001b[0;34m\u001b[0m\u001b[0m\n\u001b[0;32m--> 424\u001b[0;31m             \u001b[0mself\u001b[0m\u001b[0;34m.\u001b[0m\u001b[0merror_handler\u001b[0m\u001b[0;34m.\u001b[0m\u001b[0mcheck_response\u001b[0m\u001b[0;34m(\u001b[0m\u001b[0mresponse\u001b[0m\u001b[0;34m)\u001b[0m\u001b[0;34m\u001b[0m\u001b[0;34m\u001b[0m\u001b[0m\n\u001b[0m\u001b[1;32m    425\u001b[0m             response['value'] = self._unwrap_value(\n\u001b[1;32m    426\u001b[0m                 response.get('value', None))\n",
      "\u001b[0;32m~/opt/anaconda3/lib/python3.8/site-packages/selenium/webdriver/remote/errorhandler.py\u001b[0m in \u001b[0;36mcheck_response\u001b[0;34m(self, response)\u001b[0m\n\u001b[1;32m    245\u001b[0m                 \u001b[0malert_text\u001b[0m \u001b[0;34m=\u001b[0m \u001b[0mvalue\u001b[0m\u001b[0;34m[\u001b[0m\u001b[0;34m'alert'\u001b[0m\u001b[0;34m]\u001b[0m\u001b[0;34m.\u001b[0m\u001b[0mget\u001b[0m\u001b[0;34m(\u001b[0m\u001b[0;34m'text'\u001b[0m\u001b[0;34m)\u001b[0m\u001b[0;34m\u001b[0m\u001b[0;34m\u001b[0m\u001b[0m\n\u001b[1;32m    246\u001b[0m             \u001b[0;32mraise\u001b[0m \u001b[0mexception_class\u001b[0m\u001b[0;34m(\u001b[0m\u001b[0mmessage\u001b[0m\u001b[0;34m,\u001b[0m \u001b[0mscreen\u001b[0m\u001b[0;34m,\u001b[0m \u001b[0mstacktrace\u001b[0m\u001b[0;34m,\u001b[0m \u001b[0malert_text\u001b[0m\u001b[0;34m)\u001b[0m  \u001b[0;31m# type: ignore[call-arg]  # mypy is not smart enough here\u001b[0m\u001b[0;34m\u001b[0m\u001b[0;34m\u001b[0m\u001b[0m\n\u001b[0;32m--> 247\u001b[0;31m         \u001b[0;32mraise\u001b[0m \u001b[0mexception_class\u001b[0m\u001b[0;34m(\u001b[0m\u001b[0mmessage\u001b[0m\u001b[0;34m,\u001b[0m \u001b[0mscreen\u001b[0m\u001b[0;34m,\u001b[0m \u001b[0mstacktrace\u001b[0m\u001b[0;34m)\u001b[0m\u001b[0;34m\u001b[0m\u001b[0;34m\u001b[0m\u001b[0m\n\u001b[0m\u001b[1;32m    248\u001b[0m \u001b[0;34m\u001b[0m\u001b[0m\n\u001b[1;32m    249\u001b[0m     \u001b[0;32mdef\u001b[0m \u001b[0m_value_or_default\u001b[0m\u001b[0;34m(\u001b[0m\u001b[0mself\u001b[0m\u001b[0;34m,\u001b[0m \u001b[0mobj\u001b[0m\u001b[0;34m:\u001b[0m \u001b[0mMapping\u001b[0m\u001b[0;34m[\u001b[0m\u001b[0m_KT\u001b[0m\u001b[0;34m,\u001b[0m \u001b[0m_VT\u001b[0m\u001b[0;34m]\u001b[0m\u001b[0;34m,\u001b[0m \u001b[0mkey\u001b[0m\u001b[0;34m:\u001b[0m \u001b[0m_KT\u001b[0m\u001b[0;34m,\u001b[0m \u001b[0mdefault\u001b[0m\u001b[0;34m:\u001b[0m \u001b[0m_VT\u001b[0m\u001b[0;34m)\u001b[0m \u001b[0;34m->\u001b[0m \u001b[0m_VT\u001b[0m\u001b[0;34m:\u001b[0m\u001b[0;34m\u001b[0m\u001b[0;34m\u001b[0m\u001b[0m\n",
      "\u001b[0;31mJavascriptException\u001b[0m: Message: javascript error: Cannot read properties of null (reading 'click')\n  (Session info: chrome=97.0.4692.71)\nStacktrace:\n0   chromedriver                        0x00000001048e5408 __gxx_personality_v0 + 543364\n1   chromedriver                        0x000000010487b138 __gxx_personality_v0 + 108468\n2   chromedriver                        0x000000010447a7d8 chromedriver + 157656\n3   chromedriver                        0x000000010447d258 chromedriver + 168536\n4   chromedriver                        0x000000010447d0c4 chromedriver + 168132\n5   chromedriver                        0x000000010447da4c chromedriver + 170572\n6   chromedriver                        0x00000001044d4270 chromedriver + 524912\n7   chromedriver                        0x00000001044d37d4 chromedriver + 522196\n8   chromedriver                        0x000000010449f238 chromedriver + 307768\n9   chromedriver                        0x00000001048a8c7c __gxx_personality_v0 + 295672\n10  chromedriver                        0x00000001048bcbd8 __gxx_personality_v0 + 377428\n11  chromedriver                        0x00000001048c12b0 __gxx_personality_v0 + 395564\n12  chromedriver                        0x00000001048bd9f8 __gxx_personality_v0 + 381044\n13  chromedriver                        0x000000010489e754 __gxx_personality_v0 + 253392\n14  chromedriver                        0x00000001048d6a38 __gxx_personality_v0 + 483508\n15  chromedriver                        0x00000001048d6bac __gxx_personality_v0 + 483880\n16  chromedriver                        0x00000001048ebfec __gxx_personality_v0 + 570984\n17  libsystem_pthread.dylib             0x00000001942dd240 _pthread_start + 148\n18  libsystem_pthread.dylib             0x00000001942d8024 thread_start + 8\n"
     ]
    }
   ],
   "source": [
    "#이것만 된다면\n",
    "COLUM = 2\n",
    "ROW = 1\n",
    "total = [[0 for r in range(COLUM)] for j in range(ROW)] \n",
    "        \n",
    "#do not use images\n",
    "option.add_argument('--blink-settings=imagesEnabled=false')\n",
    "\n",
    "#driver path \n",
    "driver = webdriver.Chrome('/Users/heetae/Desktop/chromedriver',options=option)\n",
    "\n",
    "#url 접속\n",
    "url='https://www.yogiyo.co.kr/mobile/?gclid=CjwKCAiAlfqOBhAeEiwAYi43F8ROi2y0U2h8KlBwEuLVkCZMWDoxWDwgv4CeOBQhbvujsiqrsN_9qhoCRL0QAvD_BwE#/%EC%84%9C%EC%9A%B8%ED%8A%B9%EB%B3%84%EC%8B%9C/152091/%EC%B9%98%ED%82%A8/'\n",
    "#yogiyo_selector(url)\n",
    "response = requests.get(url)\n",
    "\n",
    "driver.get(url)\n",
    "driver.implicitly_wait(10)\n",
    "time.sleep(2)\n",
    "driver.execute_script(\"location.reload()\")\n",
    "time.sleep(2)    \n",
    "selector_tmp = []\n",
    "\n",
    "tmp1='document.querySelector('\n",
    "tmp2=\"'#content > div > div:nth-child(4) > div > div.restaurant-list > div:nth-child(\"\n",
    "tmp3=tmp1+tmp2\n",
    "tmp4=\") > div')\"\n",
    "tmp5=\".click()\"\n",
    "\n",
    "for i in range(10000):\n",
    "    tmp6=str(i+1)\n",
    "    tmp=tmp3+tmp6+tmp4+tmp5\n",
    "    selector_tmp.append(tmp)\n",
    "\n",
    "selector_find=[]\n",
    "for i in range(10000):\n",
    "    selector_find.append(\"#content > div > div:nth-child(4 > div > div.restaurant-list > div:nth-child(\"+str(i+1)+\") > div\")\n",
    "\n",
    "for i in range(10000):\n",
    "    try:\n",
    "        driver.execute_script(selector_tmp[i])\n",
    "\n",
    "        search_xpath = '//*[@id=\"content\"]/div[2]/div[1]/ul/li[2]/a'\n",
    "        element = WebDriverWait(driver, 10).until(EC.presence_of_element_located((By.XPATH,search_xpath)))\n",
    "#        while len(driver.find_elements_by_xpath(search_xpath))<0:\n",
    "#            time.sleep(1)\n",
    "#        element.click()\n",
    "        try:\n",
    "            element.click()\n",
    "        except:\n",
    "            while len(driver.find_elements_by_xpath(search_xpath))<0: \n",
    "                time.sleep(1.001)\n",
    "            driver.find_element_by_tag_name('body').send_keys(Keys.PAGE_DOWN)\n",
    "            time.sleep(2)\n",
    "            element.click()\n",
    "        '''\n",
    "        except ValueError as m:\n",
    "            time.sleep(1)\n",
    "            driver.find_element_by_xpath(search_xpath).click()\n",
    "            '''\n",
    "\n",
    "        #페이지 정보 업로드\n",
    "        html = driver.page_source\n",
    "        html_source = bs(html, 'html.parser')\n",
    "        soup = bs(html, 'html.parser')\n",
    "\n",
    "        #리뷰수 파악\n",
    "        num = html_source.find_all(\"strong\", attrs = {\"class\":'ng-binding'})\n",
    "        review_num=[]\n",
    "        for t in num:\n",
    "            review_num.append(t.string)\n",
    "        #총리뷰수 구하기\n",
    "        total_review_num = int(review_num[1])\n",
    "\n",
    "        #xpath초기화\n",
    "        search_xpath=[]\n",
    "\n",
    "        #xpath 설정\n",
    "        if ((total_review_num//10) >0) :\n",
    "            for k in range(total_review_num//10):\n",
    "                xpath_tmp= '//*[@id=\"review\"]/li['+str((k*10+2))+']'\n",
    "                search_xpath.append(xpath_tmp)\n",
    "            #xpath로 더보기\n",
    "            print('더보기시작')\n",
    "            for j in range(len(search_xpath)-1):\n",
    "                try:\n",
    "\n",
    "                    element = WebDriverWait(driver, 5).until(EC.presence_of_element_located((By.XPATH,search_xpath[j+1])))\n",
    "                    while len(driver.find_elements_by_xpath(search_xpath[j+1]))<0:\n",
    "                        time.sleep(0.001)\n",
    "                    element.click()\n",
    "                except:\n",
    "                    while len(driver.find_elements_by_xpath(search_xpath[j+1]))<0:\n",
    "                        time.sleep(0.001)\n",
    "                    element.click()\n",
    "              \n",
    "\n",
    "        #저장\n",
    "        html = driver.page_source\n",
    "        html_source = bs(html, 'html.parser')\n",
    "        soup = bs(html, 'html.parser')\n",
    "\n",
    "        #review\n",
    "        restaurant_re = html_source.find_all(\"p\", attrs = {\"class\":\"ng-binding\",'ng-bind-html':\"review.comment|strip_html\"})\n",
    "        #review_award\n",
    "        restaurant_star = html_source.find_all(\"span\", attrs = {\"class\":'total'})\n",
    "        #리뷰만\n",
    "\n",
    "        review_list = []\n",
    "        result_list = []\n",
    "        #데이터 배열\n",
    "        for r in restaurant_re:\n",
    "            tmp=re.sub(r'[\\n\\r]+', '',r.string)\n",
    "            tmp=\" \".join(re.compile(r'[가-힣]+|[0-9]+').findall(tmp))\n",
    "            review_list.append(tmp)\n",
    "        #별점\n",
    "        star_tmp=[]\n",
    "        for q in restaurant_star:\n",
    "                g=(str(str(q)).count('full ng-scope'))\n",
    "                star_tmp.append(g)\n",
    "        #데이터 프레임 형태로 만들기\n",
    "        COLUM = 2\n",
    "        ROW = len(star_tmp)\n",
    "        total_tmp = [[0 for r in range(COLUM)] for j in range(ROW)] \n",
    "        for r in range(len(review_list)):\n",
    "            total_tmp[r][0]=review_list[r]\n",
    "        for r in range(len(star_tmp)):\n",
    "            total_tmp[r][1]=(star_tmp[r])\n",
    "        total.append(total_tmp)  \n",
    "        driver.get(url)\n",
    "        time.sleep(3)\n",
    "    except ValueError as m:\n",
    "        print(m)\n",
    "        break\n"
   ]
  },
  {
   "cell_type": "code",
   "execution_count": 614,
   "id": "4a9265c1-7785-4f56-a410-f6ea24cb427b",
   "metadata": {
    "scrolled": true,
    "tags": []
   },
   "outputs": [
    {
     "data": {
      "text/plain": [
       "61"
      ]
     },
     "execution_count": 614,
     "metadata": {},
     "output_type": "execute_result"
    }
   ],
   "source": [
    "len(total[:])"
   ]
  },
  {
   "cell_type": "code",
   "execution_count": 616,
   "id": "65e7ac96-f1a9-4035-bda1-c42f726c806f",
   "metadata": {
    "scrolled": true,
    "tags": []
   },
   "outputs": [],
   "source": [
    "#del total[0]\n",
    "df=pd.DataFrame()\n",
    "for i in range(len(total[:])):\n",
    "    df_tmp=pd.DataFrame(data=total[i][:][:],columns=['리뷰','별점'])\n",
    "    df=pd.concat([df,df_tmp])\n"
   ]
  },
  {
   "cell_type": "code",
   "execution_count": 619,
   "id": "8264a569-7160-4f3b-936e-de0270ed0a2f",
   "metadata": {},
   "outputs": [],
   "source": [
    "df_tmp1=pd.concat([df,df,df])"
   ]
  },
  {
   "cell_type": "code",
   "execution_count": 626,
   "id": "8857bbf3-4ffa-43bb-a02a-d7ed047fd192",
   "metadata": {},
   "outputs": [
    {
     "name": "stdout",
     "output_type": "stream",
     "text": [
      "(46327, 2)\n",
      "<class 'pandas.core.frame.DataFrame'>\n",
      "Int64Index: 46327 entries, 0 to 1059\n",
      "Data columns (total 2 columns):\n",
      " #   Column  Non-Null Count  Dtype \n",
      "---  ------  --------------  ----- \n",
      " 0   리뷰      46327 non-null  object\n",
      " 1   별점      46327 non-null  object\n",
      "dtypes: object(2)\n",
      "memory usage: 1.1+ MB\n"
     ]
    }
   ],
   "source": [
    "#전체 데이터와 결측치 확인\n",
    "print(df.shape)\n",
    "df.info()"
   ]
  },
  {
   "cell_type": "code",
   "execution_count": 625,
   "id": "78fee5d8-3988-457e-a94b-f707e72fe5a2",
   "metadata": {},
   "outputs": [
    {
     "name": "stdout",
     "output_type": "stream",
     "text": [
      "5    38203\n",
      "4     5146\n",
      "3     1639\n",
      "1      851\n",
      "2      488\n",
      "Name: 별점, dtype: int64\n"
     ]
    },
    {
     "data": {
      "text/plain": [
       "<AxesSubplot:>"
      ]
     },
     "execution_count": 625,
     "metadata": {},
     "output_type": "execute_result"
    },
    {
     "data": {
      "image/png": "[encoded data removed]",
      "text/plain": [
       "<Figure size 432x288 with 1 Axes>"
      ]
     },
     "metadata": {
      "needs_background": "light"
     },
     "output_type": "display_data"
    }
   ],
   "source": [
    "print(df['별점'].value_counts())\n",
    "df['별점'].hist()"
   ]
  },
  {
   "cell_type": "code",
   "execution_count": 733,
   "id": "d9d7991d-854f-4619-9431-92e25d62c27b",
   "metadata": {},
   "outputs": [
    {
     "data": {
      "text/html": [
       "<div>\n",
       "<style scoped>\n",
       "    .dataframe tbody tr th:only-of-type {\n",
       "        vertical-align: middle;\n",
       "    }\n",
       "\n",
       "    .dataframe tbody tr th {\n",
       "        vertical-align: top;\n",
       "    }\n",
       "\n",
       "    .dataframe thead th {\n",
       "        text-align: right;\n",
       "    }\n",
       "</style>\n",
       "<table border=\"1\" class=\"dataframe\">\n",
       "  <thead>\n",
       "    <tr style=\"text-align: right;\">\n",
       "      <th></th>\n",
       "      <th>리뷰</th>\n",
       "      <th>별점</th>\n",
       "    </tr>\n",
       "  </thead>\n",
       "  <tbody>\n",
       "    <tr>\n",
       "      <th>0</th>\n",
       "      <td>저번에 리뷰이벤트참여 안적어서 못먹었던 떡볶이 오늘 맛나게 먹었어용 치킨도 물론 맛...</td>\n",
       "      <td>5</td>\n",
       "    </tr>\n",
       "    <tr>\n",
       "      <th>1</th>\n",
       "      <td>첨 시켜먹어보는대 너무 맛있게 잘 먹었습니다</td>\n",
       "      <td>5</td>\n",
       "    </tr>\n",
       "    <tr>\n",
       "      <th>2</th>\n",
       "      <td>후라이드는 역시 치킨플러스지요 기본 염지가 잘된 진짜 후라이드맛집 서비스로 치즈스틱...</td>\n",
       "      <td>5</td>\n",
       "    </tr>\n",
       "    <tr>\n",
       "      <th>3</th>\n",
       "      <td>배달이 약간 오래 걸리긴 했지만치킨 떡볶이 둘다 맛있어서 좋았네요</td>\n",
       "      <td>5</td>\n",
       "    </tr>\n",
       "    <tr>\n",
       "      <th>4</th>\n",
       "      <td>너무 맛있어요 떡볶이도 맛있고 날씨도 추운데 따뜻하고 빠르게 배달 왔어요</td>\n",
       "      <td>5</td>\n",
       "    </tr>\n",
       "    <tr>\n",
       "      <th>...</th>\n",
       "      <td>...</td>\n",
       "      <td>...</td>\n",
       "    </tr>\n",
       "    <tr>\n",
       "      <th>46322</th>\n",
       "      <td>배달도 빠르고 맛있어요</td>\n",
       "      <td>5</td>\n",
       "    </tr>\n",
       "    <tr>\n",
       "      <th>46323</th>\n",
       "      <td>잘먹었습니다 달력도 감사합니다 항상 5 동점만 먹어서 다른곳보다 양도 많은거 같아요</td>\n",
       "      <td>5</td>\n",
       "    </tr>\n",
       "    <tr>\n",
       "      <th>46324</th>\n",
       "      <td>리뷰쓰려는데 왜자꾸 리뷰내용에 개인정보쓰면 안된다고 하는거죠 게속 재시도 해봣는데도...</td>\n",
       "      <td>5</td>\n",
       "    </tr>\n",
       "    <tr>\n",
       "      <th>46325</th>\n",
       "      <td>치킨 맛있는건 정말 보증 하는데요 오늘 배달이 조금 아쉬워요 치킨 소스가 다 넘쳐서...</td>\n",
       "      <td>5</td>\n",
       "    </tr>\n",
       "    <tr>\n",
       "      <th>46326</th>\n",
       "      <td>여기는 콜라를 따로 안주네요 안산에서 일하셨더길래 반가웠는데 콜라 올줄날고 없어서 ...</td>\n",
       "      <td>2</td>\n",
       "    </tr>\n",
       "  </tbody>\n",
       "</table>\n",
       "<p>46327 rows × 2 columns</p>\n",
       "</div>"
      ],
      "text/plain": [
       "                                                      리뷰  별점\n",
       "0      저번에 리뷰이벤트참여 안적어서 못먹었던 떡볶이 오늘 맛나게 먹었어용 치킨도 물론 맛...   5\n",
       "1                               첨 시켜먹어보는대 너무 맛있게 잘 먹었습니다   5\n",
       "2      후라이드는 역시 치킨플러스지요 기본 염지가 잘된 진짜 후라이드맛집 서비스로 치즈스틱...   5\n",
       "3                   배달이 약간 오래 걸리긴 했지만치킨 떡볶이 둘다 맛있어서 좋았네요   5\n",
       "4               너무 맛있어요 떡볶이도 맛있고 날씨도 추운데 따뜻하고 빠르게 배달 왔어요   5\n",
       "...                                                  ...  ..\n",
       "46322                                       배달도 빠르고 맛있어요   5\n",
       "46323     잘먹었습니다 달력도 감사합니다 항상 5 동점만 먹어서 다른곳보다 양도 많은거 같아요   5\n",
       "46324  리뷰쓰려는데 왜자꾸 리뷰내용에 개인정보쓰면 안된다고 하는거죠 게속 재시도 해봣는데도...   5\n",
       "46325  치킨 맛있는건 정말 보증 하는데요 오늘 배달이 조금 아쉬워요 치킨 소스가 다 넘쳐서...   5\n",
       "46326  여기는 콜라를 따로 안주네요 안산에서 일하셨더길래 반가웠는데 콜라 올줄날고 없어서 ...   2\n",
       "\n",
       "[46327 rows x 2 columns]"
      ]
     },
     "execution_count": 733,
     "metadata": {},
     "output_type": "execute_result"
    }
   ],
   "source": [
    "df_tmp=df\n",
    "index_no=df_tmp[df_tmp['리뷰']==''].index\n",
    "df_tmp.drop(index_no)"
   ]
  },
  {
   "cell_type": "code",
   "execution_count": 630,
   "id": "a6c03acc-da9e-4240-82bb-76ee7053f6f2",
   "metadata": {},
   "outputs": [],
   "source": [
    "#혹시몰라 저장\n",
    "df.to_csv('./df.csv',index=False)"
   ]
  },
  {
   "cell_type": "code",
   "execution_count": 725,
   "id": "f69d9639-87ce-4030-ae4c-350467eea9b5",
   "metadata": {},
   "outputs": [],
   "source": [
    "df= pd.read_csv('./df_tmp.csv')"
   ]
  },
  {
   "cell_type": "code",
   "execution_count": 724,
   "id": "7802cd02-6210-4cd7-bb74-25c3f319675b",
   "metadata": {},
   "outputs": [
    {
     "name": "stdout",
     "output_type": "stream",
     "text": [
      "<class 'pandas.core.frame.DataFrame'>\n",
      "RangeIndex: 46327 entries, 0 to 46326\n",
      "Data columns (total 2 columns):\n",
      " #   Column  Non-Null Count  Dtype \n",
      "---  ------  --------------  ----- \n",
      " 0   리뷰      45964 non-null  object\n",
      " 1   별점      46327 non-null  int64 \n",
      "dtypes: int64(1), object(1)\n",
      "memory usage: 724.0+ KB\n"
     ]
    }
   ],
   "source": [
    "df.info()"
   ]
  },
  {
   "cell_type": "code",
   "execution_count": 705,
   "id": "7e0b875a-8b25-4e8d-9fe8-514de4ab9d20",
   "metadata": {},
   "outputs": [],
   "source": [
    "# 점수를 기준으로 긍정(4,5)과 부정(1-3)으로 변환\n",
    "def rating_to_label(rating):\n",
    "    if rating > 2:\n",
    "        return 1\n",
    "    else:\n",
    "        return 0\n",
    "    \n",
    "df['y'] = df['별점'].apply(lambda x: rating_to_label(x))"
   ]
  },
  {
   "cell_type": "code",
   "execution_count": 723,
   "id": "537c9094-1d34-4e8f-946c-292e9560e153",
   "metadata": {},
   "outputs": [
    {
     "data": {
      "text/html": [
       "<div>\n",
       "<style scoped>\n",
       "    .dataframe tbody tr th:only-of-type {\n",
       "        vertical-align: middle;\n",
       "    }\n",
       "\n",
       "    .dataframe tbody tr th {\n",
       "        vertical-align: top;\n",
       "    }\n",
       "\n",
       "    .dataframe thead th {\n",
       "        text-align: right;\n",
       "    }\n",
       "</style>\n",
       "<table border=\"1\" class=\"dataframe\">\n",
       "  <thead>\n",
       "    <tr style=\"text-align: right;\">\n",
       "      <th></th>\n",
       "      <th>리뷰</th>\n",
       "      <th>별점</th>\n",
       "    </tr>\n",
       "  </thead>\n",
       "  <tbody>\n",
       "    <tr>\n",
       "      <th>0</th>\n",
       "      <td>저번에 리뷰이벤트참여 안적어서 못먹었던 떡볶이 오늘 맛나게 먹었어용 치킨도 물론 맛...</td>\n",
       "      <td>5</td>\n",
       "    </tr>\n",
       "    <tr>\n",
       "      <th>1</th>\n",
       "      <td>첨 시켜먹어보는대 너무 맛있게 잘 먹었습니다</td>\n",
       "      <td>5</td>\n",
       "    </tr>\n",
       "    <tr>\n",
       "      <th>2</th>\n",
       "      <td>후라이드는 역시 치킨플러스지요 기본 염지가 잘된 진짜 후라이드맛집 서비스로 치즈스틱...</td>\n",
       "      <td>5</td>\n",
       "    </tr>\n",
       "    <tr>\n",
       "      <th>3</th>\n",
       "      <td>배달이 약간 오래 걸리긴 했지만치킨 떡볶이 둘다 맛있어서 좋았네요</td>\n",
       "      <td>5</td>\n",
       "    </tr>\n",
       "    <tr>\n",
       "      <th>4</th>\n",
       "      <td>너무 맛있어요 떡볶이도 맛있고 날씨도 추운데 따뜻하고 빠르게 배달 왔어요</td>\n",
       "      <td>5</td>\n",
       "    </tr>\n",
       "    <tr>\n",
       "      <th>...</th>\n",
       "      <td>...</td>\n",
       "      <td>...</td>\n",
       "    </tr>\n",
       "    <tr>\n",
       "      <th>46322</th>\n",
       "      <td>배달도 빠르고 맛있어요</td>\n",
       "      <td>5</td>\n",
       "    </tr>\n",
       "    <tr>\n",
       "      <th>46323</th>\n",
       "      <td>잘먹었습니다 달력도 감사합니다 항상 5 동점만 먹어서 다른곳보다 양도 많은거 같아요</td>\n",
       "      <td>5</td>\n",
       "    </tr>\n",
       "    <tr>\n",
       "      <th>46324</th>\n",
       "      <td>리뷰쓰려는데 왜자꾸 리뷰내용에 개인정보쓰면 안된다고 하는거죠 게속 재시도 해봣는데도...</td>\n",
       "      <td>5</td>\n",
       "    </tr>\n",
       "    <tr>\n",
       "      <th>46325</th>\n",
       "      <td>치킨 맛있는건 정말 보증 하는데요 오늘 배달이 조금 아쉬워요 치킨 소스가 다 넘쳐서...</td>\n",
       "      <td>5</td>\n",
       "    </tr>\n",
       "    <tr>\n",
       "      <th>46326</th>\n",
       "      <td>여기는 콜라를 따로 안주네요 안산에서 일하셨더길래 반가웠는데 콜라 올줄날고 없어서 ...</td>\n",
       "      <td>2</td>\n",
       "    </tr>\n",
       "  </tbody>\n",
       "</table>\n",
       "<p>46327 rows × 2 columns</p>\n",
       "</div>"
      ],
      "text/plain": [
       "                                                      리뷰  별점\n",
       "0      저번에 리뷰이벤트참여 안적어서 못먹었던 떡볶이 오늘 맛나게 먹었어용 치킨도 물론 맛...   5\n",
       "1                               첨 시켜먹어보는대 너무 맛있게 잘 먹었습니다   5\n",
       "2      후라이드는 역시 치킨플러스지요 기본 염지가 잘된 진짜 후라이드맛집 서비스로 치즈스틱...   5\n",
       "3                   배달이 약간 오래 걸리긴 했지만치킨 떡볶이 둘다 맛있어서 좋았네요   5\n",
       "4               너무 맛있어요 떡볶이도 맛있고 날씨도 추운데 따뜻하고 빠르게 배달 왔어요   5\n",
       "...                                                  ...  ..\n",
       "46322                                       배달도 빠르고 맛있어요   5\n",
       "46323     잘먹었습니다 달력도 감사합니다 항상 5 동점만 먹어서 다른곳보다 양도 많은거 같아요   5\n",
       "46324  리뷰쓰려는데 왜자꾸 리뷰내용에 개인정보쓰면 안된다고 하는거죠 게속 재시도 해봣는데도...   5\n",
       "46325  치킨 맛있는건 정말 보증 하는데요 오늘 배달이 조금 아쉬워요 치킨 소스가 다 넘쳐서...   5\n",
       "46326  여기는 콜라를 따로 안주네요 안산에서 일하셨더길래 반가웠는데 콜라 올줄날고 없어서 ...   2\n",
       "\n",
       "[46327 rows x 2 columns]"
      ]
     },
     "execution_count": 723,
     "metadata": {},
     "output_type": "execute_result"
    }
   ],
   "source": [
    "df"
   ]
  },
  {
   "cell_type": "code",
   "execution_count": 721,
   "id": "e43170a8-1ce2-49be-b80c-84dba32e19b3",
   "metadata": {},
   "outputs": [
    {
     "data": {
      "text/html": [
       "<div>\n",
       "<style scoped>\n",
       "    .dataframe tbody tr th:only-of-type {\n",
       "        vertical-align: middle;\n",
       "    }\n",
       "\n",
       "    .dataframe tbody tr th {\n",
       "        vertical-align: top;\n",
       "    }\n",
       "\n",
       "    .dataframe thead th {\n",
       "        text-align: right;\n",
       "    }\n",
       "</style>\n",
       "<table border=\"1\" class=\"dataframe\">\n",
       "  <thead>\n",
       "    <tr style=\"text-align: right;\">\n",
       "      <th></th>\n",
       "      <th>리뷰</th>\n",
       "      <th>별점</th>\n",
       "      <th>y</th>\n",
       "      <th>a</th>\n",
       "      <th>f</th>\n",
       "      <th>t</th>\n",
       "    </tr>\n",
       "  </thead>\n",
       "  <tbody>\n",
       "    <tr>\n",
       "      <th>0</th>\n",
       "      <td>저번에 리뷰이벤트참여 안적어서 못먹었던 떡볶이 오늘 맛나게 먹었어용 치킨도 물론 맛...</td>\n",
       "      <td>5</td>\n",
       "      <td>1</td>\n",
       "      <td>1</td>\n",
       "      <td>1</td>\n",
       "      <td>1</td>\n",
       "    </tr>\n",
       "    <tr>\n",
       "      <th>1</th>\n",
       "      <td>첨 시켜먹어보는대 너무 맛있게 잘 먹었습니다</td>\n",
       "      <td>5</td>\n",
       "      <td>1</td>\n",
       "      <td>1</td>\n",
       "      <td>1</td>\n",
       "      <td>1</td>\n",
       "    </tr>\n",
       "    <tr>\n",
       "      <th>2</th>\n",
       "      <td>후라이드는 역시 치킨플러스지요 기본 염지가 잘된 진짜 후라이드맛집 서비스로 치즈스틱...</td>\n",
       "      <td>5</td>\n",
       "      <td>1</td>\n",
       "      <td>1</td>\n",
       "      <td>1</td>\n",
       "      <td>1</td>\n",
       "    </tr>\n",
       "    <tr>\n",
       "      <th>3</th>\n",
       "      <td>배달이 약간 오래 걸리긴 했지만치킨 떡볶이 둘다 맛있어서 좋았네요</td>\n",
       "      <td>5</td>\n",
       "      <td>1</td>\n",
       "      <td>1</td>\n",
       "      <td>1</td>\n",
       "      <td>1</td>\n",
       "    </tr>\n",
       "    <tr>\n",
       "      <th>4</th>\n",
       "      <td>너무 맛있어요 떡볶이도 맛있고 날씨도 추운데 따뜻하고 빠르게 배달 왔어요</td>\n",
       "      <td>5</td>\n",
       "      <td>1</td>\n",
       "      <td>1</td>\n",
       "      <td>1</td>\n",
       "      <td>1</td>\n",
       "    </tr>\n",
       "    <tr>\n",
       "      <th>...</th>\n",
       "      <td>...</td>\n",
       "      <td>...</td>\n",
       "      <td>...</td>\n",
       "      <td>...</td>\n",
       "      <td>...</td>\n",
       "      <td>...</td>\n",
       "    </tr>\n",
       "    <tr>\n",
       "      <th>1055</th>\n",
       "      <td>배달도 빠르고 맛있어요</td>\n",
       "      <td>5</td>\n",
       "      <td>1</td>\n",
       "      <td>1</td>\n",
       "      <td>1</td>\n",
       "      <td>1</td>\n",
       "    </tr>\n",
       "    <tr>\n",
       "      <th>1056</th>\n",
       "      <td>잘먹었습니다 달력도 감사합니다 항상 5 동점만 먹어서 다른곳보다 양도 많은거 같아요</td>\n",
       "      <td>5</td>\n",
       "      <td>1</td>\n",
       "      <td>1</td>\n",
       "      <td>1</td>\n",
       "      <td>1</td>\n",
       "    </tr>\n",
       "    <tr>\n",
       "      <th>1057</th>\n",
       "      <td>리뷰쓰려는데 왜자꾸 리뷰내용에 개인정보쓰면 안된다고 하는거죠 게속 재시도 해봣는데도...</td>\n",
       "      <td>5</td>\n",
       "      <td>1</td>\n",
       "      <td>1</td>\n",
       "      <td>1</td>\n",
       "      <td>1</td>\n",
       "    </tr>\n",
       "    <tr>\n",
       "      <th>1058</th>\n",
       "      <td>치킨 맛있는건 정말 보증 하는데요 오늘 배달이 조금 아쉬워요 치킨 소스가 다 넘쳐서...</td>\n",
       "      <td>5</td>\n",
       "      <td>1</td>\n",
       "      <td>1</td>\n",
       "      <td>1</td>\n",
       "      <td>1</td>\n",
       "    </tr>\n",
       "    <tr>\n",
       "      <th>1059</th>\n",
       "      <td>여기는 콜라를 따로 안주네요 안산에서 일하셨더길래 반가웠는데 콜라 올줄날고 없어서 ...</td>\n",
       "      <td>2</td>\n",
       "      <td>0</td>\n",
       "      <td>0</td>\n",
       "      <td>0</td>\n",
       "      <td>0</td>\n",
       "    </tr>\n",
       "  </tbody>\n",
       "</table>\n",
       "<p>46327 rows × 6 columns</p>\n",
       "</div>"
      ],
      "text/plain": [
       "                                                     리뷰 별점  y  a  f  t\n",
       "0     저번에 리뷰이벤트참여 안적어서 못먹었던 떡볶이 오늘 맛나게 먹었어용 치킨도 물론 맛...  5  1  1  1  1\n",
       "1                              첨 시켜먹어보는대 너무 맛있게 잘 먹었습니다  5  1  1  1  1\n",
       "2     후라이드는 역시 치킨플러스지요 기본 염지가 잘된 진짜 후라이드맛집 서비스로 치즈스틱...  5  1  1  1  1\n",
       "3                  배달이 약간 오래 걸리긴 했지만치킨 떡볶이 둘다 맛있어서 좋았네요  5  1  1  1  1\n",
       "4              너무 맛있어요 떡볶이도 맛있고 날씨도 추운데 따뜻하고 빠르게 배달 왔어요  5  1  1  1  1\n",
       "...                                                 ... .. .. .. .. ..\n",
       "1055                                       배달도 빠르고 맛있어요  5  1  1  1  1\n",
       "1056     잘먹었습니다 달력도 감사합니다 항상 5 동점만 먹어서 다른곳보다 양도 많은거 같아요  5  1  1  1  1\n",
       "1057  리뷰쓰려는데 왜자꾸 리뷰내용에 개인정보쓰면 안된다고 하는거죠 게속 재시도 해봣는데도...  5  1  1  1  1\n",
       "1058  치킨 맛있는건 정말 보증 하는데요 오늘 배달이 조금 아쉬워요 치킨 소스가 다 넘쳐서...  5  1  1  1  1\n",
       "1059  여기는 콜라를 따로 안주네요 안산에서 일하셨더길래 반가웠는데 콜라 올줄날고 없어서 ...  2  0  0  0  0\n",
       "\n",
       "[46327 rows x 6 columns]"
      ]
     },
     "execution_count": 721,
     "metadata": {},
     "output_type": "execute_result"
    }
   ],
   "source": [
    "df"
   ]
  },
  {
   "cell_type": "code",
   "execution_count": 668,
   "id": "5a7f7c66-96e4-44a9-9807-2c63e302e289",
   "metadata": {},
   "outputs": [
    {
     "data": {
      "text/plain": [
       "1    38203\n",
       "0     8124\n",
       "Name: y, dtype: int64"
      ]
     },
     "execution_count": 668,
     "metadata": {},
     "output_type": "execute_result"
    }
   ],
   "source": [
    "# 긍정 및 부정평가 댓글 수 \n",
    "df[\"y\"].value_counts()"
   ]
  },
  {
   "cell_type": "code",
   "execution_count": 681,
   "id": "6d5901e8-5262-4a2a-a371-5192ac14fefd",
   "metadata": {},
   "outputs": [],
   "source": [
    "#크론바흐 알파 신뢰도 검증\n",
    "import matplotlib.pyplot as plt\n",
    "import seaborn as sns\n",
    "import numpy as np\n",
    "from factor_analyzer import FactorAnalyzer"
   ]
  },
  {
   "cell_type": "code",
   "execution_count": 711,
   "id": "79adcac7-fc84-4edf-9c72-b8590fac00b0",
   "metadata": {},
   "outputs": [],
   "source": [
    "df['t'] = df['별점'].apply(lambda x: rating_to_label(x))"
   ]
  },
  {
   "cell_type": "code",
   "execution_count": 713,
   "id": "7764afec-e690-4e63-97f2-22a33e84a532",
   "metadata": {},
   "outputs": [],
   "source": [
    "items = df.columns.tolist()[1:]"
   ]
  },
  {
   "cell_type": "code",
   "execution_count": 701,
   "id": "401ce738-3121-4947-a524-bf7dbb04da89",
   "metadata": {},
   "outputs": [],
   "source": [
    "def CronbachAlpha(itemscores):\n",
    "    itemscores = np.asarray(itemscores)\n",
    "    itemvars = itemscores.var(axis=0, ddof=1)\n",
    "    tscores = itemscores.sum(axis=1)\n",
    "    nitems = itemscores.shape[1]\n",
    "    return (nitems / (nitems-1)) * (1 - (itemvars.sum() / tscores.var(ddof=1)))"
   ]
  },
  {
   "cell_type": "code",
   "execution_count": 714,
   "id": "2a7af643-cd79-4087-8430-06ad511d0780",
   "metadata": {},
   "outputs": [
    {
     "data": {
      "text/plain": [
       "['별점', 'y', 'a', 'f', 't']"
      ]
     },
     "execution_count": 714,
     "metadata": {},
     "output_type": "execute_result"
    }
   ],
   "source": [
    "items"
   ]
  },
  {
   "cell_type": "code",
   "execution_count": 715,
   "id": "d10e12af-1eec-4c87-b258-f7f7aaaea625",
   "metadata": {},
   "outputs": [
    {
     "ename": "LinAlgError",
     "evalue": "Singular matrix",
     "output_type": "error",
     "traceback": [
      "\u001b[0;31m---------------------------------------------------------------------------\u001b[0m",
      "\u001b[0;31mLinAlgError\u001b[0m                               Traceback (most recent call last)",
      "\u001b[0;32m<ipython-input-715-030caed5d7c6>\u001b[0m in \u001b[0;36m<module>\u001b[0;34m\u001b[0m\n\u001b[1;32m      1\u001b[0m \u001b[0mfa\u001b[0m \u001b[0;34m=\u001b[0m \u001b[0mFactorAnalyzer\u001b[0m\u001b[0;34m(\u001b[0m\u001b[0mn_factors\u001b[0m\u001b[0;34m=\u001b[0m\u001b[0;36m3\u001b[0m\u001b[0;34m,\u001b[0m \u001b[0mmethod\u001b[0m\u001b[0;34m=\u001b[0m\u001b[0;34m\"ml\"\u001b[0m\u001b[0;34m,\u001b[0m \u001b[0mrotation\u001b[0m\u001b[0;34m=\u001b[0m\u001b[0;34m\"promax\"\u001b[0m\u001b[0;34m)\u001b[0m\u001b[0;34m\u001b[0m\u001b[0;34m\u001b[0m\u001b[0m\n\u001b[0;32m----> 2\u001b[0;31m \u001b[0mfa\u001b[0m\u001b[0;34m.\u001b[0m\u001b[0mfit\u001b[0m\u001b[0;34m(\u001b[0m\u001b[0mdf\u001b[0m\u001b[0;34m[\u001b[0m\u001b[0mitems\u001b[0m\u001b[0;34m]\u001b[0m\u001b[0;34m)\u001b[0m\u001b[0;34m\u001b[0m\u001b[0;34m\u001b[0m\u001b[0m\n\u001b[0m",
      "\u001b[0;32m~/opt/anaconda3/lib/python3.8/site-packages/factor_analyzer/factor_analyzer.py\u001b[0m in \u001b[0;36mfit\u001b[0;34m(self, X, y)\u001b[0m\n\u001b[1;32m    643\u001b[0m             \u001b[0mloadings\u001b[0m \u001b[0;34m=\u001b[0m \u001b[0mself\u001b[0m\u001b[0;34m.\u001b[0m\u001b[0m_fit_principal\u001b[0m\u001b[0;34m(\u001b[0m\u001b[0mX\u001b[0m\u001b[0;34m)\u001b[0m\u001b[0;34m\u001b[0m\u001b[0;34m\u001b[0m\u001b[0m\n\u001b[1;32m    644\u001b[0m         \u001b[0;32melse\u001b[0m\u001b[0;34m:\u001b[0m\u001b[0;34m\u001b[0m\u001b[0;34m\u001b[0m\u001b[0m\n\u001b[0;32m--> 645\u001b[0;31m             \u001b[0mloadings\u001b[0m \u001b[0;34m=\u001b[0m \u001b[0mself\u001b[0m\u001b[0;34m.\u001b[0m\u001b[0m_fit_factor_analysis\u001b[0m\u001b[0;34m(\u001b[0m\u001b[0mcorr_mtx\u001b[0m\u001b[0;34m)\u001b[0m\u001b[0;34m\u001b[0m\u001b[0;34m\u001b[0m\u001b[0m\n\u001b[0m\u001b[1;32m    646\u001b[0m \u001b[0;34m\u001b[0m\u001b[0m\n\u001b[1;32m    647\u001b[0m         \u001b[0;31m# only used if we do an oblique rotations;\u001b[0m\u001b[0;34m\u001b[0m\u001b[0;34m\u001b[0m\u001b[0;34m\u001b[0m\u001b[0m\n",
      "\u001b[0;32m~/opt/anaconda3/lib/python3.8/site-packages/factor_analyzer/factor_analyzer.py\u001b[0m in \u001b[0;36m_fit_factor_analysis\u001b[0;34m(self, corr_mtx)\u001b[0m\n\u001b[1;32m    532\u001b[0m         \u001b[0;31m# and use these as initial guesses for optimizer\u001b[0m\u001b[0;34m\u001b[0m\u001b[0;34m\u001b[0m\u001b[0;34m\u001b[0m\u001b[0m\n\u001b[1;32m    533\u001b[0m         \u001b[0;32mif\u001b[0m \u001b[0mself\u001b[0m\u001b[0;34m.\u001b[0m\u001b[0muse_smc\u001b[0m\u001b[0;34m:\u001b[0m\u001b[0;34m\u001b[0m\u001b[0;34m\u001b[0m\u001b[0m\n\u001b[0;32m--> 534\u001b[0;31m             \u001b[0msmc_mtx\u001b[0m \u001b[0;34m=\u001b[0m \u001b[0msmc\u001b[0m\u001b[0;34m(\u001b[0m\u001b[0mcorr_mtx\u001b[0m\u001b[0;34m)\u001b[0m\u001b[0;34m\u001b[0m\u001b[0;34m\u001b[0m\u001b[0m\n\u001b[0m\u001b[1;32m    535\u001b[0m             \u001b[0mstart\u001b[0m \u001b[0;34m=\u001b[0m \u001b[0;34m(\u001b[0m\u001b[0mnp\u001b[0m\u001b[0;34m.\u001b[0m\u001b[0mdiag\u001b[0m\u001b[0;34m(\u001b[0m\u001b[0mcorr_mtx\u001b[0m\u001b[0;34m)\u001b[0m \u001b[0;34m-\u001b[0m \u001b[0msmc_mtx\u001b[0m\u001b[0;34m.\u001b[0m\u001b[0mT\u001b[0m\u001b[0;34m)\u001b[0m\u001b[0;34m.\u001b[0m\u001b[0msqueeze\u001b[0m\u001b[0;34m(\u001b[0m\u001b[0;34m)\u001b[0m\u001b[0;34m\u001b[0m\u001b[0;34m\u001b[0m\u001b[0m\n\u001b[1;32m    536\u001b[0m         \u001b[0;31m# otherwise, just start with a guess of 0.5 for everything\u001b[0m\u001b[0;34m\u001b[0m\u001b[0;34m\u001b[0m\u001b[0;34m\u001b[0m\u001b[0m\n",
      "\u001b[0;32m~/opt/anaconda3/lib/python3.8/site-packages/factor_analyzer/utils.py\u001b[0m in \u001b[0;36msmc\u001b[0;34m(corr_mtx, sort)\u001b[0m\n\u001b[1;32m    171\u001b[0m     \"\"\"\n\u001b[1;32m    172\u001b[0m \u001b[0;34m\u001b[0m\u001b[0m\n\u001b[0;32m--> 173\u001b[0;31m     \u001b[0mcorr_inv\u001b[0m \u001b[0;34m=\u001b[0m \u001b[0mnp\u001b[0m\u001b[0;34m.\u001b[0m\u001b[0mlinalg\u001b[0m\u001b[0;34m.\u001b[0m\u001b[0minv\u001b[0m\u001b[0;34m(\u001b[0m\u001b[0mcorr_mtx\u001b[0m\u001b[0;34m)\u001b[0m\u001b[0;34m\u001b[0m\u001b[0;34m\u001b[0m\u001b[0m\n\u001b[0m\u001b[1;32m    174\u001b[0m     \u001b[0msmc\u001b[0m \u001b[0;34m=\u001b[0m \u001b[0;36m1\u001b[0m \u001b[0;34m-\u001b[0m \u001b[0;36m1\u001b[0m \u001b[0;34m/\u001b[0m \u001b[0mnp\u001b[0m\u001b[0;34m.\u001b[0m\u001b[0mdiag\u001b[0m\u001b[0;34m(\u001b[0m\u001b[0mcorr_inv\u001b[0m\u001b[0;34m)\u001b[0m\u001b[0;34m\u001b[0m\u001b[0;34m\u001b[0m\u001b[0m\n\u001b[1;32m    175\u001b[0m \u001b[0;34m\u001b[0m\u001b[0m\n",
      "\u001b[0;32m<__array_function__ internals>\u001b[0m in \u001b[0;36minv\u001b[0;34m(*args, **kwargs)\u001b[0m\n",
      "\u001b[0;32m~/opt/anaconda3/lib/python3.8/site-packages/numpy/linalg/linalg.py\u001b[0m in \u001b[0;36minv\u001b[0;34m(a)\u001b[0m\n\u001b[1;32m    544\u001b[0m     \u001b[0msignature\u001b[0m \u001b[0;34m=\u001b[0m \u001b[0;34m'D->D'\u001b[0m \u001b[0;32mif\u001b[0m \u001b[0misComplexType\u001b[0m\u001b[0;34m(\u001b[0m\u001b[0mt\u001b[0m\u001b[0;34m)\u001b[0m \u001b[0;32melse\u001b[0m \u001b[0;34m'd->d'\u001b[0m\u001b[0;34m\u001b[0m\u001b[0;34m\u001b[0m\u001b[0m\n\u001b[1;32m    545\u001b[0m     \u001b[0mextobj\u001b[0m \u001b[0;34m=\u001b[0m \u001b[0mget_linalg_error_extobj\u001b[0m\u001b[0;34m(\u001b[0m\u001b[0m_raise_linalgerror_singular\u001b[0m\u001b[0;34m)\u001b[0m\u001b[0;34m\u001b[0m\u001b[0;34m\u001b[0m\u001b[0m\n\u001b[0;32m--> 546\u001b[0;31m     \u001b[0mainv\u001b[0m \u001b[0;34m=\u001b[0m \u001b[0m_umath_linalg\u001b[0m\u001b[0;34m.\u001b[0m\u001b[0minv\u001b[0m\u001b[0;34m(\u001b[0m\u001b[0ma\u001b[0m\u001b[0;34m,\u001b[0m \u001b[0msignature\u001b[0m\u001b[0;34m=\u001b[0m\u001b[0msignature\u001b[0m\u001b[0;34m,\u001b[0m \u001b[0mextobj\u001b[0m\u001b[0;34m=\u001b[0m\u001b[0mextobj\u001b[0m\u001b[0;34m)\u001b[0m\u001b[0;34m\u001b[0m\u001b[0;34m\u001b[0m\u001b[0m\n\u001b[0m\u001b[1;32m    547\u001b[0m     \u001b[0;32mreturn\u001b[0m \u001b[0mwrap\u001b[0m\u001b[0;34m(\u001b[0m\u001b[0mainv\u001b[0m\u001b[0;34m.\u001b[0m\u001b[0mastype\u001b[0m\u001b[0;34m(\u001b[0m\u001b[0mresult_t\u001b[0m\u001b[0;34m,\u001b[0m \u001b[0mcopy\u001b[0m\u001b[0;34m=\u001b[0m\u001b[0;32mFalse\u001b[0m\u001b[0;34m)\u001b[0m\u001b[0;34m)\u001b[0m\u001b[0;34m\u001b[0m\u001b[0;34m\u001b[0m\u001b[0m\n\u001b[1;32m    548\u001b[0m \u001b[0;34m\u001b[0m\u001b[0m\n",
      "\u001b[0;32m~/opt/anaconda3/lib/python3.8/site-packages/numpy/linalg/linalg.py\u001b[0m in \u001b[0;36m_raise_linalgerror_singular\u001b[0;34m(err, flag)\u001b[0m\n\u001b[1;32m     86\u001b[0m \u001b[0;34m\u001b[0m\u001b[0m\n\u001b[1;32m     87\u001b[0m \u001b[0;32mdef\u001b[0m \u001b[0m_raise_linalgerror_singular\u001b[0m\u001b[0;34m(\u001b[0m\u001b[0merr\u001b[0m\u001b[0;34m,\u001b[0m \u001b[0mflag\u001b[0m\u001b[0;34m)\u001b[0m\u001b[0;34m:\u001b[0m\u001b[0;34m\u001b[0m\u001b[0;34m\u001b[0m\u001b[0m\n\u001b[0;32m---> 88\u001b[0;31m     \u001b[0;32mraise\u001b[0m \u001b[0mLinAlgError\u001b[0m\u001b[0;34m(\u001b[0m\u001b[0;34m\"Singular matrix\"\u001b[0m\u001b[0;34m)\u001b[0m\u001b[0;34m\u001b[0m\u001b[0;34m\u001b[0m\u001b[0m\n\u001b[0m\u001b[1;32m     89\u001b[0m \u001b[0;34m\u001b[0m\u001b[0m\n\u001b[1;32m     90\u001b[0m \u001b[0;32mdef\u001b[0m \u001b[0m_raise_linalgerror_nonposdef\u001b[0m\u001b[0;34m(\u001b[0m\u001b[0merr\u001b[0m\u001b[0;34m,\u001b[0m \u001b[0mflag\u001b[0m\u001b[0;34m)\u001b[0m\u001b[0;34m:\u001b[0m\u001b[0;34m\u001b[0m\u001b[0;34m\u001b[0m\u001b[0m\n",
      "\u001b[0;31mLinAlgError\u001b[0m: Singular matrix"
     ]
    }
   ],
   "source": [
    "fa = FactorAnalyzer(n_factors=3, method=\"ml\", rotation=\"promax\")\n",
    "fa.fit(df[items])"
   ]
  },
  {
   "cell_type": "code",
   "execution_count": 348,
   "id": "b8343e50-ba68-471f-a853-e4a1529d9857",
   "metadata": {},
   "outputs": [
    {
     "name": "stderr",
     "output_type": "stream",
     "text": [
      "<ipython-input-348-bd126e97c34f>:9: DeprecationWarning: executable_path has been deprecated, please pass in a Service object\n",
      "  driver = webdriver.Chrome('/Users/heetae/Desktop/chromedriver')\n",
      "<ipython-input-347-3816bae0dde9>:108: DeprecationWarning: find_element_by_* commands are deprecated. Please use find_element() instead\n",
      "  driver.find_element_by_tag_name('body').send_keys(Keys.PAGE_DOWN)\n"
     ]
    }
   ],
   "source": [
    "#url='https://www.yogiyo.co.kr/mobile/?gclid=CjwKCAiAlfqOBhAeEiwAYi43Fydq6Co8zJWDqTsovrBkrN3mMNxafoJ1ZjbVXWA1Ad0o_9c6Q-qV4xoCQRUQAvD_BwE#/%EC%84%9C%EC%9A%B8%ED%8A%B9%EB%B3%84%EC%8B%9C/152091/%EC%B9%98%ED%82%A8/'\n",
    "#User_agent check\n",
    "#driver.execute_script('return navigator.userAgent')\n",
    "\n",
    "#do not use images\n",
    "option.add_argument('--blink-settings=imagesEnabled=false')\n",
    "\n",
    "#driver path \n",
    "driver = webdriver.Chrome('/Users/heetae/Desktop/chromedriver')\n",
    "\n",
    "#url 접속\n",
    "\n",
    "url='https://www.yogiyo.co.kr/mobile/?gclid=CjwKCAiAlfqOBhAeEiwAYi43F8ROi2y0U2h8KlBwEuLVkCZMWDoxWDwgv4CeOBQhbvujsiqrsN_9qhoCRL0QAvD_BwE#/%EC%84%9C%EC%9A%B8%ED%8A%B9%EB%B3%84%EC%8B%9C/152091/%EC%B9%98%ED%82%A8/'\n",
    "yogiyo_selector(url)"
   ]
  },
  {
   "cell_type": "code",
   "execution_count": 347,
   "id": "90bcb67c-8c93-49ce-a227-3dfbd94f10ad",
   "metadata": {},
   "outputs": [],
   "source": [
    "#함수\n",
    "def yogiyo_selector(url):\n",
    "    response = requests.get(url)\n",
    "    \n",
    "    driver.get(url)\n",
    "    driver.implicitly_wait(10)\n",
    "    time.sleep(2)\n",
    "    driver.execute_script(\"location.reload()\")\n",
    "    time.sleep(2)    \n",
    "    selector_tmp = []\n",
    "    \n",
    "    tmp1='document.querySelector('\n",
    "    tmp2=\"'#content > div > div:nth-child(3) > div > div.restaurant-list > div:nth-child(\"\n",
    "    tmp3=tmp1+tmp2\n",
    "    tmp4=\") > div')\"\n",
    "    tmp5=\".click()\"\n",
    "\n",
    "    for i in range(10000):\n",
    "        tmp6=str(i+1)\n",
    "        tmp=tmp3+tmp6+tmp4+tmp5\n",
    "        selector_tmp.append(tmp)\n",
    "\n",
    "    selector_find=[]\n",
    "    for i in range(10000):\n",
    "        selector_find.append(\"#content > div > div:nth-child(3) > div > div.restaurant-list > div:nth-child(\"+str(i+1)+\") > div\")\n",
    "\n",
    "    for i in range(10000):\n",
    "        try:\n",
    "            driver.execute_script(selector_tmp[i])\n",
    "\n",
    "            search_xpath = '//*[@id=\"content\"]/div[2]/div[1]/ul/li[2]/a'\n",
    "            element = WebDriverWait(driver, 10).until(EC.presence_of_element_located((By.XPATH,search_xpath)))\n",
    "            try:\n",
    "                element.click()\n",
    "            except ValueError as m:\n",
    "                print(m)\n",
    "                time.sleep(1)\n",
    "                driver.find_element_by_xpath(search_xpath).click()\n",
    "\n",
    "\n",
    "            #페이지 정보 업로드\n",
    "            html = driver.page_source\n",
    "            html_source = bs(html, 'html.parser')\n",
    "            soup = bs(html, 'html.parser')\n",
    "\n",
    "            #리뷰수 파악\n",
    "            num = html_source.find_all(\"strong\", attrs = {\"class\":'ng-binding'})\n",
    "            review_num=[]\n",
    "            for t in num:\n",
    "                review_num.append(t.string)\n",
    "            #총리뷰수 구하기\n",
    "            total_review_num = int(review_num[1])\n",
    "\n",
    "            #xpath초기화\n",
    "            search_xpath=[]\n",
    "\n",
    "            #xpath 설정\n",
    "            if ((total_review_num//10) >0) :\n",
    "                for i in range(total_review_num//10):\n",
    "                    tcp= '//*[@id=\"review\"]/li['+str((i*10+2))+']'\n",
    "                    search_xpath.append(tcp)\n",
    "                #xpath로 더보기\n",
    "                for j in range(len(search_xpath)-1):\n",
    "                    try:\n",
    "                        element = WebDriverWait(driver, 5).until(EC.presence_of_element_located((By.XPATH,search_xpath[j+1])))\n",
    "                        element.click()\n",
    "                    except ValueError as m:\n",
    "                        print('error_ ',j)\n",
    "                        print(m)\n",
    "                        time.sleep(1)\n",
    "                        driver.find_element_by_xpath(search_xpath[j+1]).click()()\n",
    "            else:\n",
    "                print('pass')\n",
    "                pass\n",
    "            #저장\n",
    "            html = driver.page_source\n",
    "            html_source = bs(html, 'html.parser')\n",
    "            soup = bs(html, 'html.parser')\n",
    "\n",
    "            #review\n",
    "            restaurant_re = html_source.find_all(\"p\", attrs = {\"class\":\"ng-binding\",'ng-bind-html':\"review.comment|strip_html\"})\n",
    "            #review_award\n",
    "            restaurant_star = html_source.find_all(\"span\", attrs = {\"class\":'total'})\n",
    "            #리뷰만\n",
    "\n",
    "            review_list = []\n",
    "            result_list = []\n",
    "            #데이터 배열\n",
    "            for i in restaurant_re:\n",
    "                tmp=re.sub(r'[\\n\\r]+', '',i.string)\n",
    "                tmp=\" \".join(re.compile(r'[가-힣]+|[0-9]+').findall(tmp))\n",
    "                review_list.append(tmp)\n",
    "            #별점\n",
    "            star_tmp=[]\n",
    "            for q in restaurant_star:\n",
    "                    g=(str(str(q)).count('full ng-scope'))\n",
    "                    star_tmp.append(g)\n",
    "            #데이터 프레임 형태로 만들기\n",
    "            COLUM = 2\n",
    "            ROW = len(star_tmp)\n",
    "            total = [[0 for i in range(COLUM)] for j in range(ROW)] \n",
    "            for i in range(len(review_list)):\n",
    "                total[i][0]=review_list[i]\n",
    "            for i in range(len(star_tmp)):\n",
    "                total[i][1]=(star_tmp[i])\n",
    "        except:\n",
    "            try:\n",
    "                driver.find_element_by_tag_name('body').send_keys(Keys.PAGE_DOWN)\n",
    "            except:\n",
    "                break\n",
    "            break\n",
    "            "
   ]
  },
  {
   "cell_type": "markdown",
   "id": "27f82dcc-303b-44b0-bd88-22016464f3af",
   "metadata": {},
   "source": [
    "selector를 사용하여야 한다.\n",
    "\n",
    "#content > div > div:nth-child(3) > div > div.restaurant-list > div:nth-child(1) > div\n",
    "이게 요기요 가맹점에 들어가는 selector다. \n",
    "\n",
    "요기요의 경우 광고로 인한 노출이 두가지가 있다. 하지만 내가 필요한 정보와 중첩이 되기 떄문에 요기요에 등록된 것만 필요하다.\n",
    "중간의 div:nth-child(숫자)에서 숫자가 1이면 최상단에 광고노출박스, 2면 슈퍼레드위크 추천, 3이면 일반이다.\n",
    "\n",
    "뒤 div:nth-child(1)가 핵심이다.\n",
    "1~n으로 늘어난다. 따라서 이부분은 추출을 할 수 없어서 강제로 for문으로 만들어 주었다.\n",
    "하지만 \\가 출력되는 에러가 있어서 복잡하지만 하기의 방법처럼 추가를 해주어야 한다."
   ]
  },
  {
   "cell_type": "code",
   "execution_count": 327,
   "id": "558d41d3-b269-4d96-b566-ea2269683b2b",
   "metadata": {
    "tags": []
   },
   "outputs": [],
   "source": [
    "\n",
    "selector_tmp = []\n",
    "\n",
    "tmp1='document.querySelector('\n",
    "tmp2=\"'#content > div > div:nth-child(3) > div > div.restaurant-list > div:nth-child(\"\n",
    "tmp3=tmp1+tmp2\n",
    "tmp4=\") > div')\"\n",
    "tmp5=\".click()\"\n",
    "\n",
    "for i in range(10000):\n",
    "    tmp6=str(i+1)\n",
    "    tmp=tmp3+tmp6+tmp4+tmp5\n",
    "    selector_tmp.append(tmp)\n",
    "    \n",
    "selector_find=[]\n",
    "for i in range(10000):\n",
    "    selector_find.append(\"#content > div > div:nth-child(3) > div > div.restaurant-list > div:nth-child(\"+str(i+1)+\") > div\")"
   ]
  }
 ],
 "metadata": {
  "kernelspec": {
   "display_name": "Python 3",
   "language": "python",
   "name": "python3"
  },
  "language_info": {
   "codemirror_mode": {
    "name": "ipython",
    "version": 3
   },
   "file_extension": ".py",
   "mimetype": "text/x-python",
   "name": "python",
   "nbconvert_exporter": "python",
   "pygments_lexer": "ipython3",
   "version": "3.8.8"
  }
 },
 "nbformat": 4,
 "nbformat_minor": 5
}
