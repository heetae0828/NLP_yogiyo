{
 "cells": [
  {
   "cell_type": "code",
   "execution_count": 1,
   "id": "0f9efb7c-a3c3-49b8-8157-20117cc5e0f7",
   "metadata": {},
   "outputs": [],
   "source": [
    "#웹크롤링을 통한 리뷰 분석 시작"
   ]
  },
  {
   "cell_type": "code",
   "execution_count": 2,
   "id": "ca905c5d-cbf2-4275-8ce3-fb5000c2eee8",
   "metadata": {},
   "outputs": [],
   "source": [
    "#main\n",
    "from urllib.request import urlopen\n",
    "from bs4 import BeautifulSoup as bs\n",
    "import selenium\n",
    "from selenium import webdriver\n",
    "import time\n",
    "import pandas as pd\n",
    "import requests\n",
    "import re"
   ]
  },
  {
   "cell_type": "code",
   "execution_count": null,
   "id": "f888351e-972f-4389-b44c-fd4f39967de7",
   "metadata": {},
   "outputs": [],
   "source": []
  }
 ],
 "metadata": {
  "kernelspec": {
   "display_name": "Python 3",
   "language": "python",
   "name": "python3"
  },
  "language_info": {
   "codemirror_mode": {
    "name": "ipython",
    "version": 3
   },
   "file_extension": ".py",
   "mimetype": "text/x-python",
   "name": "python",
   "nbconvert_exporter": "python",
   "pygments_lexer": "ipython3",
   "version": "3.8.8"
  }
 },
 "nbformat": 4,
 "nbformat_minor": 5
}
