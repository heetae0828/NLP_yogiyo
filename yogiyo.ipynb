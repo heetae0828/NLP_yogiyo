{
 "cells": [
  {
   "cell_type": "code",
   "execution_count": 1,
   "id": "0f9efb7c-a3c3-49b8-8157-20117cc5e0f7",
   "metadata": {},
   "outputs": [],
   "source": [
    "#웹크롤링을 통한 리뷰 분석 시작"
   ]
  },
  {
   "cell_type": "code",
   "execution_count": 9,
   "id": "ca905c5d-cbf2-4275-8ce3-fb5000c2eee8",
   "metadata": {},
   "outputs": [],
   "source": [
    "#main\n",
    "from urllib.request import urlopen\n",
    "from bs4 import BeautifulSoup as bs\n",
    "import selenium\n",
    "from selenium import webdriver\n",
    "from selenium.webdriver.chrome.options import Options\n",
    "import time\n",
    "import pandas as pd\n",
    "import requests\n",
    "import re\n",
    "from selenium.webdriver.common.by import By\n",
    "from selenium.webdriver.support.ui import WebDriverWait\n",
    "from selenium.webdriver.support import expected_conditions as EC"
   ]
  },
  {
   "cell_type": "code",
   "execution_count": 5,
   "id": "a80c18a9-245d-46da-a0c9-c8ed84a25d82",
   "metadata": {},
   "outputs": [],
   "source": [
    "#deriver option\n",
    "option = Options()\n"
   ]
  },
  {
   "cell_type": "code",
   "execution_count": 325,
   "id": "f888351e-972f-4389-b44c-fd4f39967de7",
   "metadata": {
    "scrolled": true,
    "tags": []
   },
   "outputs": [
    {
     "name": "stderr",
     "output_type": "stream",
     "text": [
      "<ipython-input-325-9099acfb8316>:8: DeprecationWarning: executable_path has been deprecated, please pass in a Service object\n",
      "  driver = webdriver.Chrome('/Users/heetae/Desktop/chromedriver',options=option)\n"
     ]
    }
   ],
   "source": [
    "#User_agent check\n",
    "#driver.execute_script('return navigator.userAgent')\n",
    "\n",
    "#do not use images\n",
    "option.add_argument('--blink-settings=imagesEnabled=false')\n",
    "\n",
    "#path driver\n",
    "driver = webdriver.Chrome('/Users/heetae/Desktop/chromedriver',options=option)\n",
    "\n",
    "#url\n",
    "url = 'https://www.yogiyo.co.kr/mobile/?gclid=CjwKCAiAlfqOBhAeEiwAYi43F8ROi2y0U2h8KlBwEuLVkCZMWDoxWDwgv4CeOBQhbvujsiqrsN_9qhoCRL0QAvD_BwE#/465083/'\n",
    "\n",
    "#url 접속\n",
    "response = requests.get(url)\n",
    "\n",
    "driver.get(url)\n",
    "driver.implicitly_wait(10)\n",
    "\n",
    "search_xpath = '//*[@id=\"content\"]/div[2]/div[1]/ul/li[2]/a'\n",
    "element = WebDriverWait(driver, 10).until(EC.presence_of_element_located((By.XPATH,search_xpath)))\n",
    "try:\n",
    "    element.click()\n",
    "except ValueError as m:\n",
    "    print(m)\n",
    "    time.sleep(1)\n",
    "    driver.find_element_by_xpath(search_xpath).click()\n",
    "    \n",
    "\n",
    "#페이지 정보 업로드\n",
    "html = driver.page_source\n",
    "html_source = bs(html, 'html.parser')\n",
    "soup = bs(html, 'html.parser')\n",
    "\n",
    "#리뷰수 파악\n",
    "num = html_source.find_all(\"strong\", attrs = {\"class\":'ng-binding'})\n",
    "review_num=[]\n",
    "for t in num:\n",
    "    review_num.append(t.string)"
   ]
  },
  {
   "cell_type": "code",
   "execution_count": 118,
   "id": "6338dca2-1f45-42d0-ba2d-ed7331557e9d",
   "metadata": {},
   "outputs": [],
   "source": [
    "#총리뷰수 구하기\n",
    "total_review_num = int(review_num[1])\n",
    "\n",
    "#xpath초기화\n",
    "search_xpath=[]\n",
    "\n",
    "#xpath 설정\n",
    "if ((total_review_num//10) >0) :\n",
    "    for i in range(total_review_num//10):\n",
    "        tcp= '//*[@id=\"review\"]/li['+str((i*10+2))+']'\n",
    "        search_xpath.append(tcp)\n",
    "    #xpath로 더보기\n",
    "    for j in range(len(search_xpath)-1):\n",
    "        try:\n",
    "            element = WebDriverWait(driver, 5).until(EC.presence_of_element_located((By.XPATH,search_xpath[j+1])))\n",
    "            element.click()\n",
    "        except ValueError as m:\n",
    "            print('error_ ',j)\n",
    "            print(m)\n",
    "            time.sleep(1)\n",
    "            driver.find_element_by_xpath(search_xpath[j+1]).click()()\n",
    "else:\n",
    "    print('pass')\n",
    "    pass"
   ]
  },
  {
   "cell_type": "code",
   "execution_count": 129,
   "id": "e7fe6786-e5d3-4b35-8947-00a8ffb0f474",
   "metadata": {
    "scrolled": true,
    "tags": []
   },
   "outputs": [
    {
     "ename": "NoSuchWindowException",
     "evalue": "Message: no such window: window was already closed\n  (Session info: chrome=97.0.4692.71)\nStacktrace:\n0   chromedriver                        0x00000001013bd408 __gxx_personality_v0 + 543364\n1   chromedriver                        0x0000000101353138 __gxx_personality_v0 + 108468\n2   chromedriver                        0x0000000100f527d8 chromedriver + 157656\n3   chromedriver                        0x0000000100f43b00 chromedriver + 97024\n4   chromedriver                        0x0000000100f3e4d0 chromedriver + 74960\n5   chromedriver                        0x0000000100faafd8 chromedriver + 520152\n6   chromedriver                        0x0000000100f77238 chromedriver + 307768\n7   chromedriver                        0x0000000101380c7c __gxx_personality_v0 + 295672\n8   chromedriver                        0x0000000101394bd8 __gxx_personality_v0 + 377428\n9   chromedriver                        0x00000001013992b0 __gxx_personality_v0 + 395564\n10  chromedriver                        0x00000001013959f8 __gxx_personality_v0 + 381044\n11  chromedriver                        0x0000000101376754 __gxx_personality_v0 + 253392\n12  chromedriver                        0x00000001013aea38 __gxx_personality_v0 + 483508\n13  chromedriver                        0x00000001013aebac __gxx_personality_v0 + 483880\n14  chromedriver                        0x00000001013c3fec __gxx_personality_v0 + 570984\n15  libsystem_pthread.dylib             0x00000001942dd240 _pthread_start + 148\n16  libsystem_pthread.dylib             0x00000001942d8024 thread_start + 8\n",
     "output_type": "error",
     "traceback": [
      "\u001b[0;31m---------------------------------------------------------------------------\u001b[0m",
      "\u001b[0;31mNoSuchWindowException\u001b[0m                     Traceback (most recent call last)",
      "\u001b[0;32m<ipython-input-129-fc64ab9af580>\u001b[0m in \u001b[0;36m<module>\u001b[0;34m\u001b[0m\n\u001b[1;32m      1\u001b[0m \u001b[0;31m#저장\u001b[0m\u001b[0;34m\u001b[0m\u001b[0;34m\u001b[0m\u001b[0;34m\u001b[0m\u001b[0m\n\u001b[0;32m----> 2\u001b[0;31m \u001b[0mhtml\u001b[0m \u001b[0;34m=\u001b[0m \u001b[0mdriver\u001b[0m\u001b[0;34m.\u001b[0m\u001b[0mpage_source\u001b[0m\u001b[0;34m\u001b[0m\u001b[0;34m\u001b[0m\u001b[0m\n\u001b[0m\u001b[1;32m      3\u001b[0m \u001b[0mhtml_source\u001b[0m \u001b[0;34m=\u001b[0m \u001b[0mbs\u001b[0m\u001b[0;34m(\u001b[0m\u001b[0mhtml\u001b[0m\u001b[0;34m,\u001b[0m \u001b[0;34m'html.parser'\u001b[0m\u001b[0;34m)\u001b[0m\u001b[0;34m\u001b[0m\u001b[0;34m\u001b[0m\u001b[0m\n\u001b[1;32m      4\u001b[0m \u001b[0msoup\u001b[0m \u001b[0;34m=\u001b[0m \u001b[0mbs\u001b[0m\u001b[0;34m(\u001b[0m\u001b[0mhtml\u001b[0m\u001b[0;34m,\u001b[0m \u001b[0;34m'html.parser'\u001b[0m\u001b[0;34m)\u001b[0m\u001b[0;34m\u001b[0m\u001b[0;34m\u001b[0m\u001b[0m\n\u001b[1;32m      5\u001b[0m \u001b[0;34m\u001b[0m\u001b[0m\n",
      "\u001b[0;32m~/opt/anaconda3/lib/python3.8/site-packages/selenium/webdriver/remote/webdriver.py\u001b[0m in \u001b[0;36mpage_source\u001b[0;34m(self)\u001b[0m\n\u001b[1;32m    924\u001b[0m                 \u001b[0mdriver\u001b[0m\u001b[0;34m.\u001b[0m\u001b[0mpage_source\u001b[0m\u001b[0;34m\u001b[0m\u001b[0;34m\u001b[0m\u001b[0m\n\u001b[1;32m    925\u001b[0m         \"\"\"\n\u001b[0;32m--> 926\u001b[0;31m         \u001b[0;32mreturn\u001b[0m \u001b[0mself\u001b[0m\u001b[0;34m.\u001b[0m\u001b[0mexecute\u001b[0m\u001b[0;34m(\u001b[0m\u001b[0mCommand\u001b[0m\u001b[0;34m.\u001b[0m\u001b[0mGET_PAGE_SOURCE\u001b[0m\u001b[0;34m)\u001b[0m\u001b[0;34m[\u001b[0m\u001b[0;34m'value'\u001b[0m\u001b[0;34m]\u001b[0m\u001b[0;34m\u001b[0m\u001b[0;34m\u001b[0m\u001b[0m\n\u001b[0m\u001b[1;32m    927\u001b[0m \u001b[0;34m\u001b[0m\u001b[0m\n\u001b[1;32m    928\u001b[0m     \u001b[0;32mdef\u001b[0m \u001b[0mclose\u001b[0m\u001b[0;34m(\u001b[0m\u001b[0mself\u001b[0m\u001b[0;34m)\u001b[0m \u001b[0;34m->\u001b[0m \u001b[0;32mNone\u001b[0m\u001b[0;34m:\u001b[0m\u001b[0;34m\u001b[0m\u001b[0;34m\u001b[0m\u001b[0m\n",
      "\u001b[0;32m~/opt/anaconda3/lib/python3.8/site-packages/selenium/webdriver/remote/webdriver.py\u001b[0m in \u001b[0;36mexecute\u001b[0;34m(self, driver_command, params)\u001b[0m\n\u001b[1;32m    422\u001b[0m         \u001b[0mresponse\u001b[0m \u001b[0;34m=\u001b[0m \u001b[0mself\u001b[0m\u001b[0;34m.\u001b[0m\u001b[0mcommand_executor\u001b[0m\u001b[0;34m.\u001b[0m\u001b[0mexecute\u001b[0m\u001b[0;34m(\u001b[0m\u001b[0mdriver_command\u001b[0m\u001b[0;34m,\u001b[0m \u001b[0mparams\u001b[0m\u001b[0;34m)\u001b[0m\u001b[0;34m\u001b[0m\u001b[0;34m\u001b[0m\u001b[0m\n\u001b[1;32m    423\u001b[0m         \u001b[0;32mif\u001b[0m \u001b[0mresponse\u001b[0m\u001b[0;34m:\u001b[0m\u001b[0;34m\u001b[0m\u001b[0;34m\u001b[0m\u001b[0m\n\u001b[0;32m--> 424\u001b[0;31m             \u001b[0mself\u001b[0m\u001b[0;34m.\u001b[0m\u001b[0merror_handler\u001b[0m\u001b[0;34m.\u001b[0m\u001b[0mcheck_response\u001b[0m\u001b[0;34m(\u001b[0m\u001b[0mresponse\u001b[0m\u001b[0;34m)\u001b[0m\u001b[0;34m\u001b[0m\u001b[0;34m\u001b[0m\u001b[0m\n\u001b[0m\u001b[1;32m    425\u001b[0m             response['value'] = self._unwrap_value(\n\u001b[1;32m    426\u001b[0m                 response.get('value', None))\n",
      "\u001b[0;32m~/opt/anaconda3/lib/python3.8/site-packages/selenium/webdriver/remote/errorhandler.py\u001b[0m in \u001b[0;36mcheck_response\u001b[0;34m(self, response)\u001b[0m\n\u001b[1;32m    245\u001b[0m                 \u001b[0malert_text\u001b[0m \u001b[0;34m=\u001b[0m \u001b[0mvalue\u001b[0m\u001b[0;34m[\u001b[0m\u001b[0;34m'alert'\u001b[0m\u001b[0;34m]\u001b[0m\u001b[0;34m.\u001b[0m\u001b[0mget\u001b[0m\u001b[0;34m(\u001b[0m\u001b[0;34m'text'\u001b[0m\u001b[0;34m)\u001b[0m\u001b[0;34m\u001b[0m\u001b[0;34m\u001b[0m\u001b[0m\n\u001b[1;32m    246\u001b[0m             \u001b[0;32mraise\u001b[0m \u001b[0mexception_class\u001b[0m\u001b[0;34m(\u001b[0m\u001b[0mmessage\u001b[0m\u001b[0;34m,\u001b[0m \u001b[0mscreen\u001b[0m\u001b[0;34m,\u001b[0m \u001b[0mstacktrace\u001b[0m\u001b[0;34m,\u001b[0m \u001b[0malert_text\u001b[0m\u001b[0;34m)\u001b[0m  \u001b[0;31m# type: ignore[call-arg]  # mypy is not smart enough here\u001b[0m\u001b[0;34m\u001b[0m\u001b[0;34m\u001b[0m\u001b[0m\n\u001b[0;32m--> 247\u001b[0;31m         \u001b[0;32mraise\u001b[0m \u001b[0mexception_class\u001b[0m\u001b[0;34m(\u001b[0m\u001b[0mmessage\u001b[0m\u001b[0;34m,\u001b[0m \u001b[0mscreen\u001b[0m\u001b[0;34m,\u001b[0m \u001b[0mstacktrace\u001b[0m\u001b[0;34m)\u001b[0m\u001b[0;34m\u001b[0m\u001b[0;34m\u001b[0m\u001b[0m\n\u001b[0m\u001b[1;32m    248\u001b[0m \u001b[0;34m\u001b[0m\u001b[0m\n\u001b[1;32m    249\u001b[0m     \u001b[0;32mdef\u001b[0m \u001b[0m_value_or_default\u001b[0m\u001b[0;34m(\u001b[0m\u001b[0mself\u001b[0m\u001b[0;34m,\u001b[0m \u001b[0mobj\u001b[0m\u001b[0;34m:\u001b[0m \u001b[0mMapping\u001b[0m\u001b[0;34m[\u001b[0m\u001b[0m_KT\u001b[0m\u001b[0;34m,\u001b[0m \u001b[0m_VT\u001b[0m\u001b[0;34m]\u001b[0m\u001b[0;34m,\u001b[0m \u001b[0mkey\u001b[0m\u001b[0;34m:\u001b[0m \u001b[0m_KT\u001b[0m\u001b[0;34m,\u001b[0m \u001b[0mdefault\u001b[0m\u001b[0;34m:\u001b[0m \u001b[0m_VT\u001b[0m\u001b[0;34m)\u001b[0m \u001b[0;34m->\u001b[0m \u001b[0m_VT\u001b[0m\u001b[0;34m:\u001b[0m\u001b[0;34m\u001b[0m\u001b[0;34m\u001b[0m\u001b[0m\n",
      "\u001b[0;31mNoSuchWindowException\u001b[0m: Message: no such window: window was already closed\n  (Session info: chrome=97.0.4692.71)\nStacktrace:\n0   chromedriver                        0x00000001013bd408 __gxx_personality_v0 + 543364\n1   chromedriver                        0x0000000101353138 __gxx_personality_v0 + 108468\n2   chromedriver                        0x0000000100f527d8 chromedriver + 157656\n3   chromedriver                        0x0000000100f43b00 chromedriver + 97024\n4   chromedriver                        0x0000000100f3e4d0 chromedriver + 74960\n5   chromedriver                        0x0000000100faafd8 chromedriver + 520152\n6   chromedriver                        0x0000000100f77238 chromedriver + 307768\n7   chromedriver                        0x0000000101380c7c __gxx_personality_v0 + 295672\n8   chromedriver                        0x0000000101394bd8 __gxx_personality_v0 + 377428\n9   chromedriver                        0x00000001013992b0 __gxx_personality_v0 + 395564\n10  chromedriver                        0x00000001013959f8 __gxx_personality_v0 + 381044\n11  chromedriver                        0x0000000101376754 __gxx_personality_v0 + 253392\n12  chromedriver                        0x00000001013aea38 __gxx_personality_v0 + 483508\n13  chromedriver                        0x00000001013aebac __gxx_personality_v0 + 483880\n14  chromedriver                        0x00000001013c3fec __gxx_personality_v0 + 570984\n15  libsystem_pthread.dylib             0x00000001942dd240 _pthread_start + 148\n16  libsystem_pthread.dylib             0x00000001942d8024 thread_start + 8\n"
     ]
    }
   ],
   "source": [
    "#저장\n",
    "html = driver.page_source\n",
    "html_source = bs(html, 'html.parser')\n",
    "soup = bs(html, 'html.parser')\n",
    "\n",
    "#review\n",
    "restaurant_re = html_source.find_all(\"p\", attrs = {\"class\":\"ng-binding\",'ng-bind-html':\"review.comment|strip_html\"})\n",
    "#review_award\n",
    "restaurant_star = html_source.find_all(\"span\", attrs = {\"class\":'total'})"
   ]
  },
  {
   "cell_type": "code",
   "execution_count": 127,
   "id": "f86a47b6-92f7-43a4-9957-9fafabeb54ba",
   "metadata": {},
   "outputs": [],
   "source": [
    "#리뷰만\n",
    "\n",
    "review_list = []\n",
    "result_list = []\n",
    "#데이터 배열\n",
    "for i in restaurant_re:\n",
    "    tmp=re.sub(r'[\\n\\r]+', '',i.string)\n",
    "    tmp=\" \".join(re.compile(r'[가-힣]+|[0-9]+').findall(tmp))\n",
    "    review_list.append(tmp)\n",
    "   "
   ]
  },
  {
   "cell_type": "code",
   "execution_count": 133,
   "id": "3530eddb-567a-41b6-9ba4-10c016a03411",
   "metadata": {},
   "outputs": [],
   "source": [
    "#별점\n",
    "star_tmp=[]\n",
    "for q in restaurant_star:\n",
    "        g=(str(str(q)).count('full ng-scope'))\n",
    "        star_tmp.append(g)"
   ]
  },
  {
   "cell_type": "code",
   "execution_count": 136,
   "id": "1ff20f4a-1456-4479-a0a2-9720940fe22a",
   "metadata": {},
   "outputs": [],
   "source": [
    "#데이터 프레임 형태로 만들기\n",
    "COLUM = 2\n",
    "ROW = len(star_tmp)\n",
    "total = [[0 for i in range(COLUM)] for j in range(ROW)] \n",
    "for i in range(len(review_list)):\n",
    "    total[i][0]=review_list[i]\n",
    "for i in range(len(star_tmp)):\n",
    "    total[i][1]=(star_tmp[i])"
   ]
  },
  {
   "cell_type": "code",
   "execution_count": 186,
   "id": "7a276e70-bc6a-48ba-a896-b732ee530200",
   "metadata": {},
   "outputs": [],
   "source": [
    "#함수\n",
    "def yogiyo(url):\n",
    "    response = requests.get(url)\n",
    "\n",
    "    driver.get(url)\n",
    "    driver.implicitly_wait(10)\n",
    "\n",
    "    search_xpath = '//*[@id=\"content\"]/div[2]/div[1]/ul/li[2]/a'\n",
    "    element = WebDriverWait(driver, 10).until(EC.presence_of_element_located((By.XPATH,search_xpath)))\n",
    "    try:\n",
    "        element.click()\n",
    "    except ValueError as m:\n",
    "        print(m)\n",
    "        time.sleep(1)\n",
    "        driver.find_element_by_xpath(search_xpath).click()\n",
    "\n",
    "\n",
    "    #페이지 정보 업로드\n",
    "    html = driver.page_source\n",
    "    html_source = bs(html, 'html.parser')\n",
    "    soup = bs(html, 'html.parser')\n",
    "\n",
    "    #리뷰수 파악\n",
    "    num = html_source.find_all(\"strong\", attrs = {\"class\":'ng-binding'})\n",
    "    review_num=[]\n",
    "    for t in num:\n",
    "        review_num.append(t.string)\n",
    "    #총리뷰수 구하기\n",
    "    total_review_num = int(review_num[1])\n",
    "\n",
    "    #xpath초기화\n",
    "    search_xpath=[]\n",
    "\n",
    "    #xpath 설정\n",
    "    if ((total_review_num//10) >0) :\n",
    "        for i in range(total_review_num//10):\n",
    "            tcp= '//*[@id=\"review\"]/li['+str((i*10+2))+']'\n",
    "            search_xpath.append(tcp)\n",
    "        #xpath로 더보기\n",
    "        for j in range(len(search_xpath)-1):\n",
    "            try:\n",
    "                element = WebDriverWait(driver, 5).until(EC.presence_of_element_located((By.XPATH,search_xpath[j+1])))\n",
    "                element.click()\n",
    "            except ValueError as m:\n",
    "                print('error_ ',j)\n",
    "                print(m)\n",
    "                time.sleep(1)\n",
    "                driver.find_element_by_xpath(search_xpath[j+1]).click()()\n",
    "    else:\n",
    "        print('pass')\n",
    "        pass\n",
    "    #저장\n",
    "    html = driver.page_source\n",
    "    html_source = bs(html, 'html.parser')\n",
    "    soup = bs(html, 'html.parser')\n",
    "\n",
    "    #review\n",
    "    restaurant_re = html_source.find_all(\"p\", attrs = {\"class\":\"ng-binding\",'ng-bind-html':\"review.comment|strip_html\"})\n",
    "    #review_award\n",
    "    restaurant_star = html_source.find_all(\"span\", attrs = {\"class\":'total'})\n",
    "    #리뷰만\n",
    "\n",
    "    review_list = []\n",
    "    result_list = []\n",
    "    #데이터 배열\n",
    "    for i in restaurant_re:\n",
    "        tmp=re.sub(r'[\\n\\r]+', '',i.string)\n",
    "        tmp=\" \".join(re.compile(r'[가-힣]+|[0-9]+').findall(tmp))\n",
    "        review_list.append(tmp)\n",
    "    #별점\n",
    "    star_tmp=[]\n",
    "    for q in restaurant_star:\n",
    "            g=(str(str(q)).count('full ng-scope'))\n",
    "            star_tmp.append(g)\n",
    "    #데이터 프레임 형태로 만들기\n",
    "    COLUM = 2\n",
    "    ROW = len(star_tmp)\n",
    "    total = [[0 for i in range(COLUM)] for j in range(ROW)] \n",
    "    for i in range(len(review_list)):\n",
    "        total[i][0]=review_list[i]\n",
    "    for i in range(len(star_tmp)):\n",
    "        total[i][1]=(star_tmp[i])\n",
    "    "
   ]
  },
  {
   "cell_type": "code",
   "execution_count": 187,
   "id": "8772486a-3577-499c-9e00-1edcf33241b7",
   "metadata": {},
   "outputs": [
    {
     "name": "stderr",
     "output_type": "stream",
     "text": [
      "<ipython-input-187-f4801d62487b>:9: DeprecationWarning: executable_path has been deprecated, please pass in a Service object\n",
      "  driver = webdriver.Chrome('/Users/heetae/Desktop/chromedriver',options=option)\n"
     ]
    },
    {
     "data": {
      "text/plain": [
       "[]"
      ]
     },
     "execution_count": 187,
     "metadata": {},
     "output_type": "execute_result"
    }
   ],
   "source": [
    "#url='https://www.yogiyo.co.kr/mobile/?gclid=CjwKCAiAlfqOBhAeEiwAYi43Fydq6Co8zJWDqTsovrBkrN3mMNxafoJ1ZjbVXWA1Ad0o_9c6Q-qV4xoCQRUQAvD_BwE#/%EC%84%9C%EC%9A%B8%ED%8A%B9%EB%B3%84%EC%8B%9C/152091/%EC%B9%98%ED%82%A8/'\n",
    "#User_agent check\n",
    "#driver.execute_script('return navigator.userAgent')\n",
    "\n",
    "#do not use images\n",
    "option.add_argument('--blink-settings=imagesEnabled=false')\n",
    "\n",
    "#path driver\n",
    "driver = webdriver.Chrome('/Users/heetae/Desktop/chromedriver',options=option)\n",
    "\n",
    "#url\n",
    "url = 'https://www.yogiyo.co.kr/mobile/?gclid=CjwKCAiAlfqOBhAeEiwAYi43Fydq6Co8zJWDqTsovrBkrN3mMNxafoJ1ZjbVXWA1Ad0o_9c6Q-qV4xoCQRUQAvD_BwE#/%EC%84%9C%EC%9A%B8%ED%8A%B9%EB%B3%84%EC%8B%9C/152091/%EC%B9%98%ED%82%A8/'\n",
    "\n",
    "#url 접속\n",
    "response = requests.get(url)\n",
    "\n",
    "driver.get(url)\n",
    "driver.implicitly_wait(10)\n",
    "\n",
    "#페이지 정보 업로드\n",
    "html = driver.page_source\n",
    "html_source = bs(html, 'html.parser')\n",
    "soup = bs(html, 'html.parser')\n",
    "\n",
    "html_source.find_all(\"div\", attrs = {\"class\":\"review_num ng-binding\",'ng-show':\"restaurant.review_count > 0\"})\n",
    "\n"
   ]
  },
  {
   "cell_type": "code",
   "execution_count": 178,
   "id": "8f563731-5b7a-41dd-8299-e84542edb5ba",
   "metadata": {
    "scrolled": true,
    "tags": []
   },
   "outputs": [],
   "source": [
    "res_num=[]\n",
    "a=html_source.find_all(\"span\", attrs = {\"class\":\"review_num ng-binding\",'ng-show':\"restaurant.review_count > 0\"})\n",
    "for i in a :\n",
    "    tmp=re.sub(r'[\\n\\r]+', '',i.get_text())\n",
    "    tmp=\" \".join(re.compile(r'[0-9]+').findall(tmp))\n",
    "    res_num.append(tmp)"
   ]
  },
  {
   "cell_type": "code",
   "execution_count": 179,
   "id": "a3e2ca32-de1d-4975-95dd-b318669ffe18",
   "metadata": {},
   "outputs": [],
   "source": [
    "res_name=[]\n",
    "a=html_source.find_all(\"div\", attrs = {\"class\":\"restaurant-name ng-binding\",'ng-bind':\"restaurant.name\"})\n",
    "for i in a :\n",
    "    tmp=re.sub(r'[\\n\\r]+', '',i.get_text())\n",
    "    res_name.append(tmp)"
   ]
  },
  {
   "cell_type": "code",
   "execution_count": 403,
   "id": "eca05186-1232-4097-a65c-ab62f082911c",
   "metadata": {
    "scrolled": true,
    "tags": []
   },
   "outputs": [
    {
     "name": "stderr",
     "output_type": "stream",
     "text": [
      "<ipython-input-403-60bf052aa136>:3: DeprecationWarning: find_elements_by_* commands are deprecated. Please use find_elements() instead\n",
      "  while len(driver.find_elements_by_xpath(search_xpath[j+1]))<0:\n"
     ]
    }
   ],
   "source": []
  },
  {
   "cell_type": "code",
   "execution_count": null,
   "id": "a4188087-1e11-412b-bd59-0c7848086b60",
   "metadata": {},
   "outputs": [],
   "source": [
    "#selector로 클릭하기."
   ]
  },
  {
   "cell_type": "markdown",
   "id": "d96eee8e-4c7b-419c-8bfa-daced5ee8b46",
   "metadata": {},
   "source": [
    "상단의 yogiyo함수는 url로 직접 가맹점에 접속해서 크롤링 하는 방법이였다.\n",
    "하지만 내가 필요한건 자동으로 여러개의 가맹점을 크롤링을 해야하기 떄문에 하기처럼 변경을 하였다."
   ]
  },
  {
   "cell_type": "code",
   "execution_count": 486,
   "id": "990b5908-41cf-4df2-84e0-efba96bde742",
   "metadata": {},
   "outputs": [
    {
     "data": {
      "text/plain": [
       "<function selenium.webdriver.support.expected_conditions.presence_of_element_located.<locals>._predicate(driver)>"
      ]
     },
     "execution_count": 486,
     "metadata": {},
     "output_type": "execute_result"
    }
   ],
   "source": [
    "EC.presence_of_element_located((By.XPATH,search_xpath))"
   ]
  },
  {
   "cell_type": "code",
   "execution_count": 488,
   "id": "f3dbb628-5a8d-45ef-8272-1a9ea7e8723f",
   "metadata": {
    "scrolled": true,
    "tags": []
   },
   "outputs": [
    {
     "name": "stderr",
     "output_type": "stream",
     "text": [
      "<ipython-input-488-9d2a146a902d>:2: DeprecationWarning: find_elements_by_* commands are deprecated. Please use find_elements() instead\n",
      "  element = WebDriverWait(driver, 10).until(lambda x: x.find_elements_by_css_selector('//*[@id=\"content\"]/div[2]/div[1]/ul/li[1]/a'))\n"
     ]
    },
    {
     "ename": "InvalidSelectorException",
     "evalue": "Message: invalid selector: An invalid or illegal selector was specified\n  (Session info: chrome=97.0.4692.71)\nStacktrace:\n0   chromedriver                        0x0000000100e75408 __gxx_personality_v0 + 543364\n1   chromedriver                        0x0000000100e0b138 __gxx_personality_v0 + 108468\n2   chromedriver                        0x0000000100a0a7d8 chromedriver + 157656\n3   chromedriver                        0x0000000100a0d258 chromedriver + 168536\n4   chromedriver                        0x0000000100a0d0c4 chromedriver + 168132\n5   chromedriver                        0x0000000100a0d300 chromedriver + 168704\n6   chromedriver                        0x0000000100a3a0f4 chromedriver + 352500\n7   chromedriver                        0x0000000100a637d4 chromedriver + 522196\n8   chromedriver                        0x0000000100a2f238 chromedriver + 307768\n9   chromedriver                        0x0000000100e38c7c __gxx_personality_v0 + 295672\n10  chromedriver                        0x0000000100e4cbd8 __gxx_personality_v0 + 377428\n11  chromedriver                        0x0000000100e512b0 __gxx_personality_v0 + 395564\n12  chromedriver                        0x0000000100e4d9f8 __gxx_personality_v0 + 381044\n13  chromedriver                        0x0000000100e2e754 __gxx_personality_v0 + 253392\n14  chromedriver                        0x0000000100e66a38 __gxx_personality_v0 + 483508\n15  chromedriver                        0x0000000100e66bac __gxx_personality_v0 + 483880\n16  chromedriver                        0x0000000100e7bfec __gxx_personality_v0 + 570984\n17  libsystem_pthread.dylib             0x00000001942dd240 _pthread_start + 148\n18  libsystem_pthread.dylib             0x00000001942d8024 thread_start + 8\n",
     "output_type": "error",
     "traceback": [
      "\u001b[0;31m---------------------------------------------------------------------------\u001b[0m",
      "\u001b[0;31mInvalidSelectorException\u001b[0m                  Traceback (most recent call last)",
      "\u001b[0;32m<ipython-input-488-9d2a146a902d>\u001b[0m in \u001b[0;36m<module>\u001b[0;34m\u001b[0m\n\u001b[1;32m      1\u001b[0m \u001b[0;32mwhile\u001b[0m \u001b[0;32mTrue\u001b[0m \u001b[0;34m:\u001b[0m\u001b[0;34m\u001b[0m\u001b[0;34m\u001b[0m\u001b[0m\n\u001b[0;32m----> 2\u001b[0;31m     \u001b[0melement\u001b[0m \u001b[0;34m=\u001b[0m \u001b[0mWebDriverWait\u001b[0m\u001b[0;34m(\u001b[0m\u001b[0mdriver\u001b[0m\u001b[0;34m,\u001b[0m \u001b[0;36m10\u001b[0m\u001b[0;34m)\u001b[0m\u001b[0;34m.\u001b[0m\u001b[0muntil\u001b[0m\u001b[0;34m(\u001b[0m\u001b[0;32mlambda\u001b[0m \u001b[0mx\u001b[0m\u001b[0;34m:\u001b[0m \u001b[0mx\u001b[0m\u001b[0;34m.\u001b[0m\u001b[0mfind_elements_by_css_selector\u001b[0m\u001b[0;34m(\u001b[0m\u001b[0;34m'//*[@id=\"content\"]/div[2]/div[1]/ul/li[1]/a'\u001b[0m\u001b[0;34m)\u001b[0m\u001b[0;34m)\u001b[0m\u001b[0;34m\u001b[0m\u001b[0;34m\u001b[0m\u001b[0m\n\u001b[0m\u001b[1;32m      3\u001b[0m     \u001b[0;31m#element = WebDriverWait(driver, 10).until(EC.presence_of_element_located((By.XPATH,search_xpath)))\u001b[0m\u001b[0;34m\u001b[0m\u001b[0;34m\u001b[0m\u001b[0;34m\u001b[0m\u001b[0m\n\u001b[1;32m      4\u001b[0m     \u001b[0;32mtry\u001b[0m\u001b[0;34m:\u001b[0m\u001b[0;34m\u001b[0m\u001b[0;34m\u001b[0m\u001b[0m\n\u001b[1;32m      5\u001b[0m         \u001b[0melement\u001b[0m\u001b[0;34m.\u001b[0m\u001b[0mclick\u001b[0m\u001b[0;34m(\u001b[0m\u001b[0;34m)\u001b[0m\u001b[0;34m\u001b[0m\u001b[0;34m\u001b[0m\u001b[0m\n",
      "\u001b[0;32m~/opt/anaconda3/lib/python3.8/site-packages/selenium/webdriver/support/wait.py\u001b[0m in \u001b[0;36muntil\u001b[0;34m(self, method, message)\u001b[0m\n\u001b[1;32m     80\u001b[0m                     \u001b[0;32mreturn\u001b[0m \u001b[0mvalue\u001b[0m\u001b[0;34m\u001b[0m\u001b[0;34m\u001b[0m\u001b[0m\n\u001b[1;32m     81\u001b[0m             \u001b[0;32mexcept\u001b[0m \u001b[0mInvalidSelectorException\u001b[0m \u001b[0;32mas\u001b[0m \u001b[0me\u001b[0m\u001b[0;34m:\u001b[0m\u001b[0;34m\u001b[0m\u001b[0;34m\u001b[0m\u001b[0m\n\u001b[0;32m---> 82\u001b[0;31m                 \u001b[0;32mraise\u001b[0m \u001b[0me\u001b[0m\u001b[0;34m\u001b[0m\u001b[0;34m\u001b[0m\u001b[0m\n\u001b[0m\u001b[1;32m     83\u001b[0m             \u001b[0;32mexcept\u001b[0m \u001b[0mself\u001b[0m\u001b[0;34m.\u001b[0m\u001b[0m_ignored_exceptions\u001b[0m \u001b[0;32mas\u001b[0m \u001b[0mexc\u001b[0m\u001b[0;34m:\u001b[0m\u001b[0;34m\u001b[0m\u001b[0;34m\u001b[0m\u001b[0m\n\u001b[1;32m     84\u001b[0m                 \u001b[0mscreen\u001b[0m \u001b[0;34m=\u001b[0m \u001b[0mgetattr\u001b[0m\u001b[0;34m(\u001b[0m\u001b[0mexc\u001b[0m\u001b[0;34m,\u001b[0m \u001b[0;34m'screen'\u001b[0m\u001b[0;34m,\u001b[0m \u001b[0;32mNone\u001b[0m\u001b[0;34m)\u001b[0m\u001b[0;34m\u001b[0m\u001b[0;34m\u001b[0m\u001b[0m\n",
      "\u001b[0;32m~/opt/anaconda3/lib/python3.8/site-packages/selenium/webdriver/support/wait.py\u001b[0m in \u001b[0;36muntil\u001b[0;34m(self, method, message)\u001b[0m\n\u001b[1;32m     76\u001b[0m         \u001b[0;32mwhile\u001b[0m \u001b[0;32mTrue\u001b[0m\u001b[0;34m:\u001b[0m\u001b[0;34m\u001b[0m\u001b[0;34m\u001b[0m\u001b[0m\n\u001b[1;32m     77\u001b[0m             \u001b[0;32mtry\u001b[0m\u001b[0;34m:\u001b[0m\u001b[0;34m\u001b[0m\u001b[0;34m\u001b[0m\u001b[0m\n\u001b[0;32m---> 78\u001b[0;31m                 \u001b[0mvalue\u001b[0m \u001b[0;34m=\u001b[0m \u001b[0mmethod\u001b[0m\u001b[0;34m(\u001b[0m\u001b[0mself\u001b[0m\u001b[0;34m.\u001b[0m\u001b[0m_driver\u001b[0m\u001b[0;34m)\u001b[0m\u001b[0;34m\u001b[0m\u001b[0;34m\u001b[0m\u001b[0m\n\u001b[0m\u001b[1;32m     79\u001b[0m                 \u001b[0;32mif\u001b[0m \u001b[0mvalue\u001b[0m\u001b[0;34m:\u001b[0m\u001b[0;34m\u001b[0m\u001b[0;34m\u001b[0m\u001b[0m\n\u001b[1;32m     80\u001b[0m                     \u001b[0;32mreturn\u001b[0m \u001b[0mvalue\u001b[0m\u001b[0;34m\u001b[0m\u001b[0;34m\u001b[0m\u001b[0m\n",
      "\u001b[0;32m<ipython-input-488-9d2a146a902d>\u001b[0m in \u001b[0;36m<lambda>\u001b[0;34m(x)\u001b[0m\n\u001b[1;32m      1\u001b[0m \u001b[0;32mwhile\u001b[0m \u001b[0;32mTrue\u001b[0m \u001b[0;34m:\u001b[0m\u001b[0;34m\u001b[0m\u001b[0;34m\u001b[0m\u001b[0m\n\u001b[0;32m----> 2\u001b[0;31m     \u001b[0melement\u001b[0m \u001b[0;34m=\u001b[0m \u001b[0mWebDriverWait\u001b[0m\u001b[0;34m(\u001b[0m\u001b[0mdriver\u001b[0m\u001b[0;34m,\u001b[0m \u001b[0;36m10\u001b[0m\u001b[0;34m)\u001b[0m\u001b[0;34m.\u001b[0m\u001b[0muntil\u001b[0m\u001b[0;34m(\u001b[0m\u001b[0;32mlambda\u001b[0m \u001b[0mx\u001b[0m\u001b[0;34m:\u001b[0m \u001b[0mx\u001b[0m\u001b[0;34m.\u001b[0m\u001b[0mfind_elements_by_css_selector\u001b[0m\u001b[0;34m(\u001b[0m\u001b[0;34m'//*[@id=\"content\"]/div[2]/div[1]/ul/li[1]/a'\u001b[0m\u001b[0;34m)\u001b[0m\u001b[0;34m)\u001b[0m\u001b[0;34m\u001b[0m\u001b[0;34m\u001b[0m\u001b[0m\n\u001b[0m\u001b[1;32m      3\u001b[0m     \u001b[0;31m#element = WebDriverWait(driver, 10).until(EC.presence_of_element_located((By.XPATH,search_xpath)))\u001b[0m\u001b[0;34m\u001b[0m\u001b[0;34m\u001b[0m\u001b[0;34m\u001b[0m\u001b[0m\n\u001b[1;32m      4\u001b[0m     \u001b[0;32mtry\u001b[0m\u001b[0;34m:\u001b[0m\u001b[0;34m\u001b[0m\u001b[0;34m\u001b[0m\u001b[0m\n\u001b[1;32m      5\u001b[0m         \u001b[0melement\u001b[0m\u001b[0;34m.\u001b[0m\u001b[0mclick\u001b[0m\u001b[0;34m(\u001b[0m\u001b[0;34m)\u001b[0m\u001b[0;34m\u001b[0m\u001b[0;34m\u001b[0m\u001b[0m\n",
      "\u001b[0;32m~/opt/anaconda3/lib/python3.8/site-packages/selenium/webdriver/remote/webdriver.py\u001b[0m in \u001b[0;36mfind_elements_by_css_selector\u001b[0;34m(self, css_selector)\u001b[0m\n\u001b[1;32m    829\u001b[0m             \u001b[0mstacklevel\u001b[0m\u001b[0;34m=\u001b[0m\u001b[0;36m2\u001b[0m\u001b[0;34m,\u001b[0m\u001b[0;34m\u001b[0m\u001b[0;34m\u001b[0m\u001b[0m\n\u001b[1;32m    830\u001b[0m         )\n\u001b[0;32m--> 831\u001b[0;31m         \u001b[0;32mreturn\u001b[0m \u001b[0mself\u001b[0m\u001b[0;34m.\u001b[0m\u001b[0mfind_elements\u001b[0m\u001b[0;34m(\u001b[0m\u001b[0mby\u001b[0m\u001b[0;34m=\u001b[0m\u001b[0mBy\u001b[0m\u001b[0;34m.\u001b[0m\u001b[0mCSS_SELECTOR\u001b[0m\u001b[0;34m,\u001b[0m \u001b[0mvalue\u001b[0m\u001b[0;34m=\u001b[0m\u001b[0mcss_selector\u001b[0m\u001b[0;34m)\u001b[0m\u001b[0;34m\u001b[0m\u001b[0;34m\u001b[0m\u001b[0m\n\u001b[0m\u001b[1;32m    832\u001b[0m \u001b[0;34m\u001b[0m\u001b[0m\n\u001b[1;32m    833\u001b[0m     \u001b[0;32mdef\u001b[0m \u001b[0mpin_script\u001b[0m\u001b[0;34m(\u001b[0m\u001b[0mself\u001b[0m\u001b[0;34m,\u001b[0m \u001b[0mscript\u001b[0m\u001b[0;34m,\u001b[0m \u001b[0mscript_key\u001b[0m\u001b[0;34m=\u001b[0m\u001b[0;32mNone\u001b[0m\u001b[0;34m)\u001b[0m \u001b[0;34m->\u001b[0m \u001b[0mScriptKey\u001b[0m\u001b[0;34m:\u001b[0m\u001b[0;34m\u001b[0m\u001b[0;34m\u001b[0m\u001b[0m\n",
      "\u001b[0;32m~/opt/anaconda3/lib/python3.8/site-packages/selenium/webdriver/remote/webdriver.py\u001b[0m in \u001b[0;36mfind_elements\u001b[0;34m(self, by, value)\u001b[0m\n\u001b[1;32m   1277\u001b[0m         \u001b[0;31m# Return empty list if driver returns null\u001b[0m\u001b[0;34m\u001b[0m\u001b[0;34m\u001b[0m\u001b[0;34m\u001b[0m\u001b[0m\n\u001b[1;32m   1278\u001b[0m         \u001b[0;31m# See https://github.com/SeleniumHQ/selenium/issues/4555\u001b[0m\u001b[0;34m\u001b[0m\u001b[0;34m\u001b[0m\u001b[0;34m\u001b[0m\u001b[0m\n\u001b[0;32m-> 1279\u001b[0;31m         return self.execute(Command.FIND_ELEMENTS, {\n\u001b[0m\u001b[1;32m   1280\u001b[0m             \u001b[0;34m'using'\u001b[0m\u001b[0;34m:\u001b[0m \u001b[0mby\u001b[0m\u001b[0;34m,\u001b[0m\u001b[0;34m\u001b[0m\u001b[0;34m\u001b[0m\u001b[0m\n\u001b[1;32m   1281\u001b[0m             'value': value})['value'] or []\n",
      "\u001b[0;32m~/opt/anaconda3/lib/python3.8/site-packages/selenium/webdriver/remote/webdriver.py\u001b[0m in \u001b[0;36mexecute\u001b[0;34m(self, driver_command, params)\u001b[0m\n\u001b[1;32m    422\u001b[0m         \u001b[0mresponse\u001b[0m \u001b[0;34m=\u001b[0m \u001b[0mself\u001b[0m\u001b[0;34m.\u001b[0m\u001b[0mcommand_executor\u001b[0m\u001b[0;34m.\u001b[0m\u001b[0mexecute\u001b[0m\u001b[0;34m(\u001b[0m\u001b[0mdriver_command\u001b[0m\u001b[0;34m,\u001b[0m \u001b[0mparams\u001b[0m\u001b[0;34m)\u001b[0m\u001b[0;34m\u001b[0m\u001b[0;34m\u001b[0m\u001b[0m\n\u001b[1;32m    423\u001b[0m         \u001b[0;32mif\u001b[0m \u001b[0mresponse\u001b[0m\u001b[0;34m:\u001b[0m\u001b[0;34m\u001b[0m\u001b[0;34m\u001b[0m\u001b[0m\n\u001b[0;32m--> 424\u001b[0;31m             \u001b[0mself\u001b[0m\u001b[0;34m.\u001b[0m\u001b[0merror_handler\u001b[0m\u001b[0;34m.\u001b[0m\u001b[0mcheck_response\u001b[0m\u001b[0;34m(\u001b[0m\u001b[0mresponse\u001b[0m\u001b[0;34m)\u001b[0m\u001b[0;34m\u001b[0m\u001b[0;34m\u001b[0m\u001b[0m\n\u001b[0m\u001b[1;32m    425\u001b[0m             response['value'] = self._unwrap_value(\n\u001b[1;32m    426\u001b[0m                 response.get('value', None))\n",
      "\u001b[0;32m~/opt/anaconda3/lib/python3.8/site-packages/selenium/webdriver/remote/errorhandler.py\u001b[0m in \u001b[0;36mcheck_response\u001b[0;34m(self, response)\u001b[0m\n\u001b[1;32m    245\u001b[0m                 \u001b[0malert_text\u001b[0m \u001b[0;34m=\u001b[0m \u001b[0mvalue\u001b[0m\u001b[0;34m[\u001b[0m\u001b[0;34m'alert'\u001b[0m\u001b[0;34m]\u001b[0m\u001b[0;34m.\u001b[0m\u001b[0mget\u001b[0m\u001b[0;34m(\u001b[0m\u001b[0;34m'text'\u001b[0m\u001b[0;34m)\u001b[0m\u001b[0;34m\u001b[0m\u001b[0;34m\u001b[0m\u001b[0m\n\u001b[1;32m    246\u001b[0m             \u001b[0;32mraise\u001b[0m \u001b[0mexception_class\u001b[0m\u001b[0;34m(\u001b[0m\u001b[0mmessage\u001b[0m\u001b[0;34m,\u001b[0m \u001b[0mscreen\u001b[0m\u001b[0;34m,\u001b[0m \u001b[0mstacktrace\u001b[0m\u001b[0;34m,\u001b[0m \u001b[0malert_text\u001b[0m\u001b[0;34m)\u001b[0m  \u001b[0;31m# type: ignore[call-arg]  # mypy is not smart enough here\u001b[0m\u001b[0;34m\u001b[0m\u001b[0;34m\u001b[0m\u001b[0m\n\u001b[0;32m--> 247\u001b[0;31m         \u001b[0;32mraise\u001b[0m \u001b[0mexception_class\u001b[0m\u001b[0;34m(\u001b[0m\u001b[0mmessage\u001b[0m\u001b[0;34m,\u001b[0m \u001b[0mscreen\u001b[0m\u001b[0;34m,\u001b[0m \u001b[0mstacktrace\u001b[0m\u001b[0;34m)\u001b[0m\u001b[0;34m\u001b[0m\u001b[0;34m\u001b[0m\u001b[0m\n\u001b[0m\u001b[1;32m    248\u001b[0m \u001b[0;34m\u001b[0m\u001b[0m\n\u001b[1;32m    249\u001b[0m     \u001b[0;32mdef\u001b[0m \u001b[0m_value_or_default\u001b[0m\u001b[0;34m(\u001b[0m\u001b[0mself\u001b[0m\u001b[0;34m,\u001b[0m \u001b[0mobj\u001b[0m\u001b[0;34m:\u001b[0m \u001b[0mMapping\u001b[0m\u001b[0;34m[\u001b[0m\u001b[0m_KT\u001b[0m\u001b[0;34m,\u001b[0m \u001b[0m_VT\u001b[0m\u001b[0;34m]\u001b[0m\u001b[0;34m,\u001b[0m \u001b[0mkey\u001b[0m\u001b[0;34m:\u001b[0m \u001b[0m_KT\u001b[0m\u001b[0;34m,\u001b[0m \u001b[0mdefault\u001b[0m\u001b[0;34m:\u001b[0m \u001b[0m_VT\u001b[0m\u001b[0;34m)\u001b[0m \u001b[0;34m->\u001b[0m \u001b[0m_VT\u001b[0m\u001b[0;34m:\u001b[0m\u001b[0;34m\u001b[0m\u001b[0;34m\u001b[0m\u001b[0m\n",
      "\u001b[0;31mInvalidSelectorException\u001b[0m: Message: invalid selector: An invalid or illegal selector was specified\n  (Session info: chrome=97.0.4692.71)\nStacktrace:\n0   chromedriver                        0x0000000100e75408 __gxx_personality_v0 + 543364\n1   chromedriver                        0x0000000100e0b138 __gxx_personality_v0 + 108468\n2   chromedriver                        0x0000000100a0a7d8 chromedriver + 157656\n3   chromedriver                        0x0000000100a0d258 chromedriver + 168536\n4   chromedriver                        0x0000000100a0d0c4 chromedriver + 168132\n5   chromedriver                        0x0000000100a0d300 chromedriver + 168704\n6   chromedriver                        0x0000000100a3a0f4 chromedriver + 352500\n7   chromedriver                        0x0000000100a637d4 chromedriver + 522196\n8   chromedriver                        0x0000000100a2f238 chromedriver + 307768\n9   chromedriver                        0x0000000100e38c7c __gxx_personality_v0 + 295672\n10  chromedriver                        0x0000000100e4cbd8 __gxx_personality_v0 + 377428\n11  chromedriver                        0x0000000100e512b0 __gxx_personality_v0 + 395564\n12  chromedriver                        0x0000000100e4d9f8 __gxx_personality_v0 + 381044\n13  chromedriver                        0x0000000100e2e754 __gxx_personality_v0 + 253392\n14  chromedriver                        0x0000000100e66a38 __gxx_personality_v0 + 483508\n15  chromedriver                        0x0000000100e66bac __gxx_personality_v0 + 483880\n16  chromedriver                        0x0000000100e7bfec __gxx_personality_v0 + 570984\n17  libsystem_pthread.dylib             0x00000001942dd240 _pthread_start + 148\n18  libsystem_pthread.dylib             0x00000001942d8024 thread_start + 8\n"
     ]
    }
   ],
   "source": [
    "while True :\n",
    "    element = WebDriverWait(driver, 10).until(lambda x: x.find_elements_by_css_selector('//*[@id=\"content\"]/div[2]/div[1]/ul/li[1]/a'))\n",
    "    #element = WebDriverWait(driver, 10).until(EC.presence_of_element_located((By.XPATH,search_xpath)))\n",
    "    try:\n",
    "        element.click()\n",
    "    except:\n",
    "        while len(driver.find_elements_by_xpath(search_xpath))<0: \n",
    "            time.sleep(0.001)\n",
    "        element.click()\n",
    "    element = WebDriverWait(driver, 10).until(lambda x: x.find_element_by_css_selector('//*[@id=\"content\"]/div[2]/div[1]/ul/li[1]/a'))\n",
    "#    until(EC.presence_of_element_located((By.XPATH,'//*[@id=\"content\"]/div[2]/div[1]/ul/li[1]/a')))\n",
    "    try:\n",
    "        element.click()\n",
    "    except:\n",
    "        while len(driver.find_elements_by_xpath('//*[@id=\"content\"]/div[2]/div[1]/ul/li[1]/a'))<0: \n",
    "                time.sleep(0.001)\n",
    "        element.click()\n",
    "    "
   ]
  },
  {
   "cell_type": "code",
   "execution_count": 489,
   "id": "c678471e-03b4-484b-bd2a-e76432a8100d",
   "metadata": {
    "scrolled": true,
    "tags": []
   },
   "outputs": [
    {
     "name": "stderr",
     "output_type": "stream",
     "text": [
      "<ipython-input-489-832af0f8e385>:10: DeprecationWarning: executable_path has been deprecated, please pass in a Service object\n",
      "  driver = webdriver.Chrome('/Users/heetae/Desktop/chromedriver',options=option)\n"
     ]
    },
    {
     "name": "stdout",
     "output_type": "stream",
     "text": [
      "더보기시작\n"
     ]
    },
    {
     "name": "stderr",
     "output_type": "stream",
     "text": [
      "<ipython-input-489-832af0f8e385>:87: DeprecationWarning: find_elements_by_* commands are deprecated. Please use find_elements() instead\n",
      "  while len(driver.find_elements_by_xpath(search_xpath[j+1]))<0:\n",
      "<ipython-input-489-832af0f8e385>:51: DeprecationWarning: find_elements_by_* commands are deprecated. Please use find_elements() instead\n",
      "  while len(driver.find_elements_by_xpath(search_xpath))<0:\n"
     ]
    },
    {
     "name": "stdout",
     "output_type": "stream",
     "text": [
      "더보기시작\n",
      "더보기시작\n",
      "더보기시작\n",
      "더보기시작\n",
      "더보기시작\n",
      "더보기시작\n",
      "더보기시작\n",
      "더보기시작\n",
      "더보기시작\n",
      "더보기시작\n",
      "더보기시작\n"
     ]
    },
    {
     "name": "stderr",
     "output_type": "stream",
     "text": [
      "<ipython-input-489-832af0f8e385>:91: DeprecationWarning: find_elements_by_* commands are deprecated. Please use find_elements() instead\n",
      "  driver.find_elements_by_xpath(search_xpath[j+1]).click()\n"
     ]
    },
    {
     "ename": "AttributeError",
     "evalue": "'list' object has no attribute 'click'",
     "output_type": "error",
     "traceback": [
      "\u001b[0;31m---------------------------------------------------------------------------\u001b[0m",
      "\u001b[0;31mElementClickInterceptedException\u001b[0m          Traceback (most recent call last)",
      "\u001b[0;32m<ipython-input-489-832af0f8e385>\u001b[0m in \u001b[0;36m<module>\u001b[0;34m\u001b[0m\n\u001b[1;32m     88\u001b[0m                         \u001b[0mtime\u001b[0m\u001b[0;34m.\u001b[0m\u001b[0msleep\u001b[0m\u001b[0;34m(\u001b[0m\u001b[0;36m0.001\u001b[0m\u001b[0;34m)\u001b[0m\u001b[0;34m\u001b[0m\u001b[0;34m\u001b[0m\u001b[0m\n\u001b[0;32m---> 89\u001b[0;31m                     \u001b[0melement\u001b[0m\u001b[0;34m.\u001b[0m\u001b[0mclick\u001b[0m\u001b[0;34m(\u001b[0m\u001b[0;34m)\u001b[0m\u001b[0;34m\u001b[0m\u001b[0;34m\u001b[0m\u001b[0m\n\u001b[0m\u001b[1;32m     90\u001b[0m                 \u001b[0;32mexcept\u001b[0m\u001b[0;34m:\u001b[0m\u001b[0;34m\u001b[0m\u001b[0;34m\u001b[0m\u001b[0m\n",
      "\u001b[0;32m~/opt/anaconda3/lib/python3.8/site-packages/selenium/webdriver/remote/webelement.py\u001b[0m in \u001b[0;36mclick\u001b[0;34m(self)\u001b[0m\n\u001b[1;32m     80\u001b[0m         \u001b[0;34m\"\"\"Clicks the element.\"\"\"\u001b[0m\u001b[0;34m\u001b[0m\u001b[0;34m\u001b[0m\u001b[0m\n\u001b[0;32m---> 81\u001b[0;31m         \u001b[0mself\u001b[0m\u001b[0;34m.\u001b[0m\u001b[0m_execute\u001b[0m\u001b[0;34m(\u001b[0m\u001b[0mCommand\u001b[0m\u001b[0;34m.\u001b[0m\u001b[0mCLICK_ELEMENT\u001b[0m\u001b[0;34m)\u001b[0m\u001b[0;34m\u001b[0m\u001b[0;34m\u001b[0m\u001b[0m\n\u001b[0m\u001b[1;32m     82\u001b[0m \u001b[0;34m\u001b[0m\u001b[0m\n",
      "\u001b[0;32m~/opt/anaconda3/lib/python3.8/site-packages/selenium/webdriver/remote/webelement.py\u001b[0m in \u001b[0;36m_execute\u001b[0;34m(self, command, params)\u001b[0m\n\u001b[1;32m    709\u001b[0m         \u001b[0mparams\u001b[0m\u001b[0;34m[\u001b[0m\u001b[0;34m'id'\u001b[0m\u001b[0;34m]\u001b[0m \u001b[0;34m=\u001b[0m \u001b[0mself\u001b[0m\u001b[0;34m.\u001b[0m\u001b[0m_id\u001b[0m\u001b[0;34m\u001b[0m\u001b[0;34m\u001b[0m\u001b[0m\n\u001b[0;32m--> 710\u001b[0;31m         \u001b[0;32mreturn\u001b[0m \u001b[0mself\u001b[0m\u001b[0;34m.\u001b[0m\u001b[0m_parent\u001b[0m\u001b[0;34m.\u001b[0m\u001b[0mexecute\u001b[0m\u001b[0;34m(\u001b[0m\u001b[0mcommand\u001b[0m\u001b[0;34m,\u001b[0m \u001b[0mparams\u001b[0m\u001b[0;34m)\u001b[0m\u001b[0;34m\u001b[0m\u001b[0;34m\u001b[0m\u001b[0m\n\u001b[0m\u001b[1;32m    711\u001b[0m \u001b[0;34m\u001b[0m\u001b[0m\n",
      "\u001b[0;32m~/opt/anaconda3/lib/python3.8/site-packages/selenium/webdriver/remote/webdriver.py\u001b[0m in \u001b[0;36mexecute\u001b[0;34m(self, driver_command, params)\u001b[0m\n\u001b[1;32m    423\u001b[0m         \u001b[0;32mif\u001b[0m \u001b[0mresponse\u001b[0m\u001b[0;34m:\u001b[0m\u001b[0;34m\u001b[0m\u001b[0;34m\u001b[0m\u001b[0m\n\u001b[0;32m--> 424\u001b[0;31m             \u001b[0mself\u001b[0m\u001b[0;34m.\u001b[0m\u001b[0merror_handler\u001b[0m\u001b[0;34m.\u001b[0m\u001b[0mcheck_response\u001b[0m\u001b[0;34m(\u001b[0m\u001b[0mresponse\u001b[0m\u001b[0;34m)\u001b[0m\u001b[0;34m\u001b[0m\u001b[0;34m\u001b[0m\u001b[0m\n\u001b[0m\u001b[1;32m    425\u001b[0m             response['value'] = self._unwrap_value(\n",
      "\u001b[0;32m~/opt/anaconda3/lib/python3.8/site-packages/selenium/webdriver/remote/errorhandler.py\u001b[0m in \u001b[0;36mcheck_response\u001b[0;34m(self, response)\u001b[0m\n\u001b[1;32m    246\u001b[0m             \u001b[0;32mraise\u001b[0m \u001b[0mexception_class\u001b[0m\u001b[0;34m(\u001b[0m\u001b[0mmessage\u001b[0m\u001b[0;34m,\u001b[0m \u001b[0mscreen\u001b[0m\u001b[0;34m,\u001b[0m \u001b[0mstacktrace\u001b[0m\u001b[0;34m,\u001b[0m \u001b[0malert_text\u001b[0m\u001b[0;34m)\u001b[0m  \u001b[0;31m# type: ignore[call-arg]  # mypy is not smart enough here\u001b[0m\u001b[0;34m\u001b[0m\u001b[0;34m\u001b[0m\u001b[0m\n\u001b[0;32m--> 247\u001b[0;31m         \u001b[0;32mraise\u001b[0m \u001b[0mexception_class\u001b[0m\u001b[0;34m(\u001b[0m\u001b[0mmessage\u001b[0m\u001b[0;34m,\u001b[0m \u001b[0mscreen\u001b[0m\u001b[0;34m,\u001b[0m \u001b[0mstacktrace\u001b[0m\u001b[0;34m)\u001b[0m\u001b[0;34m\u001b[0m\u001b[0;34m\u001b[0m\u001b[0m\n\u001b[0m\u001b[1;32m    248\u001b[0m \u001b[0;34m\u001b[0m\u001b[0m\n",
      "\u001b[0;31mElementClickInterceptedException\u001b[0m: Message: element click intercepted: Element <li class=\"list-group-item btn-more\" ng-show=\"check_more_review()\">...</li> is not clickable at point (430, 847). Other element would receive the click: <div ng-show=\"on_loading\" id=\"spinner\" style=\"\" class=\"\">...</div>\n  (Session info: chrome=97.0.4692.71)\nStacktrace:\n0   chromedriver                        0x00000001007e5408 __gxx_personality_v0 + 543364\n1   chromedriver                        0x000000010077b138 __gxx_personality_v0 + 108468\n2   chromedriver                        0x000000010037a7d8 chromedriver + 157656\n3   chromedriver                        0x00000001003b0530 chromedriver + 378160\n4   chromedriver                        0x00000001003ae75c chromedriver + 370524\n5   chromedriver                        0x00000001003ac570 chromedriver + 361840\n6   chromedriver                        0x00000001003ab2fc chromedriver + 357116\n7   chromedriver                        0x00000001003a0d64 chromedriver + 314724\n8   chromedriver                        0x00000001003a075c chromedriver + 313180\n9   chromedriver                        0x00000001003d37d4 chromedriver + 522196\n10  chromedriver                        0x000000010039f238 chromedriver + 307768\n11  chromedriver                        0x00000001007a8c7c __gxx_personality_v0 + 295672\n12  chromedriver                        0x00000001007bcbd8 __gxx_personality_v0 + 377428\n13  chromedriver                        0x00000001007c12b0 __gxx_personality_v0 + 395564\n14  chromedriver                        0x00000001007bd9f8 __gxx_personality_v0 + 381044\n15  chromedriver                        0x000000010079e754 __gxx_personality_v0 + 253392\n16  chromedriver                        0x00000001007d6a38 __gxx_personality_v0 + 483508\n17  chromedriver                        0x00000001007d6bac __gxx_personality_v0 + 483880\n18  chromedriver                        0x00000001007ebfec __gxx_personality_v0 + 570984\n19  libsystem_pthread.dylib             0x00000001942dd240 _pthread_start + 148\n20  libsystem_pthread.dylib             0x00000001942d8024 thread_start + 8\n",
      "\nDuring handling of the above exception, another exception occurred:\n",
      "\u001b[0;31mAttributeError\u001b[0m                            Traceback (most recent call last)",
      "\u001b[0;32m<ipython-input-489-832af0f8e385>\u001b[0m in \u001b[0;36m<module>\u001b[0;34m\u001b[0m\n\u001b[1;32m     89\u001b[0m                     \u001b[0melement\u001b[0m\u001b[0;34m.\u001b[0m\u001b[0mclick\u001b[0m\u001b[0;34m(\u001b[0m\u001b[0;34m)\u001b[0m\u001b[0;34m\u001b[0m\u001b[0;34m\u001b[0m\u001b[0m\n\u001b[1;32m     90\u001b[0m                 \u001b[0;32mexcept\u001b[0m\u001b[0;34m:\u001b[0m\u001b[0;34m\u001b[0m\u001b[0;34m\u001b[0m\u001b[0m\n\u001b[0;32m---> 91\u001b[0;31m                     \u001b[0mdriver\u001b[0m\u001b[0;34m.\u001b[0m\u001b[0mfind_elements_by_xpath\u001b[0m\u001b[0;34m(\u001b[0m\u001b[0msearch_xpath\u001b[0m\u001b[0;34m[\u001b[0m\u001b[0mj\u001b[0m\u001b[0;34m+\u001b[0m\u001b[0;36m1\u001b[0m\u001b[0;34m]\u001b[0m\u001b[0;34m)\u001b[0m\u001b[0;34m.\u001b[0m\u001b[0mclick\u001b[0m\u001b[0;34m(\u001b[0m\u001b[0;34m)\u001b[0m\u001b[0;34m\u001b[0m\u001b[0;34m\u001b[0m\u001b[0m\n\u001b[0m\u001b[1;32m     92\u001b[0m \u001b[0;34m\u001b[0m\u001b[0m\n\u001b[1;32m     93\u001b[0m \u001b[0;34m\u001b[0m\u001b[0m\n",
      "\u001b[0;31mAttributeError\u001b[0m: 'list' object has no attribute 'click'"
     ]
    }
   ],
   "source": [
    "#이것만 된다면\n",
    "COLUM = 2\n",
    "ROW = 1\n",
    "total = [[0 for r in range(COLUM)] for j in range(ROW)] \n",
    "        \n",
    "#do not use images\n",
    "option.add_argument('--blink-settings=imagesEnabled=false')\n",
    "\n",
    "#driver path \n",
    "driver = webdriver.Chrome('/Users/heetae/Desktop/chromedriver',options=option)\n",
    "\n",
    "#url 접속\n",
    "url='https://www.yogiyo.co.kr/mobile/?gclid=CjwKCAiAlfqOBhAeEiwAYi43F8ROi2y0U2h8KlBwEuLVkCZMWDoxWDwgv4CeOBQhbvujsiqrsN_9qhoCRL0QAvD_BwE#/%EC%84%9C%EC%9A%B8%ED%8A%B9%EB%B3%84%EC%8B%9C/152091/%EC%B9%98%ED%82%A8/'\n",
    "#yogiyo_selector(url)\n",
    "response = requests.get(url)\n",
    "\n",
    "driver.get(url)\n",
    "driver.implicitly_wait(10)\n",
    "time.sleep(2)\n",
    "driver.execute_script(\"location.reload()\")\n",
    "time.sleep(2)    \n",
    "selector_tmp = []\n",
    "\n",
    "tmp1='document.querySelector('\n",
    "tmp2=\"'#content > div > div:nth-child(4) > div > div.restaurant-list > div:nth-child(\"\n",
    "tmp3=tmp1+tmp2\n",
    "tmp4=\") > div')\"\n",
    "tmp5=\".click()\"\n",
    "\n",
    "for i in range(10000):\n",
    "    tmp6=str(i+1)\n",
    "    tmp=tmp3+tmp6+tmp4+tmp5\n",
    "    selector_tmp.append(tmp)\n",
    "\n",
    "selector_find=[]\n",
    "for i in range(10000):\n",
    "    selector_find.append(\"#content > div > div:nth-child(4 > div > div.restaurant-list > div:nth-child(\"+str(i+1)+\") > div\")\n",
    "\n",
    "for i in range(10000):\n",
    "    try:\n",
    "        driver.execute_script(selector_tmp[i])\n",
    "\n",
    "        search_xpath = '//*[@id=\"content\"]/div[2]/div[1]/ul/li[2]/a'\n",
    "        element = WebDriverWait(driver, 10).until(EC.presence_of_element_located((By.XPATH,search_xpath)))\n",
    "#        while len(driver.find_elements_by_xpath(search_xpath))<0:\n",
    "#            time.sleep(1)\n",
    "#        element.click()\n",
    "        try:\n",
    "            element.click()\n",
    "        except:\n",
    "            while len(driver.find_elements_by_xpath(search_xpath))<0: \n",
    "                time.sleep(1.001)\n",
    "            element.click()\n",
    "        '''\n",
    "        except ValueError as m:\n",
    "            time.sleep(1)\n",
    "            driver.find_element_by_xpath(search_xpath).click()\n",
    "            '''\n",
    "\n",
    "        #페이지 정보 업로드\n",
    "        html = driver.page_source\n",
    "        html_source = bs(html, 'html.parser')\n",
    "        soup = bs(html, 'html.parser')\n",
    "\n",
    "        #리뷰수 파악\n",
    "        num = html_source.find_all(\"strong\", attrs = {\"class\":'ng-binding'})\n",
    "        review_num=[]\n",
    "        for t in num:\n",
    "            review_num.append(t.string)\n",
    "        #총리뷰수 구하기\n",
    "        total_review_num = int(review_num[1])\n",
    "\n",
    "        #xpath초기화\n",
    "        search_xpath=[]\n",
    "\n",
    "        #xpath 설정\n",
    "        if ((total_review_num//10) >0) :\n",
    "            for k in range(total_review_num//10):\n",
    "                xpath_tmp= '//*[@id=\"review\"]/li['+str((k*10+2))+']'\n",
    "                search_xpath.append(xpath_tmp)\n",
    "            #xpath로 더보기\n",
    "            print('더보기시작')\n",
    "            for j in range(len(search_xpath)-1):\n",
    "                try:\n",
    "\n",
    "                    element = WebDriverWait(driver, 5).until(EC.presence_of_element_located((By.XPATH,search_xpath[j+1])))\n",
    "                    while len(driver.find_elements_by_xpath(search_xpath[j+1]))<0:\n",
    "                        time.sleep(0.001)\n",
    "                    element.click()\n",
    "                except:\n",
    "                    driver.find_elements_by_xpath(search_xpath[j+1]).click()\n",
    "              \n",
    "\n",
    "        #저장\n",
    "        html = driver.page_source\n",
    "        html_source = bs(html, 'html.parser')\n",
    "        soup = bs(html, 'html.parser')\n",
    "\n",
    "        #review\n",
    "        restaurant_re = html_source.find_all(\"p\", attrs = {\"class\":\"ng-binding\",'ng-bind-html':\"review.comment|strip_html\"})\n",
    "        #review_award\n",
    "        restaurant_star = html_source.find_all(\"span\", attrs = {\"class\":'total'})\n",
    "        #리뷰만\n",
    "\n",
    "        review_list = []\n",
    "        result_list = []\n",
    "        #데이터 배열\n",
    "        for r in restaurant_re:\n",
    "            tmp=re.sub(r'[\\n\\r]+', '',r.string)\n",
    "            tmp=\" \".join(re.compile(r'[가-힣]+|[0-9]+').findall(tmp))\n",
    "            review_list.append(tmp)\n",
    "        #별점\n",
    "        star_tmp=[]\n",
    "        for q in restaurant_star:\n",
    "                g=(str(str(q)).count('full ng-scope'))\n",
    "                star_tmp.append(g)\n",
    "        #데이터 프레임 형태로 만들기\n",
    "        COLUM = 2\n",
    "        ROW = len(star_tmp)\n",
    "        total_tmp = [[0 for r in range(COLUM)] for j in range(ROW)] \n",
    "        for r in range(len(review_list)):\n",
    "            total_tmp[r][0]=review_list[r]\n",
    "        for r in range(len(star_tmp)):\n",
    "            total_tmp[r][1]=(star_tmp[r])\n",
    "        total.append(total_tmp)  \n",
    "        driver.get(url)\n",
    "        time.sleep(3)\n",
    "    except ValueError as m:\n",
    "        print(m)\n",
    "        break\n"
   ]
  },
  {
   "cell_type": "code",
   "execution_count": 500,
   "id": "b2933561-16e8-47db-82b2-053fd028e303",
   "metadata": {
    "scrolled": true,
    "tags": []
   },
   "outputs": [
    {
     "data": {
      "text/plain": [
       "5"
      ]
     },
     "execution_count": 500,
     "metadata": {},
     "output_type": "execute_result"
    }
   ],
   "source": [
    "total[3][1][1]"
   ]
  },
  {
   "cell_type": "code",
   "execution_count": 351,
   "id": "efb4475b-37e0-4021-8c55-c5ae9029a3ad",
   "metadata": {
    "scrolled": true,
    "tags": []
   },
   "outputs": [
    {
     "ename": "ElementClickInterceptedException",
     "evalue": "Message: element click intercepted: Element <li class=\"list-group-item star-point ng-scope\" ng-repeat=\"review in restaurant.reviews\" on-finish-render=\"scrollCartArea()\">...</li> is not clickable at point (322, 551). Other element would receive the click: <img class=\"preview-image\" src=\"https://rev-static.yogiyo.co.kr/80f32f9a047c82092448ad244296a65a.jpg\" alt=\"image for resizing\" style=\"visibility: visible; top: 0px; width: 400.219px; height: 857px;\">\n  (Session info: chrome=97.0.4692.71)\nStacktrace:\n0   chromedriver                        0x0000000104ce1408 __gxx_personality_v0 + 543364\n1   chromedriver                        0x0000000104c77138 __gxx_personality_v0 + 108468\n2   chromedriver                        0x00000001048767d8 chromedriver + 157656\n3   chromedriver                        0x00000001048ac530 chromedriver + 378160\n4   chromedriver                        0x00000001048aa75c chromedriver + 370524\n5   chromedriver                        0x00000001048a8570 chromedriver + 361840\n6   chromedriver                        0x00000001048a72fc chromedriver + 357116\n7   chromedriver                        0x000000010489cd64 chromedriver + 314724\n8   chromedriver                        0x000000010489c75c chromedriver + 313180\n9   chromedriver                        0x00000001048cf7d4 chromedriver + 522196\n10  chromedriver                        0x000000010489b238 chromedriver + 307768\n11  chromedriver                        0x0000000104ca4c7c __gxx_personality_v0 + 295672\n12  chromedriver                        0x0000000104cb8bd8 __gxx_personality_v0 + 377428\n13  chromedriver                        0x0000000104cbd2b0 __gxx_personality_v0 + 395564\n14  chromedriver                        0x0000000104cb99f8 __gxx_personality_v0 + 381044\n15  chromedriver                        0x0000000104c9a754 __gxx_personality_v0 + 253392\n16  chromedriver                        0x0000000104cd2a38 __gxx_personality_v0 + 483508\n17  chromedriver                        0x0000000104cd2bac __gxx_personality_v0 + 483880\n18  chromedriver                        0x0000000104ce7fec __gxx_personality_v0 + 570984\n19  libsystem_pthread.dylib             0x00000001942dd240 _pthread_start + 148\n20  libsystem_pthread.dylib             0x00000001942d8024 thread_start + 8\n",
     "output_type": "error",
     "traceback": [
      "\u001b[0;31m---------------------------------------------------------------------------\u001b[0m",
      "\u001b[0;31mElementClickInterceptedException\u001b[0m          Traceback (most recent call last)",
      "\u001b[0;32m<ipython-input-351-7e75d74cd0e6>\u001b[0m in \u001b[0;36m<module>\u001b[0;34m\u001b[0m\n\u001b[1;32m      2\u001b[0m                 \u001b[0;32mtry\u001b[0m\u001b[0;34m:\u001b[0m\u001b[0;34m\u001b[0m\u001b[0;34m\u001b[0m\u001b[0m\n\u001b[1;32m      3\u001b[0m                     \u001b[0melement\u001b[0m \u001b[0;34m=\u001b[0m \u001b[0mWebDriverWait\u001b[0m\u001b[0;34m(\u001b[0m\u001b[0mdriver\u001b[0m\u001b[0;34m,\u001b[0m \u001b[0;36m5\u001b[0m\u001b[0;34m)\u001b[0m\u001b[0;34m.\u001b[0m\u001b[0muntil\u001b[0m\u001b[0;34m(\u001b[0m\u001b[0mEC\u001b[0m\u001b[0;34m.\u001b[0m\u001b[0mpresence_of_element_located\u001b[0m\u001b[0;34m(\u001b[0m\u001b[0;34m(\u001b[0m\u001b[0mBy\u001b[0m\u001b[0;34m.\u001b[0m\u001b[0mXPATH\u001b[0m\u001b[0;34m,\u001b[0m\u001b[0msearch_xpath\u001b[0m\u001b[0;34m[\u001b[0m\u001b[0mj\u001b[0m\u001b[0;34m+\u001b[0m\u001b[0;36m1\u001b[0m\u001b[0;34m]\u001b[0m\u001b[0;34m)\u001b[0m\u001b[0;34m)\u001b[0m\u001b[0;34m)\u001b[0m\u001b[0;34m\u001b[0m\u001b[0;34m\u001b[0m\u001b[0m\n\u001b[0;32m----> 4\u001b[0;31m                     \u001b[0melement\u001b[0m\u001b[0;34m.\u001b[0m\u001b[0mclick\u001b[0m\u001b[0;34m(\u001b[0m\u001b[0;34m)\u001b[0m\u001b[0;34m\u001b[0m\u001b[0;34m\u001b[0m\u001b[0m\n\u001b[0m\u001b[1;32m      5\u001b[0m                 \u001b[0;32mexcept\u001b[0m \u001b[0mValueError\u001b[0m \u001b[0;32mas\u001b[0m \u001b[0mm\u001b[0m\u001b[0;34m:\u001b[0m\u001b[0;34m\u001b[0m\u001b[0;34m\u001b[0m\u001b[0m\n\u001b[1;32m      6\u001b[0m                     \u001b[0mprint\u001b[0m\u001b[0;34m(\u001b[0m\u001b[0;34m'error_ '\u001b[0m\u001b[0;34m,\u001b[0m\u001b[0mj\u001b[0m\u001b[0;34m)\u001b[0m\u001b[0;34m\u001b[0m\u001b[0;34m\u001b[0m\u001b[0m\n",
      "\u001b[0;32m~/opt/anaconda3/lib/python3.8/site-packages/selenium/webdriver/remote/webelement.py\u001b[0m in \u001b[0;36mclick\u001b[0;34m(self)\u001b[0m\n\u001b[1;32m     79\u001b[0m     \u001b[0;32mdef\u001b[0m \u001b[0mclick\u001b[0m\u001b[0;34m(\u001b[0m\u001b[0mself\u001b[0m\u001b[0;34m)\u001b[0m \u001b[0;34m->\u001b[0m \u001b[0;32mNone\u001b[0m\u001b[0;34m:\u001b[0m\u001b[0;34m\u001b[0m\u001b[0;34m\u001b[0m\u001b[0m\n\u001b[1;32m     80\u001b[0m         \u001b[0;34m\"\"\"Clicks the element.\"\"\"\u001b[0m\u001b[0;34m\u001b[0m\u001b[0;34m\u001b[0m\u001b[0m\n\u001b[0;32m---> 81\u001b[0;31m         \u001b[0mself\u001b[0m\u001b[0;34m.\u001b[0m\u001b[0m_execute\u001b[0m\u001b[0;34m(\u001b[0m\u001b[0mCommand\u001b[0m\u001b[0;34m.\u001b[0m\u001b[0mCLICK_ELEMENT\u001b[0m\u001b[0;34m)\u001b[0m\u001b[0;34m\u001b[0m\u001b[0;34m\u001b[0m\u001b[0m\n\u001b[0m\u001b[1;32m     82\u001b[0m \u001b[0;34m\u001b[0m\u001b[0m\n\u001b[1;32m     83\u001b[0m     \u001b[0;32mdef\u001b[0m \u001b[0msubmit\u001b[0m\u001b[0;34m(\u001b[0m\u001b[0mself\u001b[0m\u001b[0;34m)\u001b[0m\u001b[0;34m:\u001b[0m\u001b[0;34m\u001b[0m\u001b[0;34m\u001b[0m\u001b[0m\n",
      "\u001b[0;32m~/opt/anaconda3/lib/python3.8/site-packages/selenium/webdriver/remote/webelement.py\u001b[0m in \u001b[0;36m_execute\u001b[0;34m(self, command, params)\u001b[0m\n\u001b[1;32m    708\u001b[0m             \u001b[0mparams\u001b[0m \u001b[0;34m=\u001b[0m \u001b[0;34m{\u001b[0m\u001b[0;34m}\u001b[0m\u001b[0;34m\u001b[0m\u001b[0;34m\u001b[0m\u001b[0m\n\u001b[1;32m    709\u001b[0m         \u001b[0mparams\u001b[0m\u001b[0;34m[\u001b[0m\u001b[0;34m'id'\u001b[0m\u001b[0;34m]\u001b[0m \u001b[0;34m=\u001b[0m \u001b[0mself\u001b[0m\u001b[0;34m.\u001b[0m\u001b[0m_id\u001b[0m\u001b[0;34m\u001b[0m\u001b[0;34m\u001b[0m\u001b[0m\n\u001b[0;32m--> 710\u001b[0;31m         \u001b[0;32mreturn\u001b[0m \u001b[0mself\u001b[0m\u001b[0;34m.\u001b[0m\u001b[0m_parent\u001b[0m\u001b[0;34m.\u001b[0m\u001b[0mexecute\u001b[0m\u001b[0;34m(\u001b[0m\u001b[0mcommand\u001b[0m\u001b[0;34m,\u001b[0m \u001b[0mparams\u001b[0m\u001b[0;34m)\u001b[0m\u001b[0;34m\u001b[0m\u001b[0;34m\u001b[0m\u001b[0m\n\u001b[0m\u001b[1;32m    711\u001b[0m \u001b[0;34m\u001b[0m\u001b[0m\n\u001b[1;32m    712\u001b[0m     \u001b[0;32mdef\u001b[0m \u001b[0mfind_element\u001b[0m\u001b[0;34m(\u001b[0m\u001b[0mself\u001b[0m\u001b[0;34m,\u001b[0m \u001b[0mby\u001b[0m\u001b[0;34m=\u001b[0m\u001b[0mBy\u001b[0m\u001b[0;34m.\u001b[0m\u001b[0mID\u001b[0m\u001b[0;34m,\u001b[0m \u001b[0mvalue\u001b[0m\u001b[0;34m=\u001b[0m\u001b[0;32mNone\u001b[0m\u001b[0;34m)\u001b[0m\u001b[0;34m:\u001b[0m\u001b[0;34m\u001b[0m\u001b[0;34m\u001b[0m\u001b[0m\n",
      "\u001b[0;32m~/opt/anaconda3/lib/python3.8/site-packages/selenium/webdriver/remote/webdriver.py\u001b[0m in \u001b[0;36mexecute\u001b[0;34m(self, driver_command, params)\u001b[0m\n\u001b[1;32m    422\u001b[0m         \u001b[0mresponse\u001b[0m \u001b[0;34m=\u001b[0m \u001b[0mself\u001b[0m\u001b[0;34m.\u001b[0m\u001b[0mcommand_executor\u001b[0m\u001b[0;34m.\u001b[0m\u001b[0mexecute\u001b[0m\u001b[0;34m(\u001b[0m\u001b[0mdriver_command\u001b[0m\u001b[0;34m,\u001b[0m \u001b[0mparams\u001b[0m\u001b[0;34m)\u001b[0m\u001b[0;34m\u001b[0m\u001b[0;34m\u001b[0m\u001b[0m\n\u001b[1;32m    423\u001b[0m         \u001b[0;32mif\u001b[0m \u001b[0mresponse\u001b[0m\u001b[0;34m:\u001b[0m\u001b[0;34m\u001b[0m\u001b[0;34m\u001b[0m\u001b[0m\n\u001b[0;32m--> 424\u001b[0;31m             \u001b[0mself\u001b[0m\u001b[0;34m.\u001b[0m\u001b[0merror_handler\u001b[0m\u001b[0;34m.\u001b[0m\u001b[0mcheck_response\u001b[0m\u001b[0;34m(\u001b[0m\u001b[0mresponse\u001b[0m\u001b[0;34m)\u001b[0m\u001b[0;34m\u001b[0m\u001b[0;34m\u001b[0m\u001b[0m\n\u001b[0m\u001b[1;32m    425\u001b[0m             response['value'] = self._unwrap_value(\n\u001b[1;32m    426\u001b[0m                 response.get('value', None))\n",
      "\u001b[0;32m~/opt/anaconda3/lib/python3.8/site-packages/selenium/webdriver/remote/errorhandler.py\u001b[0m in \u001b[0;36mcheck_response\u001b[0;34m(self, response)\u001b[0m\n\u001b[1;32m    245\u001b[0m                 \u001b[0malert_text\u001b[0m \u001b[0;34m=\u001b[0m \u001b[0mvalue\u001b[0m\u001b[0;34m[\u001b[0m\u001b[0;34m'alert'\u001b[0m\u001b[0;34m]\u001b[0m\u001b[0;34m.\u001b[0m\u001b[0mget\u001b[0m\u001b[0;34m(\u001b[0m\u001b[0;34m'text'\u001b[0m\u001b[0;34m)\u001b[0m\u001b[0;34m\u001b[0m\u001b[0;34m\u001b[0m\u001b[0m\n\u001b[1;32m    246\u001b[0m             \u001b[0;32mraise\u001b[0m \u001b[0mexception_class\u001b[0m\u001b[0;34m(\u001b[0m\u001b[0mmessage\u001b[0m\u001b[0;34m,\u001b[0m \u001b[0mscreen\u001b[0m\u001b[0;34m,\u001b[0m \u001b[0mstacktrace\u001b[0m\u001b[0;34m,\u001b[0m \u001b[0malert_text\u001b[0m\u001b[0;34m)\u001b[0m  \u001b[0;31m# type: ignore[call-arg]  # mypy is not smart enough here\u001b[0m\u001b[0;34m\u001b[0m\u001b[0;34m\u001b[0m\u001b[0m\n\u001b[0;32m--> 247\u001b[0;31m         \u001b[0;32mraise\u001b[0m \u001b[0mexception_class\u001b[0m\u001b[0;34m(\u001b[0m\u001b[0mmessage\u001b[0m\u001b[0;34m,\u001b[0m \u001b[0mscreen\u001b[0m\u001b[0;34m,\u001b[0m \u001b[0mstacktrace\u001b[0m\u001b[0;34m)\u001b[0m\u001b[0;34m\u001b[0m\u001b[0;34m\u001b[0m\u001b[0m\n\u001b[0m\u001b[1;32m    248\u001b[0m \u001b[0;34m\u001b[0m\u001b[0m\n\u001b[1;32m    249\u001b[0m     \u001b[0;32mdef\u001b[0m \u001b[0m_value_or_default\u001b[0m\u001b[0;34m(\u001b[0m\u001b[0mself\u001b[0m\u001b[0;34m,\u001b[0m \u001b[0mobj\u001b[0m\u001b[0;34m:\u001b[0m \u001b[0mMapping\u001b[0m\u001b[0;34m[\u001b[0m\u001b[0m_KT\u001b[0m\u001b[0;34m,\u001b[0m \u001b[0m_VT\u001b[0m\u001b[0;34m]\u001b[0m\u001b[0;34m,\u001b[0m \u001b[0mkey\u001b[0m\u001b[0;34m:\u001b[0m \u001b[0m_KT\u001b[0m\u001b[0;34m,\u001b[0m \u001b[0mdefault\u001b[0m\u001b[0;34m:\u001b[0m \u001b[0m_VT\u001b[0m\u001b[0;34m)\u001b[0m \u001b[0;34m->\u001b[0m \u001b[0m_VT\u001b[0m\u001b[0;34m:\u001b[0m\u001b[0;34m\u001b[0m\u001b[0;34m\u001b[0m\u001b[0m\n",
      "\u001b[0;31mElementClickInterceptedException\u001b[0m: Message: element click intercepted: Element <li class=\"list-group-item star-point ng-scope\" ng-repeat=\"review in restaurant.reviews\" on-finish-render=\"scrollCartArea()\">...</li> is not clickable at point (322, 551). Other element would receive the click: <img class=\"preview-image\" src=\"https://rev-static.yogiyo.co.kr/80f32f9a047c82092448ad244296a65a.jpg\" alt=\"image for resizing\" style=\"visibility: visible; top: 0px; width: 400.219px; height: 857px;\">\n  (Session info: chrome=97.0.4692.71)\nStacktrace:\n0   chromedriver                        0x0000000104ce1408 __gxx_personality_v0 + 543364\n1   chromedriver                        0x0000000104c77138 __gxx_personality_v0 + 108468\n2   chromedriver                        0x00000001048767d8 chromedriver + 157656\n3   chromedriver                        0x00000001048ac530 chromedriver + 378160\n4   chromedriver                        0x00000001048aa75c chromedriver + 370524\n5   chromedriver                        0x00000001048a8570 chromedriver + 361840\n6   chromedriver                        0x00000001048a72fc chromedriver + 357116\n7   chromedriver                        0x000000010489cd64 chromedriver + 314724\n8   chromedriver                        0x000000010489c75c chromedriver + 313180\n9   chromedriver                        0x00000001048cf7d4 chromedriver + 522196\n10  chromedriver                        0x000000010489b238 chromedriver + 307768\n11  chromedriver                        0x0000000104ca4c7c __gxx_personality_v0 + 295672\n12  chromedriver                        0x0000000104cb8bd8 __gxx_personality_v0 + 377428\n13  chromedriver                        0x0000000104cbd2b0 __gxx_personality_v0 + 395564\n14  chromedriver                        0x0000000104cb99f8 __gxx_personality_v0 + 381044\n15  chromedriver                        0x0000000104c9a754 __gxx_personality_v0 + 253392\n16  chromedriver                        0x0000000104cd2a38 __gxx_personality_v0 + 483508\n17  chromedriver                        0x0000000104cd2bac __gxx_personality_v0 + 483880\n18  chromedriver                        0x0000000104ce7fec __gxx_personality_v0 + 570984\n19  libsystem_pthread.dylib             0x00000001942dd240 _pthread_start + 148\n20  libsystem_pthread.dylib             0x00000001942d8024 thread_start + 8\n"
     ]
    }
   ],
   "source": [
    "for j in range(len(search_xpath)-1):\n",
    "                try:\n",
    "                    element = WebDriverWait(driver, 5).until(EC.presence_of_element_located((By.XPATH,search_xpath[j+1])))\n",
    "                    element.click()\n",
    "                except ValueError as m:\n",
    "                    print('error_ ',j)\n",
    "                    print(m)\n",
    "                    time.sleep(1)\n",
    "                    driver.find_element_by_xpath(search_xpath[j+1]).click()()"
   ]
  },
  {
   "cell_type": "code",
   "execution_count": 348,
   "id": "b8343e50-ba68-471f-a853-e4a1529d9857",
   "metadata": {},
   "outputs": [
    {
     "name": "stderr",
     "output_type": "stream",
     "text": [
      "<ipython-input-348-bd126e97c34f>:9: DeprecationWarning: executable_path has been deprecated, please pass in a Service object\n",
      "  driver = webdriver.Chrome('/Users/heetae/Desktop/chromedriver')\n",
      "<ipython-input-347-3816bae0dde9>:108: DeprecationWarning: find_element_by_* commands are deprecated. Please use find_element() instead\n",
      "  driver.find_element_by_tag_name('body').send_keys(Keys.PAGE_DOWN)\n"
     ]
    }
   ],
   "source": [
    "#url='https://www.yogiyo.co.kr/mobile/?gclid=CjwKCAiAlfqOBhAeEiwAYi43Fydq6Co8zJWDqTsovrBkrN3mMNxafoJ1ZjbVXWA1Ad0o_9c6Q-qV4xoCQRUQAvD_BwE#/%EC%84%9C%EC%9A%B8%ED%8A%B9%EB%B3%84%EC%8B%9C/152091/%EC%B9%98%ED%82%A8/'\n",
    "#User_agent check\n",
    "#driver.execute_script('return navigator.userAgent')\n",
    "\n",
    "#do not use images\n",
    "option.add_argument('--blink-settings=imagesEnabled=false')\n",
    "\n",
    "#driver path \n",
    "driver = webdriver.Chrome('/Users/heetae/Desktop/chromedriver')\n",
    "\n",
    "#url 접속\n",
    "\n",
    "url='https://www.yogiyo.co.kr/mobile/?gclid=CjwKCAiAlfqOBhAeEiwAYi43F8ROi2y0U2h8KlBwEuLVkCZMWDoxWDwgv4CeOBQhbvujsiqrsN_9qhoCRL0QAvD_BwE#/%EC%84%9C%EC%9A%B8%ED%8A%B9%EB%B3%84%EC%8B%9C/152091/%EC%B9%98%ED%82%A8/'\n",
    "yogiyo_selector(url)"
   ]
  },
  {
   "cell_type": "code",
   "execution_count": 347,
   "id": "90bcb67c-8c93-49ce-a227-3dfbd94f10ad",
   "metadata": {},
   "outputs": [],
   "source": [
    "#함수\n",
    "def yogiyo_selector(url):\n",
    "    response = requests.get(url)\n",
    "    \n",
    "    driver.get(url)\n",
    "    driver.implicitly_wait(10)\n",
    "    time.sleep(2)\n",
    "    driver.execute_script(\"location.reload()\")\n",
    "    time.sleep(2)    \n",
    "    selector_tmp = []\n",
    "    \n",
    "    tmp1='document.querySelector('\n",
    "    tmp2=\"'#content > div > div:nth-child(3) > div > div.restaurant-list > div:nth-child(\"\n",
    "    tmp3=tmp1+tmp2\n",
    "    tmp4=\") > div')\"\n",
    "    tmp5=\".click()\"\n",
    "\n",
    "    for i in range(10000):\n",
    "        tmp6=str(i+1)\n",
    "        tmp=tmp3+tmp6+tmp4+tmp5\n",
    "        selector_tmp.append(tmp)\n",
    "\n",
    "    selector_find=[]\n",
    "    for i in range(10000):\n",
    "        selector_find.append(\"#content > div > div:nth-child(3) > div > div.restaurant-list > div:nth-child(\"+str(i+1)+\") > div\")\n",
    "\n",
    "    for i in range(10000):\n",
    "        try:\n",
    "            driver.execute_script(selector_tmp[i])\n",
    "\n",
    "            search_xpath = '//*[@id=\"content\"]/div[2]/div[1]/ul/li[2]/a'\n",
    "            element = WebDriverWait(driver, 10).until(EC.presence_of_element_located((By.XPATH,search_xpath)))\n",
    "            try:\n",
    "                element.click()\n",
    "            except ValueError as m:\n",
    "                print(m)\n",
    "                time.sleep(1)\n",
    "                driver.find_element_by_xpath(search_xpath).click()\n",
    "\n",
    "\n",
    "            #페이지 정보 업로드\n",
    "            html = driver.page_source\n",
    "            html_source = bs(html, 'html.parser')\n",
    "            soup = bs(html, 'html.parser')\n",
    "\n",
    "            #리뷰수 파악\n",
    "            num = html_source.find_all(\"strong\", attrs = {\"class\":'ng-binding'})\n",
    "            review_num=[]\n",
    "            for t in num:\n",
    "                review_num.append(t.string)\n",
    "            #총리뷰수 구하기\n",
    "            total_review_num = int(review_num[1])\n",
    "\n",
    "            #xpath초기화\n",
    "            search_xpath=[]\n",
    "\n",
    "            #xpath 설정\n",
    "            if ((total_review_num//10) >0) :\n",
    "                for i in range(total_review_num//10):\n",
    "                    tcp= '//*[@id=\"review\"]/li['+str((i*10+2))+']'\n",
    "                    search_xpath.append(tcp)\n",
    "                #xpath로 더보기\n",
    "                for j in range(len(search_xpath)-1):\n",
    "                    try:\n",
    "                        element = WebDriverWait(driver, 5).until(EC.presence_of_element_located((By.XPATH,search_xpath[j+1])))\n",
    "                        element.click()\n",
    "                    except ValueError as m:\n",
    "                        print('error_ ',j)\n",
    "                        print(m)\n",
    "                        time.sleep(1)\n",
    "                        driver.find_element_by_xpath(search_xpath[j+1]).click()()\n",
    "            else:\n",
    "                print('pass')\n",
    "                pass\n",
    "            #저장\n",
    "            html = driver.page_source\n",
    "            html_source = bs(html, 'html.parser')\n",
    "            soup = bs(html, 'html.parser')\n",
    "\n",
    "            #review\n",
    "            restaurant_re = html_source.find_all(\"p\", attrs = {\"class\":\"ng-binding\",'ng-bind-html':\"review.comment|strip_html\"})\n",
    "            #review_award\n",
    "            restaurant_star = html_source.find_all(\"span\", attrs = {\"class\":'total'})\n",
    "            #리뷰만\n",
    "\n",
    "            review_list = []\n",
    "            result_list = []\n",
    "            #데이터 배열\n",
    "            for i in restaurant_re:\n",
    "                tmp=re.sub(r'[\\n\\r]+', '',i.string)\n",
    "                tmp=\" \".join(re.compile(r'[가-힣]+|[0-9]+').findall(tmp))\n",
    "                review_list.append(tmp)\n",
    "            #별점\n",
    "            star_tmp=[]\n",
    "            for q in restaurant_star:\n",
    "                    g=(str(str(q)).count('full ng-scope'))\n",
    "                    star_tmp.append(g)\n",
    "            #데이터 프레임 형태로 만들기\n",
    "            COLUM = 2\n",
    "            ROW = len(star_tmp)\n",
    "            total = [[0 for i in range(COLUM)] for j in range(ROW)] \n",
    "            for i in range(len(review_list)):\n",
    "                total[i][0]=review_list[i]\n",
    "            for i in range(len(star_tmp)):\n",
    "                total[i][1]=(star_tmp[i])\n",
    "        except:\n",
    "            try:\n",
    "                driver.find_element_by_tag_name('body').send_keys(Keys.PAGE_DOWN)\n",
    "            except:\n",
    "                break\n",
    "            break\n",
    "            "
   ]
  },
  {
   "cell_type": "markdown",
   "id": "27f82dcc-303b-44b0-bd88-22016464f3af",
   "metadata": {},
   "source": [
    "selector를 사용하여야 한다.\n",
    "\n",
    "#content > div > div:nth-child(3) > div > div.restaurant-list > div:nth-child(1) > div\n",
    "이게 요기요 가맹점에 들어가는 selector다. \n",
    "\n",
    "요기요의 경우 광고로 인한 노출이 두가지가 있다. 하지만 내가 필요한 정보와 중첩이 되기 떄문에 요기요에 등록된 것만 필요하다.\n",
    "중간의 div:nth-child(숫자)에서 숫자가 1이면 최상단에 광고노출박스, 2면 슈퍼레드위크 추천, 3이면 일반이다.\n",
    "\n",
    "뒤 div:nth-child(1)가 핵심이다.\n",
    "1~n으로 늘어난다. 따라서 이부분은 추출을 할 수 없어서 강제로 for문으로 만들어 주었다.\n",
    "하지만 \\가 출력되는 에러가 있어서 복잡하지만 하기의 방법처럼 추가를 해주어야 한다."
   ]
  },
  {
   "cell_type": "code",
   "execution_count": 327,
   "id": "558d41d3-b269-4d96-b566-ea2269683b2b",
   "metadata": {
    "tags": []
   },
   "outputs": [],
   "source": [
    "\n",
    "selector_tmp = []\n",
    "\n",
    "tmp1='document.querySelector('\n",
    "tmp2=\"'#content > div > div:nth-child(3) > div > div.restaurant-list > div:nth-child(\"\n",
    "tmp3=tmp1+tmp2\n",
    "tmp4=\") > div')\"\n",
    "tmp5=\".click()\"\n",
    "\n",
    "for i in range(10000):\n",
    "    tmp6=str(i+1)\n",
    "    tmp=tmp3+tmp6+tmp4+tmp5\n",
    "    selector_tmp.append(tmp)\n",
    "    \n",
    "selector_find=[]\n",
    "for i in range(10000):\n",
    "    selector_find.append(\"#content > div > div:nth-child(3) > div > div.restaurant-list > div:nth-child(\"+str(i+1)+\") > div\")"
   ]
  }
 ],
 "metadata": {
  "kernelspec": {
   "display_name": "Python 3",
   "language": "python",
   "name": "python3"
  },
  "language_info": {
   "codemirror_mode": {
    "name": "ipython",
    "version": 3
   },
   "file_extension": ".py",
   "mimetype": "text/x-python",
   "name": "python",
   "nbconvert_exporter": "python",
   "pygments_lexer": "ipython3",
   "version": "3.8.8"
  }
 },
 "nbformat": 4,
 "nbformat_minor": 5
}
