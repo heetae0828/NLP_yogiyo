{
 "cells": [
  {
   "cell_type": "code",
   "execution_count": 1,
   "id": "0f9efb7c-a3c3-49b8-8157-20117cc5e0f7",
   "metadata": {},
   "outputs": [],
   "source": [
    "#웹크롤링을 통한 리뷰 분석 시작"
   ]
  },
  {
   "cell_type": "code",
   "execution_count": 9,
   "id": "ca905c5d-cbf2-4275-8ce3-fb5000c2eee8",
   "metadata": {},
   "outputs": [],
   "source": [
    "#main\n",
    "from urllib.request import urlopen\n",
    "from bs4 import BeautifulSoup as bs\n",
    "import selenium\n",
    "from selenium import webdriver\n",
    "from selenium.webdriver.chrome.options import Options\n",
    "import time\n",
    "import pandas as pd\n",
    "import requests\n",
    "import re\n",
    "from selenium.webdriver.common.by import By\n",
    "from selenium.webdriver.support.ui import WebDriverWait\n",
    "from selenium.webdriver.support import expected_conditions as EC"
   ]
  },
  {
   "cell_type": "code",
   "execution_count": 5,
   "id": "a80c18a9-245d-46da-a0c9-c8ed84a25d82",
   "metadata": {},
   "outputs": [],
   "source": [
    "#deriver option\n",
    "option = Options()\n"
   ]
  },
  {
   "cell_type": "code",
   "execution_count": 111,
   "id": "f888351e-972f-4389-b44c-fd4f39967de7",
   "metadata": {
    "scrolled": true,
    "tags": []
   },
   "outputs": [
    {
     "name": "stderr",
     "output_type": "stream",
     "text": [
      "<ipython-input-111-46c2a7bc87de>:8: DeprecationWarning: executable_path has been deprecated, please pass in a Service object\n",
      "  driver = webdriver.Chrome('/Users/heetae/Desktop/chromedriver',options=option)\n"
     ]
    },
    {
     "ename": "StaleElementReferenceException",
     "evalue": "Message: stale element reference: element is not attached to the page document\n  (Session info: chrome=97.0.4692.71)\nStacktrace:\n0   chromedriver                        0x00000001013bd408 __gxx_personality_v0 + 543364\n1   chromedriver                        0x0000000101353138 __gxx_personality_v0 + 108468\n2   chromedriver                        0x0000000100f527d8 chromedriver + 157656\n3   chromedriver                        0x0000000100f55258 chromedriver + 168536\n4   chromedriver                        0x0000000100f550c4 chromedriver + 168132\n5   chromedriver                        0x0000000100f55300 chromedriver + 168704\n6   chromedriver                        0x0000000100f83a90 chromedriver + 359056\n7   chromedriver                        0x0000000100f78c84 chromedriver + 314500\n8   chromedriver                        0x0000000100f7875c chromedriver + 313180\n9   chromedriver                        0x0000000100fab7d4 chromedriver + 522196\n10  chromedriver                        0x0000000100f77238 chromedriver + 307768\n11  chromedriver                        0x0000000101380c7c __gxx_personality_v0 + 295672\n12  chromedriver                        0x0000000101394bd8 __gxx_personality_v0 + 377428\n13  chromedriver                        0x00000001013992b0 __gxx_personality_v0 + 395564\n14  chromedriver                        0x00000001013959f8 __gxx_personality_v0 + 381044\n15  chromedriver                        0x0000000101376754 __gxx_personality_v0 + 253392\n16  chromedriver                        0x00000001013aea38 __gxx_personality_v0 + 483508\n17  chromedriver                        0x00000001013aebac __gxx_personality_v0 + 483880\n18  chromedriver                        0x00000001013c3fec __gxx_personality_v0 + 570984\n19  libsystem_pthread.dylib             0x00000001942dd240 _pthread_start + 148\n20  libsystem_pthread.dylib             0x00000001942d8024 thread_start + 8\n",
     "output_type": "error",
     "traceback": [
      "\u001b[0;31m---------------------------------------------------------------------------\u001b[0m",
      "\u001b[0;31mStaleElementReferenceException\u001b[0m            Traceback (most recent call last)",
      "\u001b[0;32m<ipython-input-111-46c2a7bc87de>\u001b[0m in \u001b[0;36m<module>\u001b[0;34m\u001b[0m\n\u001b[1;32m     21\u001b[0m \u001b[0melement\u001b[0m\u001b[0;34m.\u001b[0m\u001b[0mclick\u001b[0m\u001b[0;34m(\u001b[0m\u001b[0;34m)\u001b[0m\u001b[0;34m\u001b[0m\u001b[0;34m\u001b[0m\u001b[0m\n\u001b[1;32m     22\u001b[0m \u001b[0mtime\u001b[0m\u001b[0;34m.\u001b[0m\u001b[0msleep\u001b[0m\u001b[0;34m(\u001b[0m\u001b[0;36m2\u001b[0m\u001b[0;34m)\u001b[0m\u001b[0;34m\u001b[0m\u001b[0;34m\u001b[0m\u001b[0m\n\u001b[0;32m---> 23\u001b[0;31m \u001b[0melement\u001b[0m\u001b[0;34m.\u001b[0m\u001b[0mclick\u001b[0m\u001b[0;34m(\u001b[0m\u001b[0;34m)\u001b[0m\u001b[0;34m\u001b[0m\u001b[0;34m\u001b[0m\u001b[0m\n\u001b[0m\u001b[1;32m     24\u001b[0m \u001b[0;34m\u001b[0m\u001b[0m\n\u001b[1;32m     25\u001b[0m \u001b[0;31m#페이지 정보 업로드\u001b[0m\u001b[0;34m\u001b[0m\u001b[0;34m\u001b[0m\u001b[0;34m\u001b[0m\u001b[0m\n",
      "\u001b[0;32m~/opt/anaconda3/lib/python3.8/site-packages/selenium/webdriver/remote/webelement.py\u001b[0m in \u001b[0;36mclick\u001b[0;34m(self)\u001b[0m\n\u001b[1;32m     79\u001b[0m     \u001b[0;32mdef\u001b[0m \u001b[0mclick\u001b[0m\u001b[0;34m(\u001b[0m\u001b[0mself\u001b[0m\u001b[0;34m)\u001b[0m \u001b[0;34m->\u001b[0m \u001b[0;32mNone\u001b[0m\u001b[0;34m:\u001b[0m\u001b[0;34m\u001b[0m\u001b[0;34m\u001b[0m\u001b[0m\n\u001b[1;32m     80\u001b[0m         \u001b[0;34m\"\"\"Clicks the element.\"\"\"\u001b[0m\u001b[0;34m\u001b[0m\u001b[0;34m\u001b[0m\u001b[0m\n\u001b[0;32m---> 81\u001b[0;31m         \u001b[0mself\u001b[0m\u001b[0;34m.\u001b[0m\u001b[0m_execute\u001b[0m\u001b[0;34m(\u001b[0m\u001b[0mCommand\u001b[0m\u001b[0;34m.\u001b[0m\u001b[0mCLICK_ELEMENT\u001b[0m\u001b[0;34m)\u001b[0m\u001b[0;34m\u001b[0m\u001b[0;34m\u001b[0m\u001b[0m\n\u001b[0m\u001b[1;32m     82\u001b[0m \u001b[0;34m\u001b[0m\u001b[0m\n\u001b[1;32m     83\u001b[0m     \u001b[0;32mdef\u001b[0m \u001b[0msubmit\u001b[0m\u001b[0;34m(\u001b[0m\u001b[0mself\u001b[0m\u001b[0;34m)\u001b[0m\u001b[0;34m:\u001b[0m\u001b[0;34m\u001b[0m\u001b[0;34m\u001b[0m\u001b[0m\n",
      "\u001b[0;32m~/opt/anaconda3/lib/python3.8/site-packages/selenium/webdriver/remote/webelement.py\u001b[0m in \u001b[0;36m_execute\u001b[0;34m(self, command, params)\u001b[0m\n\u001b[1;32m    708\u001b[0m             \u001b[0mparams\u001b[0m \u001b[0;34m=\u001b[0m \u001b[0;34m{\u001b[0m\u001b[0;34m}\u001b[0m\u001b[0;34m\u001b[0m\u001b[0;34m\u001b[0m\u001b[0m\n\u001b[1;32m    709\u001b[0m         \u001b[0mparams\u001b[0m\u001b[0;34m[\u001b[0m\u001b[0;34m'id'\u001b[0m\u001b[0;34m]\u001b[0m \u001b[0;34m=\u001b[0m \u001b[0mself\u001b[0m\u001b[0;34m.\u001b[0m\u001b[0m_id\u001b[0m\u001b[0;34m\u001b[0m\u001b[0;34m\u001b[0m\u001b[0m\n\u001b[0;32m--> 710\u001b[0;31m         \u001b[0;32mreturn\u001b[0m \u001b[0mself\u001b[0m\u001b[0;34m.\u001b[0m\u001b[0m_parent\u001b[0m\u001b[0;34m.\u001b[0m\u001b[0mexecute\u001b[0m\u001b[0;34m(\u001b[0m\u001b[0mcommand\u001b[0m\u001b[0;34m,\u001b[0m \u001b[0mparams\u001b[0m\u001b[0;34m)\u001b[0m\u001b[0;34m\u001b[0m\u001b[0;34m\u001b[0m\u001b[0m\n\u001b[0m\u001b[1;32m    711\u001b[0m \u001b[0;34m\u001b[0m\u001b[0m\n\u001b[1;32m    712\u001b[0m     \u001b[0;32mdef\u001b[0m \u001b[0mfind_element\u001b[0m\u001b[0;34m(\u001b[0m\u001b[0mself\u001b[0m\u001b[0;34m,\u001b[0m \u001b[0mby\u001b[0m\u001b[0;34m=\u001b[0m\u001b[0mBy\u001b[0m\u001b[0;34m.\u001b[0m\u001b[0mID\u001b[0m\u001b[0;34m,\u001b[0m \u001b[0mvalue\u001b[0m\u001b[0;34m=\u001b[0m\u001b[0;32mNone\u001b[0m\u001b[0;34m)\u001b[0m\u001b[0;34m:\u001b[0m\u001b[0;34m\u001b[0m\u001b[0;34m\u001b[0m\u001b[0m\n",
      "\u001b[0;32m~/opt/anaconda3/lib/python3.8/site-packages/selenium/webdriver/remote/webdriver.py\u001b[0m in \u001b[0;36mexecute\u001b[0;34m(self, driver_command, params)\u001b[0m\n\u001b[1;32m    422\u001b[0m         \u001b[0mresponse\u001b[0m \u001b[0;34m=\u001b[0m \u001b[0mself\u001b[0m\u001b[0;34m.\u001b[0m\u001b[0mcommand_executor\u001b[0m\u001b[0;34m.\u001b[0m\u001b[0mexecute\u001b[0m\u001b[0;34m(\u001b[0m\u001b[0mdriver_command\u001b[0m\u001b[0;34m,\u001b[0m \u001b[0mparams\u001b[0m\u001b[0;34m)\u001b[0m\u001b[0;34m\u001b[0m\u001b[0;34m\u001b[0m\u001b[0m\n\u001b[1;32m    423\u001b[0m         \u001b[0;32mif\u001b[0m \u001b[0mresponse\u001b[0m\u001b[0;34m:\u001b[0m\u001b[0;34m\u001b[0m\u001b[0;34m\u001b[0m\u001b[0m\n\u001b[0;32m--> 424\u001b[0;31m             \u001b[0mself\u001b[0m\u001b[0;34m.\u001b[0m\u001b[0merror_handler\u001b[0m\u001b[0;34m.\u001b[0m\u001b[0mcheck_response\u001b[0m\u001b[0;34m(\u001b[0m\u001b[0mresponse\u001b[0m\u001b[0;34m)\u001b[0m\u001b[0;34m\u001b[0m\u001b[0;34m\u001b[0m\u001b[0m\n\u001b[0m\u001b[1;32m    425\u001b[0m             response['value'] = self._unwrap_value(\n\u001b[1;32m    426\u001b[0m                 response.get('value', None))\n",
      "\u001b[0;32m~/opt/anaconda3/lib/python3.8/site-packages/selenium/webdriver/remote/errorhandler.py\u001b[0m in \u001b[0;36mcheck_response\u001b[0;34m(self, response)\u001b[0m\n\u001b[1;32m    245\u001b[0m                 \u001b[0malert_text\u001b[0m \u001b[0;34m=\u001b[0m \u001b[0mvalue\u001b[0m\u001b[0;34m[\u001b[0m\u001b[0;34m'alert'\u001b[0m\u001b[0;34m]\u001b[0m\u001b[0;34m.\u001b[0m\u001b[0mget\u001b[0m\u001b[0;34m(\u001b[0m\u001b[0;34m'text'\u001b[0m\u001b[0;34m)\u001b[0m\u001b[0;34m\u001b[0m\u001b[0;34m\u001b[0m\u001b[0m\n\u001b[1;32m    246\u001b[0m             \u001b[0;32mraise\u001b[0m \u001b[0mexception_class\u001b[0m\u001b[0;34m(\u001b[0m\u001b[0mmessage\u001b[0m\u001b[0;34m,\u001b[0m \u001b[0mscreen\u001b[0m\u001b[0;34m,\u001b[0m \u001b[0mstacktrace\u001b[0m\u001b[0;34m,\u001b[0m \u001b[0malert_text\u001b[0m\u001b[0;34m)\u001b[0m  \u001b[0;31m# type: ignore[call-arg]  # mypy is not smart enough here\u001b[0m\u001b[0;34m\u001b[0m\u001b[0;34m\u001b[0m\u001b[0m\n\u001b[0;32m--> 247\u001b[0;31m         \u001b[0;32mraise\u001b[0m \u001b[0mexception_class\u001b[0m\u001b[0;34m(\u001b[0m\u001b[0mmessage\u001b[0m\u001b[0;34m,\u001b[0m \u001b[0mscreen\u001b[0m\u001b[0;34m,\u001b[0m \u001b[0mstacktrace\u001b[0m\u001b[0;34m)\u001b[0m\u001b[0;34m\u001b[0m\u001b[0;34m\u001b[0m\u001b[0m\n\u001b[0m\u001b[1;32m    248\u001b[0m \u001b[0;34m\u001b[0m\u001b[0m\n\u001b[1;32m    249\u001b[0m     \u001b[0;32mdef\u001b[0m \u001b[0m_value_or_default\u001b[0m\u001b[0;34m(\u001b[0m\u001b[0mself\u001b[0m\u001b[0;34m,\u001b[0m \u001b[0mobj\u001b[0m\u001b[0;34m:\u001b[0m \u001b[0mMapping\u001b[0m\u001b[0;34m[\u001b[0m\u001b[0m_KT\u001b[0m\u001b[0;34m,\u001b[0m \u001b[0m_VT\u001b[0m\u001b[0;34m]\u001b[0m\u001b[0;34m,\u001b[0m \u001b[0mkey\u001b[0m\u001b[0;34m:\u001b[0m \u001b[0m_KT\u001b[0m\u001b[0;34m,\u001b[0m \u001b[0mdefault\u001b[0m\u001b[0;34m:\u001b[0m \u001b[0m_VT\u001b[0m\u001b[0;34m)\u001b[0m \u001b[0;34m->\u001b[0m \u001b[0m_VT\u001b[0m\u001b[0;34m:\u001b[0m\u001b[0;34m\u001b[0m\u001b[0;34m\u001b[0m\u001b[0m\n",
      "\u001b[0;31mStaleElementReferenceException\u001b[0m: Message: stale element reference: element is not attached to the page document\n  (Session info: chrome=97.0.4692.71)\nStacktrace:\n0   chromedriver                        0x00000001013bd408 __gxx_personality_v0 + 543364\n1   chromedriver                        0x0000000101353138 __gxx_personality_v0 + 108468\n2   chromedriver                        0x0000000100f527d8 chromedriver + 157656\n3   chromedriver                        0x0000000100f55258 chromedriver + 168536\n4   chromedriver                        0x0000000100f550c4 chromedriver + 168132\n5   chromedriver                        0x0000000100f55300 chromedriver + 168704\n6   chromedriver                        0x0000000100f83a90 chromedriver + 359056\n7   chromedriver                        0x0000000100f78c84 chromedriver + 314500\n8   chromedriver                        0x0000000100f7875c chromedriver + 313180\n9   chromedriver                        0x0000000100fab7d4 chromedriver + 522196\n10  chromedriver                        0x0000000100f77238 chromedriver + 307768\n11  chromedriver                        0x0000000101380c7c __gxx_personality_v0 + 295672\n12  chromedriver                        0x0000000101394bd8 __gxx_personality_v0 + 377428\n13  chromedriver                        0x00000001013992b0 __gxx_personality_v0 + 395564\n14  chromedriver                        0x00000001013959f8 __gxx_personality_v0 + 381044\n15  chromedriver                        0x0000000101376754 __gxx_personality_v0 + 253392\n16  chromedriver                        0x00000001013aea38 __gxx_personality_v0 + 483508\n17  chromedriver                        0x00000001013aebac __gxx_personality_v0 + 483880\n18  chromedriver                        0x00000001013c3fec __gxx_personality_v0 + 570984\n19  libsystem_pthread.dylib             0x00000001942dd240 _pthread_start + 148\n20  libsystem_pthread.dylib             0x00000001942d8024 thread_start + 8\n"
     ]
    }
   ],
   "source": [
    "#User_agent check\n",
    "#driver.execute_script('return navigator.userAgent')\n",
    "\n",
    "#do not use images\n",
    "option.add_argument('--blink-settings=imagesEnabled=false')\n",
    "\n",
    "#path driver\n",
    "driver = webdriver.Chrome('/Users/heetae/Desktop/chromedriver',options=option)\n",
    "\n",
    "#url\n",
    "url = 'https://www.yogiyo.co.kr/mobile/?gclid=CjwKCAiAlfqOBhAeEiwAYi43F8ROi2y0U2h8KlBwEuLVkCZMWDoxWDwgv4CeOBQhbvujsiqrsN_9qhoCRL0QAvD_BwE#/465083/'\n",
    "\n",
    "#url 접속\n",
    "response = requests.get(url)\n",
    "\n",
    "driver.get(url)\n",
    "driver.implicitly_wait(10)\n",
    "\n",
    "search_xpath = '//*[@id=\"content\"]/div[2]/div[1]/ul/li[2]/a'\n",
    "element = WebDriverWait(driver, 10).until(EC.presence_of_element_located((By.XPATH,search_xpath)))\n",
    "try:\n",
    "    element.click()\n",
    "except ValueError as m:\n",
    "    print(m)\n",
    "    time.sleep(1)\n",
    "    driver.find_element_by_xpath(search_xpath).click()\n",
    "    \n",
    "\n",
    "#페이지 정보 업로드\n",
    "html = driver.page_source\n",
    "html_source = bs(html, 'html.parser')\n",
    "soup = bs(html, 'html.parser')\n",
    "\n",
    "#리뷰수 파악\n",
    "num = html_source.find_all(\"strong\", attrs = {\"class\":'ng-binding'})\n",
    "review_num=[]\n",
    "for t in num:\n",
    "    review_num.append(t.string)"
   ]
  },
  {
   "cell_type": "code",
   "execution_count": 118,
   "id": "6338dca2-1f45-42d0-ba2d-ed7331557e9d",
   "metadata": {},
   "outputs": [],
   "source": [
    "#총리뷰수 구하기\n",
    "total_review_num = int(review_num[1])\n",
    "\n",
    "#xpath초기화\n",
    "search_xpath=[]\n",
    "\n",
    "#xpath 설정\n",
    "if ((total_review_num//10) >0) :\n",
    "    for i in range(total_review_num//10):\n",
    "        tcp= '//*[@id=\"review\"]/li['+str((i*10+2))+']'\n",
    "        search_xpath.append(tcp)\n",
    "    #xpath로 더보기\n",
    "    for j in range(len(search_xpath)-1):\n",
    "        try:\n",
    "            element = WebDriverWait(driver, 5).until(EC.presence_of_element_located((By.XPATH,search_xpath[j+1])))\n",
    "            element.click()\n",
    "        except ValueError as m:\n",
    "            print('error_ ',j)\n",
    "            print(m)\n",
    "            time.sleep(1)\n",
    "            driver.find_element_by_xpath(search_xpath[j+1]).click()()\n",
    "else:\n",
    "    print('pass')\n",
    "    pass"
   ]
  },
  {
   "cell_type": "code",
   "execution_count": 129,
   "id": "e7fe6786-e5d3-4b35-8947-00a8ffb0f474",
   "metadata": {
    "scrolled": true,
    "tags": []
   },
   "outputs": [
    {
     "ename": "NoSuchWindowException",
     "evalue": "Message: no such window: window was already closed\n  (Session info: chrome=97.0.4692.71)\nStacktrace:\n0   chromedriver                        0x00000001013bd408 __gxx_personality_v0 + 543364\n1   chromedriver                        0x0000000101353138 __gxx_personality_v0 + 108468\n2   chromedriver                        0x0000000100f527d8 chromedriver + 157656\n3   chromedriver                        0x0000000100f43b00 chromedriver + 97024\n4   chromedriver                        0x0000000100f3e4d0 chromedriver + 74960\n5   chromedriver                        0x0000000100faafd8 chromedriver + 520152\n6   chromedriver                        0x0000000100f77238 chromedriver + 307768\n7   chromedriver                        0x0000000101380c7c __gxx_personality_v0 + 295672\n8   chromedriver                        0x0000000101394bd8 __gxx_personality_v0 + 377428\n9   chromedriver                        0x00000001013992b0 __gxx_personality_v0 + 395564\n10  chromedriver                        0x00000001013959f8 __gxx_personality_v0 + 381044\n11  chromedriver                        0x0000000101376754 __gxx_personality_v0 + 253392\n12  chromedriver                        0x00000001013aea38 __gxx_personality_v0 + 483508\n13  chromedriver                        0x00000001013aebac __gxx_personality_v0 + 483880\n14  chromedriver                        0x00000001013c3fec __gxx_personality_v0 + 570984\n15  libsystem_pthread.dylib             0x00000001942dd240 _pthread_start + 148\n16  libsystem_pthread.dylib             0x00000001942d8024 thread_start + 8\n",
     "output_type": "error",
     "traceback": [
      "\u001b[0;31m---------------------------------------------------------------------------\u001b[0m",
      "\u001b[0;31mNoSuchWindowException\u001b[0m                     Traceback (most recent call last)",
      "\u001b[0;32m<ipython-input-129-fc64ab9af580>\u001b[0m in \u001b[0;36m<module>\u001b[0;34m\u001b[0m\n\u001b[1;32m      1\u001b[0m \u001b[0;31m#저장\u001b[0m\u001b[0;34m\u001b[0m\u001b[0;34m\u001b[0m\u001b[0;34m\u001b[0m\u001b[0m\n\u001b[0;32m----> 2\u001b[0;31m \u001b[0mhtml\u001b[0m \u001b[0;34m=\u001b[0m \u001b[0mdriver\u001b[0m\u001b[0;34m.\u001b[0m\u001b[0mpage_source\u001b[0m\u001b[0;34m\u001b[0m\u001b[0;34m\u001b[0m\u001b[0m\n\u001b[0m\u001b[1;32m      3\u001b[0m \u001b[0mhtml_source\u001b[0m \u001b[0;34m=\u001b[0m \u001b[0mbs\u001b[0m\u001b[0;34m(\u001b[0m\u001b[0mhtml\u001b[0m\u001b[0;34m,\u001b[0m \u001b[0;34m'html.parser'\u001b[0m\u001b[0;34m)\u001b[0m\u001b[0;34m\u001b[0m\u001b[0;34m\u001b[0m\u001b[0m\n\u001b[1;32m      4\u001b[0m \u001b[0msoup\u001b[0m \u001b[0;34m=\u001b[0m \u001b[0mbs\u001b[0m\u001b[0;34m(\u001b[0m\u001b[0mhtml\u001b[0m\u001b[0;34m,\u001b[0m \u001b[0;34m'html.parser'\u001b[0m\u001b[0;34m)\u001b[0m\u001b[0;34m\u001b[0m\u001b[0;34m\u001b[0m\u001b[0m\n\u001b[1;32m      5\u001b[0m \u001b[0;34m\u001b[0m\u001b[0m\n",
      "\u001b[0;32m~/opt/anaconda3/lib/python3.8/site-packages/selenium/webdriver/remote/webdriver.py\u001b[0m in \u001b[0;36mpage_source\u001b[0;34m(self)\u001b[0m\n\u001b[1;32m    924\u001b[0m                 \u001b[0mdriver\u001b[0m\u001b[0;34m.\u001b[0m\u001b[0mpage_source\u001b[0m\u001b[0;34m\u001b[0m\u001b[0;34m\u001b[0m\u001b[0m\n\u001b[1;32m    925\u001b[0m         \"\"\"\n\u001b[0;32m--> 926\u001b[0;31m         \u001b[0;32mreturn\u001b[0m \u001b[0mself\u001b[0m\u001b[0;34m.\u001b[0m\u001b[0mexecute\u001b[0m\u001b[0;34m(\u001b[0m\u001b[0mCommand\u001b[0m\u001b[0;34m.\u001b[0m\u001b[0mGET_PAGE_SOURCE\u001b[0m\u001b[0;34m)\u001b[0m\u001b[0;34m[\u001b[0m\u001b[0;34m'value'\u001b[0m\u001b[0;34m]\u001b[0m\u001b[0;34m\u001b[0m\u001b[0;34m\u001b[0m\u001b[0m\n\u001b[0m\u001b[1;32m    927\u001b[0m \u001b[0;34m\u001b[0m\u001b[0m\n\u001b[1;32m    928\u001b[0m     \u001b[0;32mdef\u001b[0m \u001b[0mclose\u001b[0m\u001b[0;34m(\u001b[0m\u001b[0mself\u001b[0m\u001b[0;34m)\u001b[0m \u001b[0;34m->\u001b[0m \u001b[0;32mNone\u001b[0m\u001b[0;34m:\u001b[0m\u001b[0;34m\u001b[0m\u001b[0;34m\u001b[0m\u001b[0m\n",
      "\u001b[0;32m~/opt/anaconda3/lib/python3.8/site-packages/selenium/webdriver/remote/webdriver.py\u001b[0m in \u001b[0;36mexecute\u001b[0;34m(self, driver_command, params)\u001b[0m\n\u001b[1;32m    422\u001b[0m         \u001b[0mresponse\u001b[0m \u001b[0;34m=\u001b[0m \u001b[0mself\u001b[0m\u001b[0;34m.\u001b[0m\u001b[0mcommand_executor\u001b[0m\u001b[0;34m.\u001b[0m\u001b[0mexecute\u001b[0m\u001b[0;34m(\u001b[0m\u001b[0mdriver_command\u001b[0m\u001b[0;34m,\u001b[0m \u001b[0mparams\u001b[0m\u001b[0;34m)\u001b[0m\u001b[0;34m\u001b[0m\u001b[0;34m\u001b[0m\u001b[0m\n\u001b[1;32m    423\u001b[0m         \u001b[0;32mif\u001b[0m \u001b[0mresponse\u001b[0m\u001b[0;34m:\u001b[0m\u001b[0;34m\u001b[0m\u001b[0;34m\u001b[0m\u001b[0m\n\u001b[0;32m--> 424\u001b[0;31m             \u001b[0mself\u001b[0m\u001b[0;34m.\u001b[0m\u001b[0merror_handler\u001b[0m\u001b[0;34m.\u001b[0m\u001b[0mcheck_response\u001b[0m\u001b[0;34m(\u001b[0m\u001b[0mresponse\u001b[0m\u001b[0;34m)\u001b[0m\u001b[0;34m\u001b[0m\u001b[0;34m\u001b[0m\u001b[0m\n\u001b[0m\u001b[1;32m    425\u001b[0m             response['value'] = self._unwrap_value(\n\u001b[1;32m    426\u001b[0m                 response.get('value', None))\n",
      "\u001b[0;32m~/opt/anaconda3/lib/python3.8/site-packages/selenium/webdriver/remote/errorhandler.py\u001b[0m in \u001b[0;36mcheck_response\u001b[0;34m(self, response)\u001b[0m\n\u001b[1;32m    245\u001b[0m                 \u001b[0malert_text\u001b[0m \u001b[0;34m=\u001b[0m \u001b[0mvalue\u001b[0m\u001b[0;34m[\u001b[0m\u001b[0;34m'alert'\u001b[0m\u001b[0;34m]\u001b[0m\u001b[0;34m.\u001b[0m\u001b[0mget\u001b[0m\u001b[0;34m(\u001b[0m\u001b[0;34m'text'\u001b[0m\u001b[0;34m)\u001b[0m\u001b[0;34m\u001b[0m\u001b[0;34m\u001b[0m\u001b[0m\n\u001b[1;32m    246\u001b[0m             \u001b[0;32mraise\u001b[0m \u001b[0mexception_class\u001b[0m\u001b[0;34m(\u001b[0m\u001b[0mmessage\u001b[0m\u001b[0;34m,\u001b[0m \u001b[0mscreen\u001b[0m\u001b[0;34m,\u001b[0m \u001b[0mstacktrace\u001b[0m\u001b[0;34m,\u001b[0m \u001b[0malert_text\u001b[0m\u001b[0;34m)\u001b[0m  \u001b[0;31m# type: ignore[call-arg]  # mypy is not smart enough here\u001b[0m\u001b[0;34m\u001b[0m\u001b[0;34m\u001b[0m\u001b[0m\n\u001b[0;32m--> 247\u001b[0;31m         \u001b[0;32mraise\u001b[0m \u001b[0mexception_class\u001b[0m\u001b[0;34m(\u001b[0m\u001b[0mmessage\u001b[0m\u001b[0;34m,\u001b[0m \u001b[0mscreen\u001b[0m\u001b[0;34m,\u001b[0m \u001b[0mstacktrace\u001b[0m\u001b[0;34m)\u001b[0m\u001b[0;34m\u001b[0m\u001b[0;34m\u001b[0m\u001b[0m\n\u001b[0m\u001b[1;32m    248\u001b[0m \u001b[0;34m\u001b[0m\u001b[0m\n\u001b[1;32m    249\u001b[0m     \u001b[0;32mdef\u001b[0m \u001b[0m_value_or_default\u001b[0m\u001b[0;34m(\u001b[0m\u001b[0mself\u001b[0m\u001b[0;34m,\u001b[0m \u001b[0mobj\u001b[0m\u001b[0;34m:\u001b[0m \u001b[0mMapping\u001b[0m\u001b[0;34m[\u001b[0m\u001b[0m_KT\u001b[0m\u001b[0;34m,\u001b[0m \u001b[0m_VT\u001b[0m\u001b[0;34m]\u001b[0m\u001b[0;34m,\u001b[0m \u001b[0mkey\u001b[0m\u001b[0;34m:\u001b[0m \u001b[0m_KT\u001b[0m\u001b[0;34m,\u001b[0m \u001b[0mdefault\u001b[0m\u001b[0;34m:\u001b[0m \u001b[0m_VT\u001b[0m\u001b[0;34m)\u001b[0m \u001b[0;34m->\u001b[0m \u001b[0m_VT\u001b[0m\u001b[0;34m:\u001b[0m\u001b[0;34m\u001b[0m\u001b[0;34m\u001b[0m\u001b[0m\n",
      "\u001b[0;31mNoSuchWindowException\u001b[0m: Message: no such window: window was already closed\n  (Session info: chrome=97.0.4692.71)\nStacktrace:\n0   chromedriver                        0x00000001013bd408 __gxx_personality_v0 + 543364\n1   chromedriver                        0x0000000101353138 __gxx_personality_v0 + 108468\n2   chromedriver                        0x0000000100f527d8 chromedriver + 157656\n3   chromedriver                        0x0000000100f43b00 chromedriver + 97024\n4   chromedriver                        0x0000000100f3e4d0 chromedriver + 74960\n5   chromedriver                        0x0000000100faafd8 chromedriver + 520152\n6   chromedriver                        0x0000000100f77238 chromedriver + 307768\n7   chromedriver                        0x0000000101380c7c __gxx_personality_v0 + 295672\n8   chromedriver                        0x0000000101394bd8 __gxx_personality_v0 + 377428\n9   chromedriver                        0x00000001013992b0 __gxx_personality_v0 + 395564\n10  chromedriver                        0x00000001013959f8 __gxx_personality_v0 + 381044\n11  chromedriver                        0x0000000101376754 __gxx_personality_v0 + 253392\n12  chromedriver                        0x00000001013aea38 __gxx_personality_v0 + 483508\n13  chromedriver                        0x00000001013aebac __gxx_personality_v0 + 483880\n14  chromedriver                        0x00000001013c3fec __gxx_personality_v0 + 570984\n15  libsystem_pthread.dylib             0x00000001942dd240 _pthread_start + 148\n16  libsystem_pthread.dylib             0x00000001942d8024 thread_start + 8\n"
     ]
    }
   ],
   "source": [
    "#저장\n",
    "html = driver.page_source\n",
    "html_source = bs(html, 'html.parser')\n",
    "soup = bs(html, 'html.parser')\n",
    "\n",
    "#review\n",
    "restaurant_re = html_source.find_all(\"p\", attrs = {\"class\":\"ng-binding\",'ng-bind-html':\"review.comment|strip_html\"})\n",
    "#review_award\n",
    "restaurant_star = html_source.find_all(\"span\", attrs = {\"class\":'total'})"
   ]
  },
  {
   "cell_type": "code",
   "execution_count": 127,
   "id": "f86a47b6-92f7-43a4-9957-9fafabeb54ba",
   "metadata": {},
   "outputs": [],
   "source": [
    "#리뷰만\n",
    "\n",
    "review_list = []\n",
    "result_list = []\n",
    "#데이터 배열\n",
    "for i in restaurant_re:\n",
    "    tmp=re.sub(r'[\\n\\r]+', '',i.string)\n",
    "    tmp=\" \".join(re.compile(r'[가-힣]+|[0-9]+').findall(tmp))\n",
    "    review_list.append(tmp)\n",
    "   "
   ]
  },
  {
   "cell_type": "code",
   "execution_count": 133,
   "id": "3530eddb-567a-41b6-9ba4-10c016a03411",
   "metadata": {},
   "outputs": [],
   "source": [
    "#별점\n",
    "star_tmp=[]\n",
    "for q in restaurant_star:\n",
    "        g=(str(str(q)).count('full ng-scope'))\n",
    "        star_tmp.append(g)"
   ]
  },
  {
   "cell_type": "code",
   "execution_count": 136,
   "id": "1ff20f4a-1456-4479-a0a2-9720940fe22a",
   "metadata": {},
   "outputs": [],
   "source": [
    "#데이터 프레임 형태로 만들기\n",
    "COLUM = 2\n",
    "ROW = len(star_tmp)\n",
    "total = [[0 for i in range(COLUM)] for j in range(ROW)] \n",
    "for i in range(len(review_list)):\n",
    "    total[i][0]=review_list[i]\n",
    "for i in range(len(star_tmp)):\n",
    "    total[i][1]=(star_tmp[i])"
   ]
  },
  {
   "cell_type": "code",
   "execution_count": null,
   "id": "7a276e70-bc6a-48ba-a896-b732ee530200",
   "metadata": {},
   "outputs": [],
   "source": [
    "#함수\n",
    "def yogiyo(url):\n",
    "    response = requests.get(url)\n",
    "\n",
    "    driver.get(url)\n",
    "    driver.implicitly_wait(10)\n",
    "\n",
    "    search_xpath = '//*[@id=\"content\"]/div[2]/div[1]/ul/li[2]/a'\n",
    "    element = WebDriverWait(driver, 10).until(EC.presence_of_element_located((By.XPATH,search_xpath)))\n",
    "    try:\n",
    "        element.click()\n",
    "    except ValueError as m:\n",
    "        print(m)\n",
    "        time.sleep(1)\n",
    "        driver.find_element_by_xpath(search_xpath).click()\n",
    "\n",
    "\n",
    "    #페이지 정보 업로드\n",
    "    html = driver.page_source\n",
    "    html_source = bs(html, 'html.parser')\n",
    "    soup = bs(html, 'html.parser')\n",
    "\n",
    "    #리뷰수 파악\n",
    "    num = html_source.find_all(\"strong\", attrs = {\"class\":'ng-binding'})\n",
    "    review_num=[]\n",
    "    for t in num:\n",
    "        review_num.append(t.string)\n",
    "    #총리뷰수 구하기\n",
    "    total_review_num = int(review_num[1])\n",
    "\n",
    "    #xpath초기화\n",
    "    search_xpath=[]\n",
    "\n",
    "    #xpath 설정\n",
    "    if ((total_review_num//10) >0) :\n",
    "        for i in range(total_review_num//10):\n",
    "            tcp= '//*[@id=\"review\"]/li['+str((i*10+2))+']'\n",
    "            search_xpath.append(tcp)\n",
    "        #xpath로 더보기\n",
    "        for j in range(len(search_xpath)-1):\n",
    "            try:\n",
    "                element = WebDriverWait(driver, 5).until(EC.presence_of_element_located((By.XPATH,search_xpath[j+1])))\n",
    "                element.click()\n",
    "            except ValueError as m:\n",
    "                print('error_ ',j)\n",
    "                print(m)\n",
    "                time.sleep(1)\n",
    "                driver.find_element_by_xpath(search_xpath[j+1]).click()()\n",
    "    else:\n",
    "        print('pass')\n",
    "        pass\n",
    "    #저장\n",
    "    html = driver.page_source\n",
    "    html_source = bs(html, 'html.parser')\n",
    "    soup = bs(html, 'html.parser')\n",
    "\n",
    "    #review\n",
    "    restaurant_re = html_source.find_all(\"p\", attrs = {\"class\":\"ng-binding\",'ng-bind-html':\"review.comment|strip_html\"})\n",
    "    #review_award\n",
    "    restaurant_star = html_source.find_all(\"span\", attrs = {\"class\":'total'})\n",
    "    #리뷰만\n",
    "\n",
    "    review_list = []\n",
    "    result_list = []\n",
    "    #데이터 배열\n",
    "    for i in restaurant_re:\n",
    "        tmp=re.sub(r'[\\n\\r]+', '',i.string)\n",
    "        tmp=\" \".join(re.compile(r'[가-힣]+|[0-9]+').findall(tmp))\n",
    "        review_list.append(tmp)\n",
    "    #별점\n",
    "    star_tmp=[]\n",
    "    for q in restaurant_star:\n",
    "            g=(str(str(q)).count('full ng-scope'))\n",
    "            star_tmp.append(g)\n",
    "    #데이터 프레임 형태로 만들기\n",
    "    COLUM = 2\n",
    "    ROW = len(star_tmp)\n",
    "    total = [[0 for i in range(COLUM)] for j in range(ROW)] \n",
    "    for i in range(len(review_list)):\n",
    "        total[i][0]=review_list[i]\n",
    "    for i in range(len(star_tmp)):\n",
    "        total[i][1]=(star_tmp[i])\n",
    "    "
   ]
  }
 ],
 "metadata": {
  "kernelspec": {
   "display_name": "Python 3",
   "language": "python",
   "name": "python3"
  },
  "language_info": {
   "codemirror_mode": {
    "name": "ipython",
    "version": 3
   },
   "file_extension": ".py",
   "mimetype": "text/x-python",
   "name": "python",
   "nbconvert_exporter": "python",
   "pygments_lexer": "ipython3",
   "version": "3.8.8"
  }
 },
 "nbformat": 4,
 "nbformat_minor": 5
}
